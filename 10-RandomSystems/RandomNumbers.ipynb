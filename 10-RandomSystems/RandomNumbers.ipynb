{
 "cells": [
  {
   "cell_type": "markdown",
   "id": "1987d2d4-a89e-42fd-b979-c76e5fe12798",
   "metadata": {},
   "source": [
    "# Pseudo-random number generation\n",
    "REFS: \n",
    "- Boudreau, Applied Computational Physics\n",
    "- Heath, Scientific Computing\n",
    "- Landau y Paez, Computational physics, problem solving with computers\n",
    "- Anagnostoupulos, A practical introduction to computational physics and scientific computing\n",
    "- Ward, Numerical Mathematicas and Computing\n",
    "\n",
    "A random number routine is a mathematical rule allows to generate random numbers from a star point (seed) , numbers which hopefully are \n",
    "- not correlated\n",
    "- have a long period\n",
    "- are produced efficiently\n",
    "\n",
    "Initial examples are the modulo generators,\n",
    "\n",
    "\\begin{equation}\n",
    "x_i = ax_{i-1} + c(\\textrm{mod}\\, m),\n",
    "\\end{equation}\n",
    "where the constants $a, c, m$ should be chosen with care. For instance, $m$ determines the period. A bad choice for those constant will lead to low period and large correlations. The generation of random numbers efficiently and with quality is an actual research topic, with huge implications from the field of random simulation of physical systems to the field of cryptography.\n"
   ]
  },
  {
   "cell_type": "code",
   "execution_count": null,
   "id": "8f6c0e16-0227-4894-a002-617d6490d439",
   "metadata": {},
   "outputs": [],
   "source": [
    "class random_naive:\n",
    "    def __init__(self, seed):\n",
    "        self.a = 1664525 # 1277\n",
    "        self.c = 1013904223 # 0\n",
    "        self.m = 2**32 # 2**17\n",
    "        self.x = seed\n",
    "        \n",
    "    def r(self):\n",
    "        self.x = (self.a*self.x + self.c)%self.m\n",
    "        return self.x\n"
   ]
  },
  {
   "cell_type": "code",
   "execution_count": null,
   "id": "b1d41a30-faf3-49a6-92f3-c881deb1648e",
   "metadata": {},
   "outputs": [],
   "source": [
    "rnum = random_naive(10)\n",
    "for ii in range(10):\n",
    "    print(rnum.r()/rnum.m)"
   ]
  },
  {
   "cell_type": "markdown",
   "id": "dda8660a-7b99-492b-bc9b-438c805e7668",
   "metadata": {},
   "source": [
    "Unfortunately, this generator produces correlations"
   ]
  },
  {
   "cell_type": "code",
   "execution_count": null,
   "id": "afb77d31-28a4-49b9-84ca-c97145651a92",
   "metadata": {},
   "outputs": [],
   "source": [
    "import numpy as np\n",
    "import matplotlib.pyplot as plt\n",
    "N = 20000\n",
    "rnum = random_naive(1)\n",
    "x = np.ones(N)\n",
    "for ii in range(N):\n",
    "    x[ii] = rnum.r()/rnum.m\n",
    "fig, ax = plt.subplots()\n",
    "ax.scatter(x[0:-1], x[1:], s=0.3)\n"
   ]
  },
  {
   "cell_type": "markdown",
   "id": "70d52ab0-7cd1-4292-8a1b-42582fe63a28",
   "metadata": {},
   "source": [
    "## Numpy random number generator\n",
    "Numpy has a powerfull and high quality random number generator. Some time ago they used the [Mersenne Twister](https://en.wikipedia.org/wiki/Mersenne_Twister) generator, which has a very large period and passes almost all tests successfully, but now they have moved to the PCG64 generator (see https://numpy.org/doc/stable/reference/random/generator.html and https://numpy.org/doc/stable/reference/random/bit_generators/pcg64.html#numpy.random.PCG64 )\n",
    "\n",
    "The following is an example on how to use it (besides using a random seed)"
   ]
  },
  {
   "cell_type": "code",
   "execution_count": null,
   "id": "4ff97da2-bc39-4226-9d88-f6298698d40b",
   "metadata": {},
   "outputs": [],
   "source": [
    "import numpy as np\n",
    "rng = np.random.default_rng(seed=42)\n",
    "N = 20000\n",
    "arr1 = rng.random((N,))\n",
    "fig, ax = plt.subplots()\n",
    "ax.scatter(arr1[0:-1], arr1[1:], s=0.3)"
   ]
  },
  {
   "cell_type": "markdown",
   "id": "2c3058ca-0357-4de1-b28c-857684aa0019",
   "metadata": {},
   "source": [
    "<mark>Exercises</mark>:\n",
    "- [ ] Change the seed: do you notice any change?\n",
    "- [ ] Remove the seed and print the first ten numbers after running the cell several times: are they the same?"
   ]
  },
  {
   "cell_type": "markdown",
   "id": "504994c2-072e-4328-b922-9b47c60d47e7",
   "metadata": {},
   "source": [
    "The numpy random generator produces numbers in $[0, 1)$, which can be transformed into other distributions. Furthermore, numpy also has some distributions already present (see https://numpy.org/doc/stable/reference/random/generator.html#distributions) . If your distribution is not on those already implemented, you will a method to generate variates, like the [Rejection method](https://en.wikipedia.org/wiki/Rejection_sampling#Algorithm), [Ratio of uniforms](https://en.wikipedia.org/wiki/Ratio_of_uniforms), the [inverse transform method](https://en.wikipedia.org/wiki/Inverse_transform_sampling), or [many others](https://en.wikipedia.org/wiki/Non-uniform_random_variate_generation).\n",
    "\n",
    "## Inverse transform method\n",
    "In this case you want to invert the cumulative probability function. Let's say that you have an exponential distribution, whose density is \n",
    "\n",
    "\\begin{equation}\n",
    "f(t) = \\lambda e^{-\\lambda t}, t > 0\n",
    "\\end{equation}\n",
    "\n",
    "whose cumulative distribution is \n",
    "\n",
    "\\begin{equation}\n",
    "F(x) = \\int_0^x f(t) dt = 1 - e^{-\\lambda x}.\n",
    "\\end{equation}\n",
    "\n",
    "Now, the cumulative distribution is in the range $[0, 1]$. If we equate it to a uniform random number in the same interval, $z = F(x)$, then we can invert this expression and obtain $x = F^{-1}(z)$. For the exponential distribution we get\n",
    "\n",
    "\\begin{equation}\n",
    "x = -\\frac{\\ln (1-z)}{\\lambda}\n",
    "\\end{equation}"
   ]
  },
  {
   "cell_type": "code",
   "execution_count": null,
   "id": "34ec4231-d941-437c-8311-3990481f54a2",
   "metadata": {},
   "outputs": [],
   "source": [
    "import numpy as np\n",
    "import matplotlib.pyplot as plt\n",
    "\n",
    "fig, ax = plt.subplots()\n",
    "rng = np.random.default_rng(seed=21)\n",
    "for LAMBDA in [1.23]:#, 2.34, 4.56]: \n",
    "    N = 40000\n",
    "    z = rng.random((N,))\n",
    "    x = -np.log(1-z)/LAMBDA\n",
    "    hist, bin_edges = np.histogram(x, bins=80)\n",
    "    # #ax.plot(x, 'o', ms=0.1)\n",
    "    # ax.plot(bin_edges[:-1], hist, \"-o\", label=rf\"$\\lambda={LAMBDA}$\")\n",
    "    f = hist/(np.sum(hist)*(bin_edges[1:]-bin_edges[0:-1]))\n",
    "    ax.plot(bin_edges[:-1], f, \"-o\", label=rf\"$\\lambda={LAMBDA}$\")\n",
    "    ax.plot(bin_edges[:-1], LAMBDA*np.exp(-LAMBDA*bin_edges[:-1]), \"-o\", label=rf\"$\\lambda={LAMBDA}$\")\n",
    "    \n",
    "ax.legend()"
   ]
  },
  {
   "cell_type": "markdown",
   "id": "e63e4c32-3e3e-490a-9fe3-4b31d009f843",
   "metadata": {},
   "source": [
    "<mark>Exercise:</mark>\n",
    "- [ ] Increase/decrease the number of samples\n",
    "- [ ] Increase/decrease the number of bins\n",
    "- [ ] Fit the data with an exponential function of the form $ae^{-at}$. What is the $a$ value? is what you expect?"
   ]
  },
  {
   "cell_type": "markdown",
   "id": "b0bcfca1-d5b5-4a8d-a34d-60ae6a80e745",
   "metadata": {},
   "source": [
    "## Generating random samples in regions\n",
    "Let's assume that you want to generate random samples uniformly distributed inside the ellipse $x^2 + 4y^2 = 4$.  To do so,\n",
    "\n",
    "1. Generate random numbers $-2 \\le x \\le 2$, and $-1 \\le y \\le 1$, reject those outside the region.\n",
    "2. In other cell, do the same but, to avoid wasting number, generate $|y| \\le \\frac{1}{2}\\sqrt{4-x^2}$.\n",
    "\n",
    "Do you notice any difference?"
   ]
  },
  {
   "cell_type": "code",
   "execution_count": null,
   "id": "c98f0fc9-b808-4fbe-9cf6-6a7515ea82a0",
   "metadata": {
    "deletable": false,
    "nbgrader": {
     "cell_type": "code",
     "checksum": "50c9a02a8354f611ba8ff2b98929309a",
     "grade": false,
     "grade_id": "cell-36cfc6c717ac9d10",
     "locked": false,
     "schema_version": 3,
     "solution": true,
     "task": false
    },
    "tags": []
   },
   "outputs": [],
   "source": [
    "# Solution to point 1\n",
    "import numpy as np\n",
    "import matplotlib.pyplot as plt\n",
    "fig, ax = plt.subplots()\n",
    "\n",
    "rng = np.random.default_rng(seed=21)\n",
    "N = 10000\n",
    "# YOUR CODE HERE\n",
    "raise NotImplementedError()"
   ]
  },
  {
   "cell_type": "code",
   "execution_count": null,
   "id": "4dd8e7ac-bbca-4ba2-9c70-31432c3a866b",
   "metadata": {
    "deletable": false,
    "nbgrader": {
     "cell_type": "code",
     "checksum": "dc322314efb54c33d72bd5e524620f4c",
     "grade": false,
     "grade_id": "cell-e171c800684aa9c7",
     "locked": false,
     "schema_version": 3,
     "solution": true,
     "task": false
    },
    "tags": []
   },
   "outputs": [],
   "source": [
    "%matplotlib inline\n",
    "# Solution to point 2\n",
    "import numpy as np\n",
    "import matplotlib.pyplot as plt\n",
    "fig, ax = plt.subplots()\n",
    "\n",
    "rng = np.random.default_rng(seed=21)\n",
    "N = 10000\n",
    "# YOUR CODE HERE\n",
    "raise NotImplementedError()"
   ]
  },
  {
   "cell_type": "markdown",
   "id": "6080c0fb-98e7-4cd7-ac46-045e452ce288",
   "metadata": {},
   "source": [
    "<mark>Exercises</mark>\n",
    "- [ ] Can you estimate the area from the previous computation (method 1)\n",
    "- [ ] Generate a random sample in the triangular region delimited by the x and y axis and the straight line $y = 1-x$.\n",
    "- [ ] Generate a random uniform sample in the diamond figure with vertexes at $(1, 0), (0, 1), (-1, 0), (0, -1)$.\n",
    "- [ ] Generate a random uniform sample in a sphere, $x^2 + y^2 + z^2 = R^2$. Count the fraction of numbers that are in the first octant. "
   ]
  },
  {
   "cell_type": "markdown",
   "id": "450d2c3c-703d-43e5-805a-40812ddb15a1",
   "metadata": {},
   "source": [
    "## Computing random integrals \n",
    "REF: Ward\n",
    "\n",
    "Computing integrals using random numbers is easy and practical, specially for large dimensions. In the unit interval, one can compute\n",
    "\n",
    "\\begin{equation}\n",
    "\\int_0^1 f(x) dx \\simeq \\frac{1}{n} \\sum_{i=1}^n f(x_i),\n",
    "\\end{equation}\n",
    "\n",
    "so the integral is approximated as the average function value. For a general interval, one has\n",
    "\\begin{equation}\n",
    "\\frac{1}{b-a}\\int_a^b f(x) dx \\simeq \\frac{1}{n} \\sum_{i=1}^n f(x_i),\n",
    "\\end{equation}\n",
    "or , in higher dimensions\n",
    "\\begin{equation}\n",
    "\\frac{1}{8}\\int_1^3\\int_{-1}^1 \\int_0^2 f(x, y, z) dxdydz \\simeq \\frac{1}{n} \\sum_{i=1}^n f(x_i, y_i, z_i).\n",
    "\\end{equation}\n",
    "In general one has\n",
    "\\begin{equation}\n",
    "\\int_A f \\simeq (\\text{measure of}\\ A) \\times (\\text{average of}\\ f\\ \\text{over}\\ n\\ \\text{random points on}\\ A)\n",
    "\\end{equation}"
   ]
  },
  {
   "cell_type": "markdown",
   "id": "575131ab-a304-4c79-8af2-bacf2f05cdb9",
   "metadata": {},
   "source": [
    "### Example\n",
    "Compute the following integral\n",
    "\\begin{equation}\n",
    "\\iint_\\limits{\\Omega}\\sin\\sqrt{\\ln(x+y+1)} dx dy, \n",
    "\\end{equation}\n",
    "where the integration region $\\Omega$ is the disk defined as $(x-1/2)^2 + (y-1/2)^2 \\le 1/4$."
   ]
  },
  {
   "cell_type": "code",
   "execution_count": null,
   "id": "c90a3e90-33fc-40f6-ac85-fa1ad55df81a",
   "metadata": {
    "deletable": false,
    "nbgrader": {
     "cell_type": "code",
     "checksum": "1d839d269bf032eab6ede8a6830126ea",
     "grade": false,
     "grade_id": "cell-31ccacc6c1de78d2",
     "locked": false,
     "schema_version": 3,
     "solution": true,
     "task": false
    },
    "tags": []
   },
   "outputs": [],
   "source": [
    "import numpy as np\n",
    "import matplotlib.pyplot as plt\n",
    "fig, ax = plt.subplots()\n",
    "rng = np.random.default_rng(seed=21)\n",
    "\n",
    "N = 10000\n",
    "# YOUR CODE HERE\n",
    "raise NotImplementedError()\n",
    "# Expected value around 0.57"
   ]
  },
  {
   "cell_type": "markdown",
   "id": "b0ea1395-091c-4166-9327-5e4319224b4b",
   "metadata": {},
   "source": [
    "### Example: Volume\n",
    "Now compute the volume of the following region\n",
    "\n",
    "\\begin{cases}\n",
    "&0 \\le x\\le 1,\\ 0 \\le y\\le 1, \\ 0 \\le z\\le 1, \\\\\n",
    "&x^2 + \\sin y\\le z, \\\\\n",
    "&x  -z + e^y \\le 1.\n",
    "\\end{cases}\n",
    "The expected value is around 0.14"
   ]
  },
  {
   "cell_type": "code",
   "execution_count": null,
   "id": "0e8858a8-a95d-469e-b569-062cb592c219",
   "metadata": {
    "deletable": false,
    "nbgrader": {
     "cell_type": "code",
     "checksum": "652301394269502f693e8993803211da",
     "grade": false,
     "grade_id": "cell-3172584c93afe502",
     "locked": false,
     "schema_version": 3,
     "solution": true,
     "task": false
    },
    "tags": []
   },
   "outputs": [],
   "source": [
    "import numpy as np\n",
    "import matplotlib.pyplot as plt\n",
    "rng = np.random.default_rng(seed=21)\n",
    "\n",
    "N = 10000\n",
    "# YOUR CODE HERE\n",
    "raise NotImplementedError()\n",
    "print(VOLUME)"
   ]
  },
  {
   "cell_type": "markdown",
   "id": "78e274cb-3b23-4623-b258-c369be75e334",
   "metadata": {},
   "source": [
    "<mark>Exercises</mark>\n",
    "- [ ] (Ward) Compute \n",
    "  \\begin{equation}\n",
    "  \\int_0^2\\int_3^6\\int_{-1}^1 (y x^2 + z\\log y + e^x) dx dy dz\n",
    "  \\end{equation}\n",
    "- [ ] Compute the area under the curve $y = e^{-(x+1)^2}$\n",
    "- (Boudreau, 7.8.7) Estimate the volume of an hypersphere in 10 dimensions. The convergence rate is equal to $C/\\sqrt M$, where $M$ is the total number of samples. Estimate the value of $C$. Is it the same for 20 dimensions?\n"
   ]
  },
  {
   "cell_type": "code",
   "execution_count": null,
   "id": "812d96a0-a171-4c75-8b9c-5131b281cd08",
   "metadata": {
    "deletable": false,
    "nbgrader": {
     "cell_type": "code",
     "checksum": "0ced82fdba85ba02e235746a8ba672dc",
     "grade": false,
     "grade_id": "cell-6cf1d5a68776924f",
     "locked": false,
     "schema_version": 3,
     "solution": true,
     "task": false
    },
    "tags": []
   },
   "outputs": [],
   "source": [
    "# YOUR CODE HERE\n",
    "raise NotImplementedError()"
   ]
  },
  {
   "cell_type": "markdown",
   "id": "d0c16737-6801-4ad8-bbd0-4f7ce241738b",
   "metadata": {},
   "source": [
    "## A first simulation: the random walk\n",
    "The so-called [MonteCarlo methods](https://en.wikipedia.org/wiki/Monte_Carlo_method) are computational methods that use random numbers to perform computations or simulations. Applications are extense, from traffic simulations, to atomic systems, to pedestrian crowds, to probabilistic computations, to neutron scattering in nuclear shielding, to materials design, and so on. \n",
    "\n",
    "Up to now, we have used random numbers to perform some computations. Now let's simulate a very simple process ,as an introduction to the field of MonteCarlo: the [random walk](https://en.wikipedia.org/wiki/Random_walk), which is an example of [random process](https://en.wikipedia.org/wiki/Stochastic_process). \n",
    "\n",
    "We will define a grid, and our walker will chose the next position at random. We are interested in computing the mean squared distance as function of time, which is related with a diffusion process."
   ]
  },
  {
   "cell_type": "code",
   "execution_count": null,
   "id": "10b48635-edd0-45a0-80f6-c3abc965fc0d",
   "metadata": {
    "deletable": false,
    "nbgrader": {
     "cell_type": "code",
     "checksum": "3e032d393bad0f9f936480db65cb0182",
     "grade": false,
     "grade_id": "cell-6d8a2e0127c0f488",
     "locked": false,
     "schema_version": 3,
     "solution": true,
     "task": false
    },
    "tags": []
   },
   "outputs": [],
   "source": [
    "import numpy as np\n",
    "\n",
    "import matplotlib.pyplot as plt\n",
    "def random_walk(seed, nsteps, ax):\n",
    "    rng = np.random.default_rng(seed=seed)\n",
    "    x = np.zeros(nsteps)\n",
    "    y = np.zeros(nsteps)\n",
    "    # YOUR CODE HERE\n",
    "    raise NotImplementedError()\n",
    "    ax.plot(x, y)\n",
    "    \n",
    "NSTEPS = 10000\n",
    "fig, ax = plt.subplots()\n",
    "random_walk(10, NSTEPS, ax)\n",
    "random_walk(2, NSTEPS, ax)\n",
    "random_walk(7, NSTEPS, ax)\n",
    "\n"
   ]
  },
  {
   "cell_type": "markdown",
   "id": "95ba6b49-3dba-4dc1-ba9d-b6cbee1cbc0b",
   "metadata": {},
   "source": [
    "<mark>Exercise</mark>\n",
    "- [ ] Compute the mean squared distance as a function of time\n",
    "- [ ] Simulate a 3D random walk\n",
    "- [ ] Simulate a loaded dice with the following probabilities. Perform 10000 throws and plot the final distribution.\n",
    "| Outcome      | 1 | 2| 3| 4| 5| 6|\n",
    "|-|-|-|-|-|-|-|\n",
    "| Probability  | 0.2 | 0.14 | 0.22 | 0.16 | 0.17 | 0.11|"
   ]
  },
  {
   "cell_type": "code",
   "execution_count": null,
   "id": "fc504527-1772-407c-9ff3-9e3e1a72ef00",
   "metadata": {},
   "outputs": [],
   "source": []
  }
 ],
 "metadata": {
  "kernelspec": {
   "display_name": "Python 3 (ipykernel)",
   "language": "python",
   "name": "python3"
  },
  "language_info": {
   "codemirror_mode": {
    "name": "ipython",
    "version": 3
   },
   "file_extension": ".py",
   "mimetype": "text/x-python",
   "name": "python",
   "nbconvert_exporter": "python",
   "pygments_lexer": "ipython3",
   "version": "3.12.8"
  }
 },
 "nbformat": 4,
 "nbformat_minor": 5
}
