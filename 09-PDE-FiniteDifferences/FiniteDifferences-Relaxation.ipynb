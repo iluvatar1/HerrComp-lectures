{
 "cells": [
  {
   "cell_type": "markdown",
   "id": "aea07215-d881-4598-843b-1be1485f9118",
   "metadata": {},
   "source": [
    "# Partial Differential equations: Finite differences\n",
    "---\n",
    "REFS:\n",
    "- Franklin, Computational methods for Physics\n",
    "- Landau y Paez, Computational physics\n",
    "- Boudreau et al, Applied Computational Physics\n",
    "---\n",
    "The following is an example of an elliptical differential equation, determined by the boundary conditions :\n",
    "\n",
    "\\begin{equation}\n",
    "\\nabla^2 V = \\left[ \\frac{\\partial^2 V}{\\partial x^2} + \\frac{\\partial^2 V}{\\partial y^2} + \\frac{\\partial^2 V}{\\partial z^2}\\right] = -\\frac{\\rho}{\\epsilon_0}\n",
    "\\end{equation}\n",
    "\n",
    "In 2D, there are several solutions and the actual one depends on the boundary conditions. For example, for the Laplace equation you have\n",
    "\n",
    "\\begin{align}\n",
    "V(x, y) & = V_0,\\\\\n",
    "V(x, y) & = \\frac{1}{2} A (x^2 - y^2) + Bx + Cy + D\n",
    "\\end{align}\n",
    "as solutions. \n",
    "\n",
    "A [finite difference](https://en.wikipedia.org/wiki/Finite_difference) method discretizes the derivatives on a grid. For instance, using the central difference it is possible to rewrite the 2D Poisson equation as ([Laplace equation](https://en.wikipedia.org/wiki/Laplace%27s_equation) corresponds to $\\rho = 0$ )\n",
    "\n",
    "\\begin{equation}\n",
    "\\frac{V(x_i + \\Delta x, y_j) - 2V(x_i, y_j) + V(x_i - \\Delta x, y_j)}{\\Delta x^2} +\\frac{V(x_i, y_j + \\Delta y) - 2V(x_i, y_j) + V(x_i, y_j - \\Delta y)}{\\Delta y^2} = -\\frac{\\rho(x_i, y_j)}{\\epsilon_0}.\n",
    "\\end{equation}\n",
    "\n",
    "which can be rewritten as  (let's assume $\\Delta x = \\Delta y = \\Delta$)\n",
    "\n",
    "\\begin{equation}\n",
    "\\frac{V_{i+1, j} - 2V_{i, j} + V_{i-1, j}}{\\Delta^2} + \\frac{V_{i,j+1} - 2V_{i, j} + V_{i, j-1}}{\\Delta^2} = -\\frac{\\rho_{i, j}}{\\epsilon_0},\n",
    "\\end{equation}\n",
    "\n",
    "and, therefore\n",
    "\n",
    "\\begin{equation}\n",
    "V_{i+1, j} + V_{i-1, j} + V_{i,j+1} + V_{i, j-1} - 4V_{i, j} = -\\frac{\\rho_{i, j}\\Delta^2}{\\epsilon_0}.\n",
    "\\end{equation}\n",
    "\n",
    "This can be seen in two ways: as a matrix equation or as an equation showing that the value at a given position, $V_{i, j}$, is kind of an average of the surrounding neighbors and the source term ([Jacobi method](https://en.wikipedia.org/wiki/Jacobi_method)), as seen (ref: https://barbagroup.github.io/essential_skills_RRC/laplace/1/#laplaces-equation)\n",
    "\n",
    "<img src=\"https://barbagroup.github.io/essential_skills_RRC/laplace/figures/laplace.svg\" alt=\"adads\" width=\"50%\" align=\"center\">\n",
    "\n",
    "<!-- <img src=\"https://barbagroup.github.io/essential_skills_RRC/laplace/figures/laplace.svg\"> -->\n",
    "\n",
    "The first approach can be solved by using the typical matrix methods (on the banded matrix obtained), while the second one gives raise to the [relaxation method](https://en.wikipedia.org/wiki/Relaxation_(iterative_method)), where you sweep the matrix several times until stabilization is achieved. \n",
    "\n"
   ]
  },
  {
   "cell_type": "markdown",
   "id": "b1f0e5cd-8434-4571-a681-3928bd443ee8",
   "metadata": {},
   "source": [
    "## Relaxation solution\n",
    "Let's solve the Laplace problem ($\\rho = 0$) using both methods with a simple example. Fix the boundaries as\n",
    "\n",
    "\\begin{align}\n",
    "V(x, 0) &= \\sin(\\pi x),\\\\\n",
    "V(x, a) &= 0, \\\\\n",
    "V(0, y) &= 0, \\\\\n",
    "V(a, y) &= 0, \\\\\n",
    "\\end{align}\n",
    "\n",
    "with $x, y \\in [0, 1]$, and $a $ any value on the border. These are called [Dirichlet boundary conditions](https://en.wikipedia.org/wiki/Dirichlet_boundary_condition) (where you specify the function values at the boundary). Finally, use at least $N_x = N_y = 25$, so $\\Delta = 1/25$, $x_i = x_0 + i\\Delta, y_j = y_0 + j\\Delta$. We need to solve the equation\n",
    "\n",
    "\\begin{equation}\n",
    "V_{i, j} = \\frac{V_{i+1, j} + V_{i-1, j} + V_{i,j+1} + V_{i, j-1}}{4}.\n",
    "\\end{equation}\n",
    "\n",
    "To do so, we apply this relationship to each point in the grid, without overwriting the boundary conditions, and we do that until the values are not changing much. Firs, let's define the problem conditions (to be changed later)"
   ]
  },
  {
   "cell_type": "code",
   "execution_count": null,
   "id": "3ce78841-9e84-4e83-8b27-52cd115fed9c",
   "metadata": {},
   "outputs": [],
   "source": [
    "# Global problem definition\n",
    "import numpy as np\n",
    "def setup_problem(N):\n",
    "    XMIN = 0.0\n",
    "    YMIN = 0.0\n",
    "    DELTA = 1.0/N\n",
    "    X = XMIN + DELTA*np.arange(0, N)\n",
    "    Y = XMIN + DELTA*np.arange(0, N)\n",
    "    return X, Y"
   ]
  },
  {
   "cell_type": "markdown",
   "id": "ce2d8620-a289-4ed6-8fb3-b2b38bb1f493",
   "metadata": {},
   "source": [
    "Now create a function for the boundary conditions"
   ]
  },
  {
   "cell_type": "code",
   "execution_count": null,
   "id": "44c3693f-dbda-41aa-8a9a-b9fd467dc653",
   "metadata": {
    "deletable": false,
    "nbgrader": {
     "cell_type": "code",
     "checksum": "11fe3bcd5bf3ece1f176c352dd5736cd",
     "grade": false,
     "grade_id": "cell-d045a3e0bc338bb7",
     "locked": false,
     "schema_version": 3,
     "solution": true,
     "task": false
    },
    "tags": []
   },
   "outputs": [],
   "source": [
    "# Boundary conditions\n",
    "def bc(matrix, x, y):\n",
    "    # YOUR CODE HERE\n",
    "    raise NotImplementedError()"
   ]
  },
  {
   "cell_type": "markdown",
   "id": "7f872d8d-99a6-4f09-a52c-1ffab51f8f4e",
   "metadata": {},
   "source": [
    "And this will be a simple example for single iteration step. In this case, we are avoiding the external walls since they are boundary conditions. We are using the fast numpy notation (see also https://becksteinlab.physics.asu.edu/learning/76/phy494-computational-physics?wchannelid=bp7lsp6dmx&wmediaid=284owsl3dp), but of course you can use loops (specially for more complex boundary problems)"
   ]
  },
  {
   "cell_type": "code",
   "execution_count": null,
   "id": "7823c844-9854-4166-9002-7af9b81b7647",
   "metadata": {
    "deletable": false,
    "nbgrader": {
     "cell_type": "code",
     "checksum": "0720b4bcc4c93d3ef247431c63ea2067",
     "grade": false,
     "grade_id": "cell-3819fd7ef57b4c54",
     "locked": false,
     "schema_version": 3,
     "solution": true,
     "task": false
    },
    "tags": []
   },
   "outputs": [],
   "source": [
    "# Full iteration using for loops\n",
    "def jacobiITER(matrix):\n",
    "    # YOUR CODE HERE\n",
    "    raise NotImplementedError()\n",
    "    \n"
   ]
  },
  {
   "cell_type": "code",
   "execution_count": null,
   "id": "53e001d6-7852-4c66-9c26-e99dcc782456",
   "metadata": {
    "deletable": false,
    "nbgrader": {
     "cell_type": "code",
     "checksum": "c43df03550731bdc7761c0f28f31e4f8",
     "grade": false,
     "grade_id": "cell-b68bddd70f5eeb7f",
     "locked": false,
     "schema_version": 3,
     "solution": true,
     "task": false
    }
   },
   "outputs": [],
   "source": [
    "# Full iteration using only numpy indexing\n",
    "def jacobi(matrix):\n",
    "    # YOUR CODE HERE\n",
    "    raise NotImplementedError()\n",
    "    \n"
   ]
  },
  {
   "cell_type": "markdown",
   "id": "2abc70fc-6099-4579-996f-2ffe5c26d51d",
   "metadata": {},
   "source": [
    "Finally, let's perform some iterations to check if the system is converging somewhere"
   ]
  },
  {
   "cell_type": "code",
   "execution_count": null,
   "id": "60ef8dbf-12f5-4381-afe6-9c167f56a060",
   "metadata": {},
   "outputs": [],
   "source": [
    "import time\n",
    "def solve_system(N, niter, iter_method):\n",
    "    X, Y = setup_problem(N)\n",
    "    V = np.zeros((N, N))\n",
    "    bc(V, X, Y)\n",
    "    # Example iteration\n",
    "    for step in range(niter):\n",
    "        #print(V)\n",
    "        t0 = time.time()\n",
    "        iter_method(V)\n",
    "        t1 = time.time()\n",
    "        print(f\"Total time iterating: {t1-t0}\")\n",
    "        #print(V)\n",
    "        #print()"
   ]
  },
  {
   "cell_type": "code",
   "execution_count": null,
   "id": "585f5b99-bfc8-44a2-9822-7a583bf74ba8",
   "metadata": {},
   "outputs": [],
   "source": [
    "solve_system(N=500, niter=10, iter_method=jacobiITER)\n",
    "#solve_system(N=500, niter=10, iter_method=jacobi)"
   ]
  },
  {
   "cell_type": "markdown",
   "id": "b0026c5e-9344-4a4a-8d89-fc64cca3d4bc",
   "metadata": {},
   "source": [
    "Or let's check it  graphically"
   ]
  },
  {
   "cell_type": "code",
   "execution_count": null,
   "id": "602029df-84d5-4ca1-850b-65b302690355",
   "metadata": {},
   "outputs": [],
   "source": [
    "import matplotlib.pyplot as plt\n",
    "import numpy as np\n",
    "def solve_system(N, niter, iter_method, NDISPLAY=2):\n",
    "    # figs setup\n",
    "    NCOLS = 4\n",
    "    NROWS = int(((niter/NDISPLAY)/NCOLS))\n",
    "    if ((niter/NDISPLAY)%NCOLS) != 0:\n",
    "        NROWS += 1\n",
    "    fig, ax = plt.subplots(NROWS, NCOLS, sharex=True, sharey=True, figsize=(15, 15))\n",
    "    ax = ax.flatten()\n",
    "    # Problem setup\n",
    "    X, Y = setup_problem(N)\n",
    "    V = np.zeros((N, N))\n",
    "    bc(V, X, Y)\n",
    "    # Example iteration\n",
    "    idisplay= 0\n",
    "    for step in range(niter):\n",
    "        if step%NDISPLAY == 0:\n",
    "            # ax[idisplay].set_title(step)\n",
    "            # ax[idisplay].imshow(V)\n",
    "            ax[idisplay].set_aspect('equal', 'box')\n",
    "            ax[idisplay].pcolormesh(V)\n",
    "            ax[idisplay].set_title(f\"niter={niter}\")\n",
    "            CS = ax[idisplay].contour(V, cmap='Blues')\n",
    "            ax[idisplay].clabel(CS, CS.levels, inline=True)\n",
    "            idisplay += 1\n",
    "        iter_method(V)\n"
   ]
  },
  {
   "cell_type": "code",
   "execution_count": null,
   "id": "b985d1bf-89bf-43d9-a64c-9d008ece34f0",
   "metadata": {},
   "outputs": [],
   "source": [
    "solve_system(N=20, niter=200, iter_method=jacobi, NDISPLAY=20)"
   ]
  },
  {
   "cell_type": "markdown",
   "id": "f5cdd4ec-3dfe-4fcf-a145-79f658e66ced",
   "metadata": {},
   "source": [
    "To have a quantitative relaxation index, we could compare the new values with the old ones, so let's redefine the iteration step method to return the estimator "
   ]
  },
  {
   "cell_type": "code",
   "execution_count": null,
   "id": "7cb717e2-a7ba-4186-b122-365924497415",
   "metadata": {
    "deletable": false,
    "nbgrader": {
     "cell_type": "code",
     "checksum": "448bec0e14ffec61fa13323b78a9f7dc",
     "grade": false,
     "grade_id": "cell-ff209a01d5410e55",
     "locked": false,
     "schema_version": 3,
     "solution": true,
     "task": false
    },
    "tags": []
   },
   "outputs": [],
   "source": [
    "def jacobi2(matrix):\n",
    "    matrix_old = matrix.copy() # Might be slow, creates copies all the time\n",
    "    # YOUR CODE HERE\n",
    "    raise NotImplementedError()\n",
    "    \n"
   ]
  },
  {
   "cell_type": "code",
   "execution_count": null,
   "id": "e5813104-05c7-4215-bd52-bd9789dfc425",
   "metadata": {
    "tags": []
   },
   "outputs": [],
   "source": [
    "def solve_system(N, niter, iter_method):\n",
    "    X, Y = setup_problem(N)\n",
    "    V = np.zeros((N, N))\n",
    "    bc(V, X, Y)\n",
    "    diff = np.zeros(niter)\n",
    "    # Example iteration\n",
    "    for step in range(niter):\n",
    "        diff[step] = iter_method(V)\n",
    "    return diff"
   ]
  },
  {
   "cell_type": "code",
   "execution_count": null,
   "id": "687d72ea-1c90-4f48-ad55-c6d413efa5b4",
   "metadata": {},
   "outputs": [],
   "source": [
    "diff = solve_system(N=5, niter=200, iter_method=jacobi2)\n",
    "plt.plot(diff)\n",
    "plt.xscale(\"log\")\n",
    "plt.yscale(\"log\")"
   ]
  },
  {
   "cell_type": "markdown",
   "id": "6941af10-714b-4b55-a502-2431d60e37e8",
   "metadata": {},
   "source": [
    "Notice that the convergence depends strongly on the space resolution:"
   ]
  },
  {
   "cell_type": "code",
   "execution_count": null,
   "id": "cb74623c-b4a4-4ec2-8043-c2b9f216a639",
   "metadata": {},
   "outputs": [],
   "source": [
    "for N in [5, 7, 10, 20, 50 , 100, 200, 500]:\n",
    "    print(N)\n",
    "    diff = solve_system(N=N, niter=1000, iter_method=jacobi2)\n",
    "    plt.plot(diff, label=f\"{N=}\")\n",
    "plt.xscale(\"log\")\n",
    "plt.yscale(\"log\")\n",
    "plt.legend()"
   ]
  },
  {
   "cell_type": "markdown",
   "id": "bb00e895-970b-4797-bb5d-5b3a196eeb57",
   "metadata": {},
   "source": [
    "We can also use the Gauss-Seidel approach by overwriting the original matrix (and even SOR) to speed up convergence \n",
    "\n",
    "<img src=\"https://aquaulb.github.io/book_solving_pde_mooc/_images/GSgrid_e.png\" width=400> \n",
    "\n",
    "REF: [https://aquaulb.github.io/book_solving_pde_mooc/solving_pde_mooc/notebooks/05_IterativeMethods/05_01_Iteration_and_2D.html](https://aquaulb.github.io/book_solving_pde_mooc/solving_pde_mooc/notebooks/05_IterativeMethods/05_01_Iteration_and_2D.html)\n",
    "\n",
    "You might need to use a for loop"
   ]
  },
  {
   "cell_type": "code",
   "execution_count": null,
   "id": "424b7b66-7aa2-42b0-9cf6-f1c557b1d68a",
   "metadata": {
    "deletable": false,
    "nbgrader": {
     "cell_type": "code",
     "checksum": "4d9aa012d6823d52b9d62b14e465f33f",
     "grade": false,
     "grade_id": "cell-9a0f72052bf828fb",
     "locked": false,
     "schema_version": 3,
     "solution": true,
     "task": false
    },
    "tags": []
   },
   "outputs": [],
   "source": [
    "def gs(matrix):\n",
    "    matrix_old = matrix.copy() # Might be slow, creates copies all the time\n",
    "    N = matrix.shape[0]\n",
    "    # YOUR CODE HERE\n",
    "    raise NotImplementedError()\n",
    "    \n"
   ]
  },
  {
   "cell_type": "code",
   "execution_count": null,
   "id": "2c04b8d1-d2cb-4816-bff1-2d4af1e7e091",
   "metadata": {},
   "outputs": [],
   "source": [
    "for N in [5, 7, 10, 20, 50 , 100, 200, 500]:\n",
    "    print(N)\n",
    "    diff = solve_system(N=N, niter=1000, iter_method=gs)\n",
    "    plt.plot(diff, label=f\"{N=}\")\n",
    "plt.xscale(\"log\")\n",
    "plt.yscale(\"log\")\n",
    "plt.legend()"
   ]
  },
  {
   "cell_type": "markdown",
   "id": "af99468f-a2d3-416b-a21f-ad5712c94b8e",
   "metadata": {},
   "source": [
    "## A performance discussion "
   ]
  },
  {
   "cell_type": "markdown",
   "id": "42b19b88-aeae-410a-b078-41b518109f3a",
   "metadata": {},
   "source": [
    "But this loop version is very slow. When you need to optimize something, you need to measure it (using profilers). Here we will use https://jakevdp.github.io/PythonDataScienceHandbook/01.07-timing-and-profiling.html  and https://mortada.net/easily-profile-python-code-in-jupyter.html . "
   ]
  },
  {
   "cell_type": "code",
   "execution_count": null,
   "id": "8a8b04ca-178a-48b5-b6f8-5b2e6d814eb7",
   "metadata": {},
   "outputs": [],
   "source": [
    "%%timeit\n",
    "tmp = solve_system(N=50, niter=100, iter_method=gs)"
   ]
  },
  {
   "cell_type": "markdown",
   "id": "5b2f3824-897b-44a3-b088-1cf655e1148a",
   "metadata": {},
   "source": [
    "We can optimize with `numba` (see https://stackoverflow.com/questions/61161072/optimizing-vectorized-operations-made-by-sections-in-numpy): "
   ]
  },
  {
   "cell_type": "code",
   "execution_count": null,
   "id": "d5655c50-163b-48d7-9973-9f2900612c0a",
   "metadata": {},
   "outputs": [],
   "source": [
    "#!conda install -y numba\n",
    "#!pip install -y numba\n",
    "!uv pip install numba numpy==2.0\n"
   ]
  },
  {
   "cell_type": "code",
   "execution_count": null,
   "id": "b64aa0f9-08a4-4834-9f7b-b47da6fb6c7f",
   "metadata": {
    "deletable": false,
    "nbgrader": {
     "cell_type": "code",
     "checksum": "a706e57509b9344b6722099574515809",
     "grade": false,
     "grade_id": "cell-79e7d28b691770e5",
     "locked": false,
     "schema_version": 3,
     "solution": true,
     "task": false
    },
    "tags": []
   },
   "outputs": [],
   "source": [
    "# YOUR CODE HERE\n",
    "raise NotImplementedError()"
   ]
  },
  {
   "cell_type": "code",
   "execution_count": null,
   "id": "d961e00d-7ea1-4dce-9a91-fda8a8def648",
   "metadata": {},
   "outputs": [],
   "source": [
    "%%timeit \n",
    "tmp = solve_system(N=50, niter=100, iter_method=gs_opt)"
   ]
  },
  {
   "cell_type": "code",
   "execution_count": null,
   "id": "283dec56-5d24-492b-942e-0e40427b553e",
   "metadata": {},
   "outputs": [],
   "source": [
    "for N in [5, 7, 10, 20, 50 , 100, 200, 500]:\n",
    "    print(N)\n",
    "    diff = solve_system(N=N, niter=1000, iter_method=gs_opt)\n",
    "    plt.plot(diff, label=f\"{N=}\")\n",
    "plt.xscale(\"log\")\n",
    "plt.yscale(\"log\")\n",
    "plt.legend()"
   ]
  },
  {
   "cell_type": "markdown",
   "id": "0f72672e-c966-4f9f-b291-8da1ce295824",
   "metadata": {},
   "source": [
    "## Plotting the solution\n",
    "Now let's plot the actual solution"
   ]
  },
  {
   "cell_type": "code",
   "execution_count": null,
   "id": "f38d246c-38d1-41cb-8d49-0c63083d0b6f",
   "metadata": {},
   "outputs": [],
   "source": [
    "def solve_system(N, niter, iter_method):\n",
    "    X, Y = setup_problem(N)\n",
    "    V = np.zeros((N, N))\n",
    "    bc(V, X, Y)\n",
    "    diff = np.zeros(niter)\n",
    "    # Example iteration\n",
    "    for step in range(niter):\n",
    "        diff[step] = iter_method(V)\n",
    "    return V"
   ]
  },
  {
   "cell_type": "code",
   "execution_count": null,
   "id": "14be38fd-950b-4558-9633-327536dab8f8",
   "metadata": {},
   "outputs": [],
   "source": [
    "fig, ax = plt.subplots(2, 3, figsize=(8,6))\n",
    "ax = ax.flatten()\n",
    "for ii, niter in enumerate([5, 10, 100, 1000, 5000, 10000]):\n",
    "    V = solve_system(N=50, niter=niter, iter_method=gs_opt)\n",
    "    ax[ii].set_aspect('equal', 'box')\n",
    "    ax[ii].pcolormesh(V)\n",
    "    ax[ii].set_title(f\"niter={niter}\")\n",
    "    CS = ax[ii].contour(V, cmap='Blues')\n",
    "    ax[ii].clabel(CS, CS.levels, inline=True)\n",
    "fig.tight_layout()\n",
    "fig.savefig(\"potential.pdf\")\n"
   ]
  },
  {
   "cell_type": "markdown",
   "id": "bd6ca08f-59f0-4b1c-b15a-ae1aa1efec8a",
   "metadata": {},
   "source": [
    "## Exercise: Plane capacitor\n",
    "Now , besides the given boundary conditions, add two lines representing a plane capacitor, with opposite voltages of $\\pm 3$ volts, with length $2L_y/3$, at $L_x/3$ and $2L_x/3$. Plot the final solution as a 2D map and as a 3D map. "
   ]
  },
  {
   "cell_type": "code",
   "execution_count": null,
   "id": "17fca36d-7ab7-4247-ba1c-e7324aa48666",
   "metadata": {
    "deletable": false,
    "nbgrader": {
     "cell_type": "code",
     "checksum": "55ed82328a2ccd7f26ca8bac834eb697",
     "grade": false,
     "grade_id": "cell-642b6372655e8e1e",
     "locked": false,
     "schema_version": 3,
     "solution": true,
     "task": false
    },
    "tags": []
   },
   "outputs": [],
   "source": [
    "# YOUR CODE HERE\n",
    "raise NotImplementedError()"
   ]
  },
  {
   "cell_type": "markdown",
   "id": "59d90332-f541-4f82-a154-76d70672889e",
   "metadata": {},
   "source": [
    "## Exercise: circular ring\n",
    "Now , besides the given boundary conditions, add a circular ring with constant voltage of 3 volts and radius $L_x/4$. Plot the final solution as a 2D map and as a 3D map. "
   ]
  },
  {
   "cell_type": "code",
   "execution_count": null,
   "id": "4e54da00-4640-456a-85b7-c8f92fd60037",
   "metadata": {
    "deletable": false,
    "nbgrader": {
     "cell_type": "code",
     "checksum": "79f99a0b779fb20701049e08ea2d387d",
     "grade": false,
     "grade_id": "cell-b5d81210d5138758",
     "locked": false,
     "schema_version": 3,
     "solution": true,
     "task": false
    },
    "tags": []
   },
   "outputs": [],
   "source": [
    "# YOUR CODE HERE\n",
    "raise NotImplementedError()"
   ]
  },
  {
   "cell_type": "markdown",
   "id": "a84ce204-cae5-46e0-8dcd-ed3f00f656f0",
   "metadata": {},
   "source": [
    "## Exercise: Plot the electrical field\n",
    "For any of the previous examples, use (for example) a quiver plot to plot the electric field, defined as\n",
    "\\begin{equation}\n",
    "\\vec E = -\\vec\\nabla V\n",
    "\\end{equation}\n",
    "See https://nbviewer.org/urls/www.numfys.net/media/notebooks/relaxation_methods.ipynb"
   ]
  },
  {
   "cell_type": "code",
   "execution_count": null,
   "id": "f211555c-17ec-4659-8564-de9ba390960e",
   "metadata": {
    "deletable": false,
    "nbgrader": {
     "cell_type": "code",
     "checksum": "a305da597dd28f740eb7e05f3e65e942",
     "grade": false,
     "grade_id": "cell-ee122b8b9b834744",
     "locked": false,
     "schema_version": 3,
     "solution": true,
     "task": false
    },
    "tags": []
   },
   "outputs": [],
   "source": [
    "# YOUR CODE HERE\n",
    "raise NotImplementedError()"
   ]
  },
  {
   "cell_type": "markdown",
   "id": "d8fc02ab-b13b-45e0-aff6-2d653de8b049",
   "metadata": {},
   "source": [
    "## Exercise: Add two square charges\n",
    "Solve the Poisson equation with two square charges of size $L_x/10$ on the diagonal. Use $\\epsilon_0 = 1$"
   ]
  },
  {
   "cell_type": "code",
   "execution_count": null,
   "id": "37a9536e-9c7b-418c-b0aa-c4c8a7fae101",
   "metadata": {},
   "outputs": [],
   "source": []
  },
  {
   "cell_type": "markdown",
   "id": "d2f84ed1-5357-4bb1-a7b3-902e1ce1741c",
   "metadata": {},
   "source": [
    "## Exercise: Implement over-relaxation\n",
    "Calibrate $\\omega$  (see https://en.wikipedia.org/wiki/Successive_over-relaxation)"
   ]
  },
  {
   "cell_type": "code",
   "execution_count": null,
   "id": "76e0658a-18d2-4f8f-ae7b-2052cba5f8cd",
   "metadata": {},
   "outputs": [],
   "source": [
    "from numba import jit\n",
    "@jit\n",
    "def gs_sor_opt(matrix, omega):\n",
    "    matrix_old = matrix.copy() # Might be slow, creates copies all the time\n",
    "    gs_opt(matrix)\n",
    "    rij = matrix - matrix_old\n",
    "    matrix = matrix_old + omega*rij\n",
    "    rij = matrix - matrix_old\n",
    "    diff = np.linalg.norm(rij)\n",
    "    return diff\n",
    "    #return gs_opt(matrix)"
   ]
  },
  {
   "cell_type": "code",
   "execution_count": null,
   "id": "a8df77cd-ff78-49d6-bfc2-51c41c6f4948",
   "metadata": {},
   "outputs": [],
   "source": [
    "#for N in [5, 7, 10, 20, 50 , 100, 200, 500]:\n",
    "for N in [5]:\n",
    "    print(N)\n",
    "    OMEGA=1.9\n",
    "    diff = solve_system(N=N, niter=1000, iter_method=lambda m: gs_sor_opt(m, OMEGA))\n",
    "    plt.plot(diff, label=f\"{N=}\")\n",
    "plt.xscale(\"log\")\n",
    "plt.yscale(\"log\")\n",
    "plt.legend()"
   ]
  },
  {
   "cell_type": "markdown",
   "id": "4467ef3b-97a3-4412-b7e7-2cda49a9a79f",
   "metadata": {},
   "source": [
    "## Exercise: Stop after tolerance is achieved\n",
    "Modify the iteration  procedure to stop after some given precision has been achieved"
   ]
  },
  {
   "cell_type": "code",
   "execution_count": null,
   "id": "b65ffbb8-f5db-4e41-b2c0-bb27bff4325d",
   "metadata": {
    "deletable": false,
    "nbgrader": {
     "cell_type": "code",
     "checksum": "4d4afb7f06ea245bb35bbd2ed19acf18",
     "grade": false,
     "grade_id": "cell-794b6bdd41fe2e61",
     "locked": false,
     "schema_version": 3,
     "solution": true,
     "task": false
    },
    "tags": []
   },
   "outputs": [],
   "source": [
    "# YOUR CODE HERE\n",
    "raise NotImplementedError()"
   ]
  }
 ],
 "metadata": {
  "kernelspec": {
   "display_name": "Python 3 (ipykernel)",
   "language": "python",
   "name": "python3"
  },
  "language_info": {
   "codemirror_mode": {
    "name": "ipython",
    "version": 3
   },
   "file_extension": ".py",
   "mimetype": "text/x-python",
   "name": "python",
   "nbconvert_exporter": "python",
   "pygments_lexer": "ipython3",
   "version": "3.12.8"
  }
 },
 "nbformat": 4,
 "nbformat_minor": 5
}
