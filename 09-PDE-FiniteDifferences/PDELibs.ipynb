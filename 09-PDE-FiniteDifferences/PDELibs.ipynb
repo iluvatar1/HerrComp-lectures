{
 "cells": [
  {
   "cell_type": "markdown",
   "id": "90a91a40-c895-436a-a768-5766c4dabc66",
   "metadata": {},
   "source": [
    "# Numerical libraries for PDEs\n",
    "\n",
    "Give n the enormous complexity that PDE can present, there are scientific libraries targeted to their solutions. Here we will show just a few to highlight their use. In particular, two libraries that use the powerful [finite element method](https://en.wikipedia.org/wiki/Finite_element_method?useskin=vector) to solve PDE in complex geometries, will be shown at the end. "
   ]
  },
  {
   "cell_type": "markdown",
   "id": "92404fe1-ecc2-4c43-bf44-8cab1a6b54ff",
   "metadata": {},
   "source": [
    "## findiff\n",
    "https://github.com/maroba/findiff\n",
    "\n",
    "```bash\n",
    "uv pip install findiff\n",
    "```\n"
   ]
  },
  {
   "cell_type": "code",
   "execution_count": null,
   "id": "905e2ef1-7348-40b3-a174-05a6399d1142",
   "metadata": {},
   "outputs": [],
   "source": [
    "%matplotlib inline\n",
    "#!/usr/bin/env python3\n",
    "\n",
    "from findiff import Diff, Id, PDE, FinDiff, BoundaryConditions\n",
    "import numpy as np\n",
    "\n",
    "\n",
    "shape = (100, 100)\n",
    "x, y = np.linspace(0, 1, shape[0]), np.linspace(0, 1, shape[1])\n",
    "dx, dy = x[1]-x[0], y[1]-y[0]\n",
    "X, Y = np.meshgrid(x, y, indexing='ij')\n",
    "\n",
    "L = FinDiff(0, dx, 2) + FinDiff(1, dy, 2)\n",
    "f = np.zeros(shape)\n",
    "\n",
    "bc = BoundaryConditions(shape)\n",
    "bc[1,:] = FinDiff(0, dx, 1), 0  # Neumann BC\n",
    "bc[-1,:] = 300. - 200*Y   # Dirichlet BC\n",
    "bc[:, 0] = 300.   # Dirichlet BC\n",
    "bc[1:-1, -1] = FinDiff(1, dy, 1), 0  # Neumann BC\n",
    "\n",
    "pde = PDE(L, f, bc)\n",
    "u = pde.solve()\n",
    "\n"
   ]
  },
  {
   "cell_type": "code",
   "execution_count": null,
   "id": "ca380b83-3cdc-48e8-801a-92bf5dacbfbe",
   "metadata": {},
   "outputs": [],
   "source": [
    "import matplotlib.pyplot as plt\n",
    "plt.imshow(u)"
   ]
  },
  {
   "cell_type": "markdown",
   "id": "d6c8b6eb-5085-41e8-8547-ae5dd0d62baf",
   "metadata": {},
   "source": [
    "## Py-pde\n",
    "- <https://py-pde.readthedocs.io/>\n",
    "- <https://github.com/zwicker-group/py-pde>\n",
    "\n",
    "```bash\n",
    "uv pip install py-pde\n",
    "```\n"
   ]
  },
  {
   "cell_type": "code",
   "execution_count": null,
   "id": "2dd24dd6-1719-464e-8ac4-67168a4da4a4",
   "metadata": {},
   "outputs": [],
   "source": [
    "import pde\n",
    "\n",
    "grid = pde.UnitGrid([64, 64])                 # generate grid\n",
    "state = pde.ScalarField.random_uniform(grid)  # generate initial condition\n",
    "\n",
    "eq = pde.DiffusionPDE(diffusivity=0.1)        # define the pde\n",
    "result = eq.solve(state, t_range=10)          # solve the pde\n",
    "result.plot()                                 # plot the resulting field"
   ]
  },
  {
   "cell_type": "code",
   "execution_count": null,
   "id": "0a8daf40-01ed-47ad-88b5-7c5fc925a6f7",
   "metadata": {},
   "outputs": [],
   "source": [
    "import numpy as np\n",
    "\n",
    "from pde import CartesianGrid, solve_laplace_equation\n",
    "\n",
    "grid = CartesianGrid([[0, 2 * np.pi], [0, 2 * np.pi]], 64)\n",
    "bcs = {\"x\": {\"value\": \"sin(y)\"}, \"y\": {\"value\": \"sin(x)\"}}\n",
    "\n",
    "res = solve_laplace_equation(grid, bcs)\n",
    "res.plot()"
   ]
  },
  {
   "cell_type": "code",
   "execution_count": null,
   "id": "ee1ced57-ea30-4fb4-979f-f39b7a1d90e7",
   "metadata": {},
   "outputs": [],
   "source": [
    "import pde\n",
    "\n",
    "grid = pde.UnitGrid([32, 32])  # generate grid\n",
    "state = pde.ScalarField.random_uniform(grid)  # generate initial condition\n",
    "\n",
    "storage = pde.MemoryStorage()\n",
    "\n",
    "trackers = [\n",
    "    \"progress\",  # show progress bar during simulation\n",
    "    \"steady_state\",  # abort when steady state is reached\n",
    "    storage.tracker(interrupts=1),  # store data every simulation time unit\n",
    "    pde.PlotTracker(show=True),  # show images during simulation\n",
    "    # print some output every 5 real seconds:\n",
    "    pde.PrintTracker(interrupts=pde.RealtimeInterrupts(duration=5)),\n",
    "]\n",
    "\n",
    "eq = pde.DiffusionPDE(0.1)  # define the PDE\n",
    "eq.solve(state, 3, dt=0.1, tracker=trackers)\n",
    "\n",
    "for field in storage:\n",
    "    print(field.integral)\n"
   ]
  },
  {
   "cell_type": "markdown",
   "id": "4553e06e-1754-4304-b83e-ddd2284ce637",
   "metadata": {},
   "source": [
    "## MFEM\n",
    "\n",
    "Although it is c++, it has a python wrapper\n",
    "\n",
    "- https://mfem.org/\n",
    "- https://github.com/mfem/PyMFEM\n",
    "- https://mfem.org/examples/\n",
    "- https://colab.research.google.com/github/mfem/pymfem/blob/master/examples/jupyter/ex1.ipynb\n",
    "- https://colab.research.google.com/github/mfem/pymfem/blob/master/examples/jupyter/ex9.ipynb\n",
    "- https://github.com/mfem/PyMFEM/tree/master/examples\n",
    "- \n",
    "\n",
    "Only works on linux \n",
    "```bash\n",
    "uv pip install pip\n",
    "pip install mfem # be sure to be used the uv installed pip\n",
    "```\n",
    "\n",
    "(for advanced options, like parallelization, you should download the sources and compile with the right options)\n"
   ]
  },
  {
   "cell_type": "code",
   "execution_count": null,
   "id": "283e88c6-a340-4815-987b-bc8ff11746bd",
   "metadata": {},
   "outputs": [],
   "source": [
    "import mfem.ser as mfem\n",
    "\n",
    "# Create a square mesh\n",
    "mesh = mfem.Mesh(10, 10, \"TRIANGLE\")\n",
    "\n",
    "# Define the finite element function space\n",
    "fec = mfem.H1_FECollection(1, mesh.Dimension())   # H1 order=1\n",
    "fespace = mfem.FiniteElementSpace(mesh, fec)\n",
    "\n",
    "# Define the essential dofs\n",
    "ess_tdof_list = mfem.intArray()\n",
    "ess_bdr = mfem.intArray([1]*mesh.bdr_attributes.Size())\n",
    "fespace.GetEssentialTrueDofs(ess_bdr, ess_tdof_list)\n",
    "\n",
    "# Define constants for alpha (diffusion coefficient) and f (RHS)\n",
    "alpha = mfem.ConstantCoefficient(1.0)\n",
    "rhs = mfem.ConstantCoefficient(1.0)\n",
    "\n",
    "\"\"\"\n",
    "Note\n",
    "-----\n",
    "In order to represent a variable diffusion coefficient, you\n",
    "must use a numba-JIT compiled function. For example:\n",
    "\n",
    ">>> @mfem.jit.scalar\n",
    ">>> def alpha(x):\n",
    ">>>     return x+1.0\n",
    "\"\"\"\n",
    "\n",
    "# Define the bilinear and linear operators\n",
    "a = mfem.BilinearForm(fespace)\n",
    "a.AddDomainIntegrator(mfem.DiffusionIntegrator(alpha))\n",
    "a.Assemble()\n",
    "b = mfem.LinearForm(fespace)\n",
    "b.AddDomainIntegrator(mfem.DomainLFIntegrator(rhs))\n",
    "b.Assemble()\n",
    "\n",
    "# Initialize a gridfunction to store the solution vector\n",
    "x = mfem.GridFunction(fespace)\n",
    "x.Assign(0.0)\n",
    "\n",
    "# Form the linear system of equations (AX=B)\n",
    "A = mfem.OperatorPtr()\n",
    "B = mfem.Vector()\n",
    "X = mfem.Vector()\n",
    "a.FormLinearSystem(ess_tdof_list, x, b, A, X, B)\n",
    "print(\"Size of linear system: \" + str(A.Height()))\n",
    "\n",
    "# Solve the linear system using PCG and store the solution in x\n",
    "AA = mfem.OperatorHandle2SparseMatrix(A)\n",
    "M = mfem.GSSmoother(AA)\n",
    "mfem.PCG(AA, M, B, X, 1, 200, 1e-12, 0.0)\n",
    "a.RecoverFEMSolution(X, b, x)\n",
    "\n",
    "# Extract vertices and solution as numpy arrays\n",
    "verts = mesh.GetVertexArray()\n",
    "sol = x.GetDataArray()\n",
    "\n",
    "# Plot the solution using matplotlib\n",
    "import matplotlib.pyplot as plt\n",
    "import matplotlib.tri as tri\n",
    "\n",
    "triang = tri.Triangulation(verts[:,0], verts[:,1])\n",
    "\n",
    "fig, ax = plt.subplots()\n",
    "ax.set_aspect('equal')\n",
    "tpc = ax.tripcolor(triang, sol, shading='gouraud')\n",
    "fig.colorbar(tpc)\n",
    "plt.show()"
   ]
  },
  {
   "cell_type": "markdown",
   "id": "b39a54ed-1454-4b3d-956a-90995c663e69",
   "metadata": {},
   "source": [
    "## Fenics\n",
    "- https://fenicsproject.org/\n",
    "- https://fenicsproject.org/documentation/\n",
    "- https://docs.fenicsproject.org/dolfinx/v0.9.0/python/demos.html\n",
    "- https://jsdokken.com/dolfinx-tutorial/chapter1/fundamentals.html\n",
    "- https://docs.pyvista.org/\n",
    "\n",
    "Installation is much more complicated than\n",
    "```bash\n",
    "uv pip install fenics dolphin mpi4py\n",
    "```\n",
    "\n",
    "It is better to use a docker container or use the binder setups\n"
   ]
  },
  {
   "cell_type": "markdown",
   "id": "8879080f-8b59-4648-be5f-ae57319ee0b1",
   "metadata": {},
   "source": [
    "Example: 2D poisson equation\n",
    "\n",
    "- Notation and method intro: https://jsdokken.com/dolfinx-tutorial/chapter1/fundamentals.html\n",
    "- Implementation (use binder) : https://jsdokken.com/dolfinx-tutorial/chapter1/fundamentals_code.html\n",
    "\n",
    "<img src=\"https://jsdokken.com/dolfinx-tutorial/_images/u_time.gif\" alt=\"example\" width=\"100%\" align=\"center\">\n",
    "\n",
    "From : <https://jsdokken.com/dolfinx-tutorial/chapter2/diffusion_code.html>\n",
    "\n",
    "\n"
   ]
  },
  {
   "cell_type": "markdown",
   "id": "e4ebfa37-3c2f-4fcb-9bb1-63526733acad",
   "metadata": {},
   "source": [
    "## To Check\n",
    "- https://getfem-examples.readthedocs.io/en/latest/demo_unit_disk.html\n",
    "- https://www.pygimli.org/_tutorials_auto/2_modelling/plot_2-mod-fem.html\n",
    "- https://flocode.substack.com/p/049-pynite-01-introduction-to-finite\n",
    "- https://bleyerj.github.io/comet-fenicsx/\n",
    "- https://gmshmodel.readthedocs.io/en/latest/"
   ]
  },
  {
   "cell_type": "code",
   "execution_count": null,
   "id": "3264c17f-356a-4490-bc3d-04fb788dfd58",
   "metadata": {},
   "outputs": [],
   "source": []
  }
 ],
 "metadata": {
  "kernelspec": {
   "display_name": "Python 3 (ipykernel)",
   "language": "python",
   "name": "python3"
  },
  "language_info": {
   "codemirror_mode": {
    "name": "ipython",
    "version": 3
   },
   "file_extension": ".py",
   "mimetype": "text/x-python",
   "name": "python",
   "nbconvert_exporter": "python",
   "pygments_lexer": "ipython3",
   "version": "3.12.8"
  }
 },
 "nbformat": 4,
 "nbformat_minor": 5
}
