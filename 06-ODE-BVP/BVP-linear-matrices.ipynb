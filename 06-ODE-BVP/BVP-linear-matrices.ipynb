{
 "cells": [
  {
   "cell_type": "markdown",
   "id": "41486587-f867-4aa6-bcb0-6b965180eff8",
   "metadata": {},
   "source": [
    "# Boundary value problems: linear case and matrices\n",
    "When the BVP is linear, you can solve it either using the interpolation already shown, or by formulating the problem as a matrix system. The later is based on a [finite difference](https://en.wikipedia.org/wiki/Finite_difference_method) discretization for the derivatives. Let's start with the following problem, representing the temperature $T$ across a linear bar (Chapra, 27.1)\n",
    "\n",
    "\\begin{equation}\n",
    "  \\frac{d^2T}{dx^2} + h'(T_a - T) = 0,  \n",
    "\\end{equation}\n",
    "\n",
    "where $h'$ is the transfer coefficient (m$^{-2}$), and $T_a$ is the sourronding air temperature. The boundary conditions are $T(0) = T_1 = 40$, $T(L=10) = T_2 = 200$, and $T_a = 20$. Also, $h' = 0.01$. \n",
    "\n",
    "First, please solve the problem both theoretically and then using `solve_bvp` or yout own method."
   ]
  },
  {
   "cell_type": "code",
   "execution_count": null,
   "id": "18bf2cc8-8c5b-4c69-ae20-02d9091a4775",
   "metadata": {
    "deletable": false,
    "nbgrader": {
     "cell_type": "code",
     "checksum": "cebc843da0f8781c7766a329c37153c0",
     "grade": false,
     "grade_id": "cell-bd34226eda6194f9",
     "locked": false,
     "schema_version": 3,
     "solution": true,
     "task": false
    },
    "tags": []
   },
   "outputs": [],
   "source": [
    "import numpy as np\n",
    "import seaborn as sns\n",
    "import matplotlib.pyplot as plt\n",
    "from scipy.integrate import solve_bvp\n",
    "sns.set()\n",
    "sns.set_context(\"talk\")\n",
    "\n",
    "def deriv(t, y, params):\n",
    "    # YOUR CODE HERE\n",
    "    raise NotImplementedError()\n",
    "\n",
    "def bc(ya, yb, params):\n",
    "    # YOUR CODE HERE\n",
    "    raise NotImplementedError()\n",
    "\n",
    "def solve_bvp_plot(x0, xf, params):\n",
    "    # YOUR CODE HERE\n",
    "    raise NotImplementedError()\n",
    "\n",
    "PARAMS = (0.01, 20.0)\n",
    "solve_bvp_plot(0.0, 10.0, PARAMS)"
   ]
  },
  {
   "cell_type": "code",
   "execution_count": null,
   "id": "097f5beb-c51f-4d3b-b1e0-c22d2b98a076",
   "metadata": {
    "deletable": false,
    "nbgrader": {
     "cell_type": "code",
     "checksum": "04fd83dcd13a6770552beddce1534d61",
     "grade": false,
     "grade_id": "cell-36a30d17f79162f6",
     "locked": false,
     "schema_version": 3,
     "solution": true,
     "task": false
    },
    "tags": []
   },
   "outputs": [],
   "source": [
    "import numpy as np\n",
    "import seaborn as sns\n",
    "import matplotlib.pyplot as plt\n",
    "from scipy.optimize import root\n",
    "from scipy.integrate import solve_ivp\n",
    "sns.set()\n",
    "sns.set_context(\"talk\")\n",
    "\n",
    "def deriv(t, y, params):\n",
    "    # YOUR CODE HERE\n",
    "    raise NotImplementedError()\n",
    "\n",
    "def h(v0, y0, yf, t0, tf, dt, params):\n",
    "    # YOUR CODE HERE\n",
    "    raise NotImplementedError()\n",
    "\n",
    "def solve_bvp_root(y0, yf, v0, t0, tf, dt, params):\n",
    "    # YOUR CODE HERE\n",
    "    raise NotImplementedError()\n",
    "\n",
    "PARAMS = (0.01, 20)\n",
    "solve_bvp_root(40.0, 200.0, 10.9, 0.0, 10.0, 0.01, PARAMS)"
   ]
  },
  {
   "cell_type": "markdown",
   "id": "f280be36-51ee-4c3c-b7de-81e1aab73daa",
   "metadata": {},
   "source": [
    "Now let's proceed with a different way: by discretizing the derivatives and setting the equation on the points. We have,\n",
    "\n",
    "\\begin{equation}\n",
    "\\frac{d^2T}{dx^2} \\simeq \\frac{T_{i+1} - 2T_i + T_{i-1}}{\\Delta x^2},  \n",
    "\\end{equation}\n",
    "where $\\Delta x$ is the partition size, so the original equation takes the form\n",
    "\\begin{equation}\n",
    "\\frac{T_{i+1} - 2T_i + T_{i-1}}{\\Delta x^2} - h'(T_i - T_a) = 0.  \n",
    "\\end{equation}\n",
    "Finally, after collecting terms, we have\n",
    "\\begin{equation}\n",
    "-T_{i-1} + (2+h'\\Delta x^2)T_i - T_{i+1} = h'\\Delta x^2T_a \\to -T_{i-1} + \\alpha T_i - T_{i+1} = \\beta.\n",
    "\\end{equation}\n",
    "This is a tri-diagonal system for the internal points."
   ]
  },
  {
   "cell_type": "markdown",
   "id": "aaeb9b74-d232-4c99-bedd-7b94cbf4d9a3",
   "metadata": {
    "deletable": false,
    "nbgrader": {
     "cell_type": "markdown",
     "checksum": "e12751e656297e0d682324075e68bd66",
     "grade": true,
     "grade_id": "cell-ea8e6563608d1b24",
     "locked": false,
     "points": 0,
     "schema_version": 3,
     "solution": true,
     "task": false
    },
    "tags": []
   },
   "source": [
    "YOUR ANSWER HERE"
   ]
  },
  {
   "cell_type": "code",
   "execution_count": null,
   "id": "d41ee6f1-936d-4984-9325-85ec6ddfc394",
   "metadata": {
    "deletable": false,
    "nbgrader": {
     "cell_type": "code",
     "checksum": "c03439d491f8ac43fc70c046c9ce7d52",
     "grade": false,
     "grade_id": "cell-652b20869a04a39f",
     "locked": false,
     "schema_version": 3,
     "solution": true,
     "task": false
    },
    "tags": []
   },
   "outputs": [],
   "source": [
    "import numpy as np\n",
    "import scipy as sp\n",
    "\n",
    "def solve_bvp_finite_diffs(N, ALPHA, BETA, T1, T2):\n",
    "    \"\"\"\n",
    "    N : number of internal points\n",
    "    \"\"\"\n",
    "    M = np.zeros((N, N))\n",
    "    b = BETA*np.ones(N) \n",
    "    # Set diagonal elements\n",
    "    # YOUR CODE HERE\n",
    "    raise NotImplementedError()\n",
    "    # Solve the system Mx = b\n",
    "    x = np.linalg.solve(M, b)\n",
    "    return np.concatenate(([T1], x, [T2]))\n",
    "\n",
    "HPRIME = 0.01\n",
    "L = 10\n",
    "N = 300\n",
    "DX = L/(N+2-1) # +2 by adding the boundaries -1 by number of intervals\n",
    "TA = 20\n",
    "T1 = 40\n",
    "T2 = 200\n",
    "ALPHA = 2 + HPRIME*DX*DX\n",
    "BETA = HPRIME*DX*DX*TA\n",
    "\n",
    "T = solve_bvp_finite_diffs(N, ALPHA, BETA, T1, T2)"
   ]
  },
  {
   "cell_type": "code",
   "execution_count": null,
   "id": "b032eafc-32a2-4056-b8d6-56d0634a1025",
   "metadata": {},
   "outputs": [],
   "source": [
    "import matplotlib.pyplot as plt\n",
    "import seaborn as sns\n",
    "sns.set()\n",
    "sns.set_context('paper')\n",
    "x = DX*np.arange(N+2)\n",
    "plt.plot(x, T, '-o')\n"
   ]
  },
  {
   "cell_type": "markdown",
   "id": "ea1d3849-edb0-4136-862d-fa1361c8c664",
   "metadata": {},
   "source": [
    "# Exercises"
   ]
  },
  {
   "cell_type": "markdown",
   "id": "197ae304-ecd5-4c2b-be7f-0312d41b12fa",
   "metadata": {},
   "source": [
    "## Generic BVP \n",
    "Solve the following equation using the shooting method and the matrix method,\n",
    "\\begin{equation}\n",
    "7\\frac{d^2y}{dx^2} -  2\\frac{dy}{dx} - y +x = 0,\n",
    "\\end{equation}\n",
    "with $y(0) = 5, y(20) = 8$\n",
    "\n",
    "\n"
   ]
  },
  {
   "cell_type": "code",
   "execution_count": null,
   "id": "a684de10-84da-4863-8023-b2349f8e0241",
   "metadata": {},
   "outputs": [],
   "source": []
  },
  {
   "cell_type": "markdown",
   "id": "e2134c9b-ec2d-4a33-b305-52c96edc3452",
   "metadata": {},
   "source": [
    "## BVP with Newman condition\n",
    "Here we will add a boundary condition on the derivative, on the left, which means that the left node is also an unknown. In that case you can use $dT/dx \\simeq = (T_{1} - T_{-1})/2\\Delta x$ so $T_{-1} = T_1 -2 \\Delta x dT/\\Delta x$ and then you get the value for the imaginary node $T_{-1}$ which is now needed. Solve following system:\n",
    "\\begin{equation}\n",
    "\\frac{d^2T}{dr^2} + \\frac{1}{r}\\frac{dT}{dr} + S = 0,\n",
    "\\end{equation}\n",
    "over $0 \\le r\\le 1$, with $T(r=1) = 1$ and $\\frac{dT}{dr} = 0$ in $r=0$, for S = 1, 10, and 20 K/m$^2$. This is a model of the temperature distribution on  a circular rod with internal heat source $S$. "
   ]
  },
  {
   "cell_type": "code",
   "execution_count": null,
   "id": "aafd448d-e83f-4b06-8c91-4c321c4a4ac5",
   "metadata": {},
   "outputs": [],
   "source": []
  },
  {
   "cell_type": "markdown",
   "id": "85109fdf-aa04-43dc-baac-f437af0027fc",
   "metadata": {},
   "source": [
    "## Deflection of a sailboat mast (Chapra 28.22)\n",
    "The following equation can be used to model the deflection of a sailboat mast subject to wind force,\n",
    "\\begin{equation}\n",
    "\\frac{d^2y}{dz^2} = \\frac{f}{2EI}(L-z)^2,\n",
    "\\end{equation}\n",
    "where $f$ is the wind force, $E$ is the modulus of elasticity, $L$ the mast length, and $I$ the inertia moment. Compute the deflection as a function of $z$ if $y = 0$ and $dy/dz = 0$ at $z = 0$. Use $f = 60, L = 30, E = 1.25\\times 10^8, I = 0.05$"
   ]
  },
  {
   "cell_type": "code",
   "execution_count": null,
   "id": "09ac5486-5c3e-4c9e-9154-32e2c71eb885",
   "metadata": {},
   "outputs": [],
   "source": []
  },
  {
   "cell_type": "markdown",
   "id": "733491d8-ee95-466d-b800-ff76123800b4",
   "metadata": {},
   "source": [
    "## Deflection of a sailboat mast (Chapra 28.23)\n",
    "Same previous problem but now the force varies with height as \n",
    "\\begin{equation}\n",
    "f(z) = \\frac{200z}{5+z}e^{-2z/30}.\n",
    "\\end{equation}"
   ]
  },
  {
   "cell_type": "code",
   "execution_count": null,
   "id": "16651d26-cb3a-4886-a905-9cc11d6d91aa",
   "metadata": {},
   "outputs": [],
   "source": []
  }
 ],
 "metadata": {
  "kernelspec": {
   "display_name": "Python 3 (ipykernel)",
   "language": "python",
   "name": "python3"
  },
  "language_info": {
   "codemirror_mode": {
    "name": "ipython",
    "version": 3
   },
   "file_extension": ".py",
   "mimetype": "text/x-python",
   "name": "python",
   "nbconvert_exporter": "python",
   "pygments_lexer": "ipython3",
   "version": "3.10.6"
  }
 },
 "nbformat": 4,
 "nbformat_minor": 5
}
