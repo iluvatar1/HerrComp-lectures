{
 "cells": [
  {
   "cell_type": "markdown",
   "id": "9272866e-0f51-4e3c-aca8-c4401ab4e12b",
   "metadata": {},
   "source": [
    "# BVP: Boundary value problems\n",
    "[Boundary value problems](https://en.wikipedia.org/wiki/Boundary_value_problem) (BVP) are very common in both theoretical (Sturm-Liuvoille problems) and engineering applications . In this case, boundary, not initial, conditions are specified. For example, you specify the initial and final positions of a particles, instead of the initial position and velocity. A typical application is the [infinite well](https://en.wikipedia.org/wiki/Particle_in_a_box?useskin=vector), where the particle must have :\n",
    "\n",
    "<figure>\n",
    "<img src=\"https://upload.wikimedia.org/wikipedia/commons/thumb/1/13/Infinite_potential_well-en.svg/330px-Infinite_potential_well-en.svg.png\" width=30%>\n",
    "<figcaption>https://en.wikipedia.org/wiki/Particle_in_a_box?useskin=vector </figcaption>\n",
    "</figure>\n",
    "\n",
    "BVP are more difficult to solve, and also represent our first step towards partial differential equations. Here will learn how to use IVP techniques to solve BVP by using the so-called [shooting method](https://en.wikipedia.org/wiki/Shooting_method). We will also check an alternative formulation, in terms of [finite differences](https://en.wikipedia.org/wiki/Finite_difference_method), where the BVP will be written as a matrix problem that will be solved using the previously seen techniques. We will also compare our solutions with the ones obtained from using `scipy` and the `solve_ivp` method, [solve_bvp](https://docs.scipy.org/doc/scipy-1.15.0/reference/generated/scipy.integrate.solve_bvp.html)."
   ]
  },
  {
   "cell_type": "markdown",
   "id": "c631f778-9abd-4764-b440-4c147d7cb137",
   "metadata": {},
   "source": [
    "## Shooting method\n",
    "The [shooting method](https://en.wikipedia.org/wiki/Shooting_method) uses IVP solutions to estimate the best initial condition to solve the BVP. Imagine that you want to estimate the initial velocity for the cannon ball in order to make sure that it hits a given target at position $b$. \n",
    "\n",
    "<figure>\n",
    "<img src=\"https://pythonnumericalmethods.berkeley.edu/_images/23.02.01-shooting.png\" width=60%>\n",
    "<figcaption>Reproducido de: https://pythonnumericalmethods.berkeley.edu/notebooks/chapter23.02-The-Shooting-Method.html </figcaption>\n",
    "</figure>"
   ]
  },
  {
   "cell_type": "markdown",
   "id": "6998b93f-914a-4910-bc3f-bfdfcfc9f88b",
   "metadata": {},
   "source": [
    "## Linear shooting method: interpolation\n",
    "\n",
    "The *linear* shooting method solves the problem for two different initial conditions, and from them computes the exact initial conditions needed (**on the derivative**).  Then it solves again the BVP as a simple IVP given the extra and correct initial condition found. Let's assume we have a linear second order equation. If you put the initial values $(y_{0}, v_{0a})$, you get the final value $y_{fa}$ (first ICP solution). If you put the initial values $(y_{0}, v_{0b})$, you get the final value $y_{fb}$ (second IVP solution). \n",
    "\n",
    "For instance, let's check the following example:\n"
   ]
  },
  {
   "cell_type": "code",
   "execution_count": null,
   "id": "6543d8c5-f720-4abd-bb55-68e181116c3c",
   "metadata": {
    "deletable": false,
    "editable": false,
    "nbgrader": {
     "cell_type": "code",
     "checksum": "87c33c916f31ac787d6b0ab81ccf632c",
     "grade": false,
     "grade_id": "cell-eb8c5d0087f3a8e9",
     "locked": true,
     "schema_version": 3,
     "solution": false,
     "task": false
    }
   },
   "outputs": [],
   "source": [
    "%matplotlib inline\n",
    "import numpy as np\n",
    "from scipy.integrate import solve_ivp\n",
    "import matplotlib.pyplot as plt\n",
    "from ipywidgets import interact, FloatSlider\n",
    "\n",
    "# Define the second-order differential equation (e.g., damped harmonic oscillator)\n",
    "def ode(t, y, k, b):\n",
    "    \"\"\"\n",
    "    Defines the system of first-order differential equations \n",
    "    representing the second-order ODE.\n",
    "\n",
    "    Args:\n",
    "      t: Time.\n",
    "      y: Array containing [y, y'].\n",
    "      k: Spring constant.\n",
    "      b: Damping coefficient.\n",
    "\n",
    "    Returns:\n",
    "      Array containing [y', y''].\n",
    "    \"\"\"\n",
    "    y1, y2 = y\n",
    "    return [y2, -k * y1 - b * y2]\n",
    "\n",
    "# Function to solve and plot the ODE\n",
    "def solve_and_plot(k, b, y0, v0):\n",
    "    \"\"\"\n",
    "    Solves the ODE using solve_ivp and plots the solution.\n",
    "\n",
    "    Args:\n",
    "      k: Spring constant.\n",
    "      b: Damping coefficient.\n",
    "      y0: Initial displacement.\n",
    "      v0: Initial velocity.\n",
    "    \"\"\"\n",
    "    t_span = (0, 10)  # Time interval for integration\n",
    "    y0_vec = [y0, v0]  # Initial conditions as a vector\n",
    "\n",
    "    # Solve the ODE\n",
    "    sol = solve_ivp(ode, t_span, y0_vec, args=(k, b), dense_output=True)\n",
    "\n",
    "    # Generate time points for plotting\n",
    "    t_plot = np.linspace(t_span[0], t_span[1], 100)\n",
    "\n",
    "    # Interpolate the solution at the plotting points\n",
    "    y_plot = sol.sol(t_plot)[0]\n",
    "\n",
    "    # Plot the solution\n",
    "    plt.figure()\n",
    "    plt.plot(t_plot, y_plot)\n",
    "    plt.xlabel(\"Time\")\n",
    "    plt.ylabel(\"Displacement\")\n",
    "    plt.title(f\"k={k:.2f}, b={b:.2f}, y0={y0:.2f}, v0={v0:.2f}, yf={y_plot[-1]:.2f}\")\n",
    "    plt.grid(True)\n",
    "    plt.show()\n",
    "\n",
    "# Create interactive widgets\n",
    "k_slider = FloatSlider(min=0, max=10, step=0.1, value=1, description='k')\n",
    "b_slider = FloatSlider(min=0, max=5, step=0.1, value=0.5, description='b')\n",
    "y0_slider = FloatSlider(min=-5, max=5, step=0.1, value=1, description='y0')\n",
    "v0_slider = FloatSlider(min=-10, max=10, step=0.5, value=0, description='v0')\n",
    "\n",
    "# Create the interactive plot\n",
    "interact(solve_and_plot, k=k_slider, b=b_slider, y0=y0_slider, v0=v0_slider)\n"
   ]
  },
  {
   "cell_type": "code",
   "execution_count": null,
   "id": "acefa3cc-b069-4a20-989a-076e55d87882",
   "metadata": {},
   "outputs": [],
   "source": [
    "# TODO for you: Create a plot of the final position as a function of y0, with fixed parameters\n"
   ]
  },
  {
   "cell_type": "markdown",
   "id": "68a1faf9-bb84-4721-95f7-210089a0e448",
   "metadata": {},
   "source": [
    "In general, if the problem is linear, one has that a given initial condition in the first derivative gives a unique final value in position, \n",
    "\n",
    "<img src=\"./fig/BVP-solutions.png\" width=60% alt=\"From Cheney et al: Numerical Mathematics and Computing\">\n",
    "\n",
    "and if this functions is linear (given that the equation is linear) then we can interpolate as shown\n",
    "\n",
    "<img src=\"./fig/BVP-linear-interpolation.png\" width=60% alt=\"From Cheney et al: Numerical Mathematics and Computing\">\n"
   ]
  },
  {
   "cell_type": "markdown",
   "id": "bc9bd612-d6c3-4dbf-aeee-36b073533731",
   "metadata": {},
   "source": [
    "By taking into account the linear nature of the problem, we can compute the straight-line equation in the $v_0 - y_f$ space to get the right initial condition as \n",
    "\\begin{equation}\n",
    "v_0 = v_{0a} + \\frac{y_f - y_{fa}}{y_{fb} - y_{fa}}(v_{0b} - v_{0a}).\n",
    "\\end{equation}\n",
    "Then, by using that initial condition, we compute the actual solution (third IVP solution).\n",
    "\n",
    "**EXAMPLE**\n",
    "\n",
    "As an example, let's solve the following problem (Chapra 24.11): Compound $A$ diffuses through a 4-cm-long tube and reacts as it diffuses. The process can be  modeled as\n",
    "\n",
    "\\begin{equation}\n",
    "D\\frac{d^2A}{dx^2} - kA = 0.  \n",
    "\\end{equation}\n",
    "At $x=0$ there is a large source of $A$ with fixed concentration of $0.1$ M. At the other end there is a material that quickly absorbs $A$, so the concentration is 0 M. If $D = 1.5\\times 10^{-6}$ cm$^2$/s and $k = 5\\times 10^{-6}$ s$_1$, what is the concentration along the tube?\n",
    "\n",
    "Write a function that returns the correct initial derivative value and plots the concentration along the tube. The pseudo algorithm would be\n",
    "```conf\n",
    "- Solve the ivp with an arbitrary (but reasonable) initial condition on velocity. Store the final \"position\" value.\n",
    "- Solve the ivp with another arbitrary (but reasonable) initial condition on velocity. Store the final \"position\" value.\n",
    "- Applyt hte interpolation formula to compute the appropriate initial condition. \n",
    "- Plot the final solution\n",
    "```"
   ]
  },
  {
   "cell_type": "code",
   "execution_count": null,
   "id": "148a517e-df9b-49c1-adaf-42efbed19c8a",
   "metadata": {
    "deletable": false,
    "nbgrader": {
     "cell_type": "code",
     "checksum": "c799cdc3c33fcf5ff45d30af1ecbfb8e",
     "grade": false,
     "grade_id": "cell-050b00e7bc672530",
     "locked": false,
     "schema_version": 3,
     "solution": true,
     "task": false
    },
    "tags": []
   },
   "outputs": [],
   "source": [
    "import numpy as np\n",
    "import seaborn as sns\n",
    "import matplotlib.pyplot as plt\n",
    "sns.set()\n",
    "sns.set_context(\"poster\")\n",
    "\n",
    "def deriv(t, y, params):\n",
    "    return [y[1], params[1]*y[0]/params[0]]\n",
    "\n",
    "def mysolve_bvp(y0, yf, v0a, v0b, t0, tf, dt, params):\n",
    "    # YOUR CODE HERE\n",
    "    raise NotImplementedError()\n",
    "\n",
    "PARAMS = (1.5e-6, 5e-6)\n",
    "mysolve_bvp(0.1, 0.0, -0.23, -0.14, 0.0, 4.0, 0.1, PARAMS)"
   ]
  },
  {
   "cell_type": "markdown",
   "id": "37c710f5-a0b7-42ab-939c-146186b66c58",
   "metadata": {},
   "source": [
    "## Linear shooting method: root finding \n",
    "The previous problem can be written as a root finding procedure. And this allows to generalize the procedure to non-linear problems. If we see the IVP solution as a function of the initial velocity condition, $y_f = g(v_0)$ (plus other parameters), then we can see this problem as a root finding one, looking for the right $v_0$ that gives $h(v_0) = 0 = g(v_0) - y_f$. As you can see later, this will allow us to extend the shooting method to non-linear problems. Python allows us to compute roots using the [`scipy.optimize.root`](https://docs.scipy.org/doc/scipy-1.15.0/reference/generated/scipy.optimize.root.html) method."
   ]
  },
  {
   "cell_type": "code",
   "execution_count": null,
   "id": "4745435b-7e7e-454f-8956-7d78dd0df425",
   "metadata": {
    "deletable": false,
    "nbgrader": {
     "cell_type": "code",
     "checksum": "bbb907e01b02ad84fbfac449d57506e2",
     "grade": false,
     "grade_id": "cell-7179b6787c3ea234",
     "locked": false,
     "schema_version": 3,
     "solution": true,
     "task": false
    }
   },
   "outputs": [],
   "source": [
    "import numpy as np\n",
    "import seaborn as sns\n",
    "import matplotlib.pyplot as plt\n",
    "from scipy.optimize import root\n",
    "from scipy.integrate import solve_ivp\n",
    "\n",
    "# Set up seaborn styling\n",
    "sns.set()\n",
    "sns.set_context(\"poster\")\n",
    "\n",
    "def deriv(t, y, params):\n",
    "    \"\"\"Derivative function for the ODE system\"\"\"\n",
    "    return [y[1], params[1]*y[0]/params[0]]\n",
    "\n",
    "def h(v0, y0, yf, t0, tf, dt, params):\n",
    "    \"\"\"Function to be zeroed - returns the difference between computed final value and desired final value\"\"\"\n",
    "    # Convert v0 to float in case it comes as an array\n",
    "    #print(v0)\n",
    "    v0 = v0[0]\n",
    "    # YOUR CODE HERE\n",
    "    raise NotImplementedError()\n",
    "\n",
    "def solve_bvp_root(y0, yf, v0_guess, t0, tf, dt, params):\n",
    "    \"\"\"Solve the boundary value problem using root finding\"\"\"\n",
    "    # Find the initial velocity that satisfies the boundary condition\n",
    "    result = root(h, v0_guess, args=(y0, yf, t0, tf, dt, params))\n",
    "    v0 = result.x[0]\n",
    "    print(f\"Found initial velocity: {v0}\")\n",
    "    \n",
    "    # Solve the IVP with the found initial velocity\n",
    "    sol = solve_ivp(deriv, [t0, tf], [y0, v0], \n",
    "                    t_eval=np.arange(t0, tf+dt, dt),\n",
    "                    args=(params,))\n",
    "    \n",
    "    # Create the plot\n",
    "    fig, ax = plt.subplots(figsize=(10, 6))\n",
    "    ax.plot(sol.t, sol.y[0], 'b-', label='Solution')\n",
    "    ax.set_xlabel('Time')\n",
    "    ax.set_ylabel('y(t)')\n",
    "    ax.set_title('Boundary Value Problem Solution')\n",
    "    ax.grid(True)\n",
    "    plt.show()\n",
    "    \n",
    "    return v0\n",
    "\n",
    "# Example parameters and solution\n",
    "PARAMS = (1.5e-6, 5e-6)\n",
    "v0_solution = solve_bvp_root(0.1, 0.0, -0.23, 0.0, 4.0, 0.1, PARAMS)"
   ]
  },
  {
   "cell_type": "markdown",
   "id": "2f410dc8-f2cc-4a1b-a83e-b5802930cd5c",
   "metadata": {},
   "source": [
    "## Non linear shooting method\n",
    "As we said, formulating the problem as a root finding one allows us to extend the method to non-linear systems (there are even better generalization like the  https://en.wikipedia.org/wiki/Direct_multiple_shooting_method). Let's now solve the same problem but adding some  drag coefficient, $f_v = -b v$"
   ]
  },
  {
   "cell_type": "code",
   "execution_count": null,
   "id": "f9a56af1-3ec1-4b3a-a561-aaae253319b8",
   "metadata": {
    "deletable": false,
    "nbgrader": {
     "cell_type": "code",
     "checksum": "ef5d90dbaddfc2a5024de99ec4fccaf8",
     "grade": false,
     "grade_id": "cell-1e55ac9fcefb1e1b",
     "locked": false,
     "schema_version": 3,
     "solution": true,
     "task": false
    }
   },
   "outputs": [],
   "source": [
    "import numpy as np\n",
    "import seaborn as sns\n",
    "import matplotlib.pyplot as plt\n",
    "from scipy.optimize import root\n",
    "from scipy.integrate import solve_ivp\n",
    "\n",
    "# Set up seaborn styling\n",
    "sns.set()\n",
    "sns.set_context(\"poster\")\n",
    "\n",
    "def deriv(t, y, params):\n",
    "    \"\"\"Derivative function for the ODE system\"\"\"\n",
    "    return [y[1], params[1]*y[0]/params[0] - params[2]*y[1]]\n",
    "\n",
    "def h(v0, y0, yf, t0, tf, dt, params):\n",
    "    \"\"\"Function to be zeroed - returns the difference between computed final value and desired final value\"\"\"\n",
    "    # Convert v0 to float in case it comes as an array\n",
    "    #print(v0)\n",
    "    v0 = v0[0]\n",
    "    # YOUR CODE HERE\n",
    "    raise NotImplementedError()\n",
    "\n",
    "def solve_bvp_root(y0, yf, v0_guess, t0, tf, dt, params):\n",
    "    \"\"\"Solve the boundary value problem using root finding\"\"\"\n",
    "    # Find the initial velocity that satisfies the boundary condition\n",
    "    result = root(h, v0_guess, args=(y0, yf, t0, tf, dt, params))\n",
    "    v0 = result.x[0]\n",
    "    print(f\"Found initial velocity: {v0}\")\n",
    "    \n",
    "    # Solve the IVP with the found initial velocity\n",
    "    sol = solve_ivp(deriv, [t0, tf], [y0, v0], \n",
    "                    t_eval=np.arange(t0, tf+dt, dt),\n",
    "                    args=(params,))\n",
    "    \n",
    "    # Create the plot\n",
    "    fig, ax = plt.subplots(figsize=(10, 6))\n",
    "    ax.plot(sol.t, sol.y[0], 'b-', label='Solution')\n",
    "    ax.set_xlabel('Time')\n",
    "    ax.set_ylabel('y(t)')\n",
    "    ax.set_title('Boundary Value Problem Solution')\n",
    "    ax.grid(True)\n",
    "    plt.show()\n",
    "    \n",
    "    return v0\n",
    "\n",
    "# Example parameters and solution\n",
    "PARAMS = (1.5e-6, 5e-6, 0.0)\n",
    "solve_bvp_root(0.1, 0.0, -0.33, 0.0, 4.0, 0.1, PARAMS)\n",
    "PARAMS = (1.5e-6, 5e-6, 4.8920)\n",
    "solve_bvp_root(0.1, 0.0, +0.33, 0.0, 4.0, 0.1, PARAMS)"
   ]
  },
  {
   "cell_type": "markdown",
   "id": "da700ceb-ac20-4a7a-bd87-699421888f20",
   "metadata": {},
   "source": [
    "## Using `scipy`: `solve_bvp`\n",
    "The `scipy` module offers an useful function, [scipy.integrate.solve_ivp](https://docs.scipy.org/doc/scipy-1.15.0/reference/generated/scipy.integrate.solve_bvp.html) , to solve the problems we have been exploring. Check the manual and adapt the method Be careful: parameters are now treated as something that can vary, like the initial velocity or the energy in a quantum system, so our previous parameter use should be updated. "
   ]
  },
  {
   "cell_type": "code",
   "execution_count": null,
   "id": "d0d4cf02-5db0-4e4d-bcab-631de63315ba",
   "metadata": {
    "deletable": false,
    "nbgrader": {
     "cell_type": "code",
     "checksum": "0d3fdbfe5b55da1aed8a381a9e15265d",
     "grade": false,
     "grade_id": "cell-9498e8d08ad0ef23",
     "locked": false,
     "schema_version": 3,
     "solution": true,
     "task": false
    }
   },
   "outputs": [],
   "source": [
    "import numpy as np\n",
    "import seaborn as sns\n",
    "import matplotlib.pyplot as plt\n",
    "from scipy.integrate import solve_bvp\n",
    "sns.set()\n",
    "sns.set_context(\"talk\")\n",
    "\n",
    "def deriv(t, y, params):\n",
    "    # YOUR CODE HERE\n",
    "    raise NotImplementedError()\n",
    "    \n",
    "\n",
    "def bc(ya, yb, params):\n",
    "    # YOUR CODE HERE\n",
    "    raise NotImplementedError()\n",
    "    \n",
    "\n",
    "def mysolve_bvp(x, y0, params):\n",
    "    # YOUR CODE HERE\n",
    "    raise NotImplementedError()\n",
    "    \n",
    "    return sol\n",
    "\n",
    "for PARAMS in [np.array([1.5e-6, 5e-6, 0.0]), np.array([1.5e-6, 5e-6, 4.8920])]:\n",
    "    x = np.linspace(0, 4.0, 100)\n",
    "    y0 = np.ones((2, x.size))\n",
    "    fig, ax = plt.subplots()\n",
    "    ax.plot(sol.x, sol.y[0])\n",
    "    print(sol.p)"
   ]
  },
  {
   "cell_type": "code",
   "execution_count": null,
   "id": "2b9bace3-655a-4a17-985c-82993825fe15",
   "metadata": {
    "deletable": false,
    "nbgrader": {
     "cell_type": "code",
     "checksum": "5fbdddd6041642179d949c86608b36b3",
     "grade": false,
     "grade_id": "cell-ec2dbde144099065",
     "locked": false,
     "schema_version": 3,
     "solution": true,
     "task": false
    }
   },
   "outputs": [],
   "source": [
    "%%writefile fixed_param.py\n",
    "# This is an example on how to handle fixed and changing params\n",
    "import numpy as np\n",
    "import seaborn as sns\n",
    "import matplotlib.pyplot as plt\n",
    "from scipy.integrate import solve_bvp\n",
    "sns.set()\n",
    "sns.set_context(\"talk\")\n",
    "\n",
    "def deriv(t, y, params, fixed_params):\n",
    "    # YOUR CODE HERE\n",
    "    raise NotImplementedError()\n",
    "    \n",
    "\n",
    "def bc(ya, yb, params, fixed_params):\n",
    "    # YOUR CODE HERE\n",
    "    raise NotImplementedError()\n",
    "    \n",
    "\n",
    "def mysolve_bvp(x, y0, params, fixed_params):\n",
    "    # YOUR CODE HERE\n",
    "    raise NotImplementedError()\n",
    "    \n",
    "    return sol\n",
    "\n",
    "for PARAMS in [np.array([1.5e-6, 5e-6, 0.0]), np.array([1.5e-6, 5e-6, 4.8920])]:\n",
    "    x = np.linspace(0, 4.0, 100)\n",
    "    y0 = np.ones((2, x.size))\n",
    "    sol = mysolve_bvp(x, y0, np.array([1.0]), PARAMS)\n",
    "    fig, ax = plt.subplots()\n",
    "    ax.plot(sol.x, sol.y[0])\n",
    "    print(sol.p)\n"
   ]
  },
  {
   "cell_type": "markdown",
   "id": "3c02cbe1-c1be-44e4-a923-a00ac73a4df8",
   "metadata": {},
   "source": [
    "## Exercises"
   ]
  },
  {
   "cell_type": "markdown",
   "id": "2052b0ac-0359-4e6b-8d2d-a843e3cc34cd",
   "metadata": {},
   "source": [
    "### Ecuación de Schroedinger (workshop)\n",
    "Una partícula se encuentra confinada en un potencial infinito descrito por \n",
    "\n",
    "\\begin{equation}\n",
    "  V(x) = \n",
    "  \\begin{cases}\n",
    "  0, 0 \\le x \\le L,\\\\\n",
    "  \\infty, \\textrm{elsewhere}\n",
    "  \\end{cases}\n",
    "\\end{equation}\n",
    "\n",
    "La ecuación de onda $\\phi$ de la partícula (independiente del tiempo) es\n",
    "\\begin{equation}\n",
    "  \\frac{-\\hbar^2}{2m} \\frac{d^2\\phi(x)}{dx^2} + V(x) \\phi(x) = E\\phi(x).\n",
    "\\end{equation}\n",
    "Debido al potencial, la función de onda debe cumplir que $\\phi(0) = \\phi(L) = 0$. \n",
    "- Normalice la ecuación de manera que quede expresada en términos de una energía adimensional, posición adimensional, etc (medir la posición en unidades de $L$, etc)\n",
    "- Resuelva el sistema usando BVP. El valor de $E$ determina los niveles de energía. Busque la solución teórica y piense cómo dar un valor inicial para obteneer cada uno de los niveles de energía.\n",
    "\n"
   ]
  },
  {
   "cell_type": "markdown",
   "id": "b3ab99e4-5511-428a-bb7b-7ae55b808379",
   "metadata": {
    "deletable": false,
    "nbgrader": {
     "cell_type": "markdown",
     "checksum": "4339906976674cc4ed295e849da1f373",
     "grade": true,
     "grade_id": "cell-9be6f173e7fa50db",
     "locked": false,
     "points": 0,
     "schema_version": 3,
     "solution": true,
     "task": false
    },
    "tags": []
   },
   "source": [
    "YOUR ANSWER HERE"
   ]
  },
  {
   "cell_type": "code",
   "execution_count": null,
   "id": "1ef5f685-62d8-4420-b4af-d5d4c3468d64",
   "metadata": {
    "deletable": false,
    "nbgrader": {
     "cell_type": "code",
     "checksum": "0b0f3cfe2de347b76e8e80e72cddeff0",
     "grade": false,
     "grade_id": "cell-cc957611bd729b36",
     "locked": false,
     "schema_version": 3,
     "solution": true,
     "task": false
    },
    "tags": []
   },
   "outputs": [],
   "source": [
    "import seaborn as sns\n",
    "import matplotlib.pyplot as plt\n",
    "sns.set()\n",
    "sns.set_context(\"talk\")\n",
    "import numpy as np\n",
    "from scipy.integrate import solve_bvp, trapezoid\n",
    "\n",
    "def deriv(t, y, params):\n",
    "    V = 0\n",
    "    return np.vstack((y[1], -(params[0]-V)*y[0]))\n",
    "\n",
    "def bc(ya, yb, params):\n",
    "    return [ya[0] - 0.0, yb[0] - 0.0, ya[1] - 1.0]\n",
    "\n",
    "def solve_bvpE(x, y0, params):\n",
    "    # YOUR CODE HERE\n",
    "    raise NotImplementedError()\n",
    "\n"
   ]
  },
  {
   "cell_type": "code",
   "execution_count": null,
   "id": "0a60b9c1-8927-46b9-8e3a-6e968793045f",
   "metadata": {},
   "outputs": [],
   "source": [
    "PARAMS = np.array([1.7])\n",
    "x = np.linspace(0, 1, 100)\n",
    "y0 = np.ones((2, x.size))\n",
    "sol = solve_bvpE(x, y0, PARAMS)\n",
    "fig, ax = plt.subplots()\n",
    "ax.plot(sol.x, sol.y[0])\n",
    "print(sol.p)\n",
    "#print(sol.y[0])"
   ]
  },
  {
   "cell_type": "code",
   "execution_count": null,
   "id": "81736f93-89ed-42a7-9074-fbd68e994858",
   "metadata": {},
   "outputs": [],
   "source": [
    "#PARAMS = np.array([39.47])\n",
    "PARAMS = np.array([39.4])\n",
    "x = np.linspace(0, 1, 100)\n",
    "y0 = np.ones((2, x.size))\n",
    "y0[0, int(-3*x.size/4)] = -1\n",
    "sol = solve_bvpE(x, y0, PARAMS)\n",
    "fig, ax = plt.subplots()\n",
    "ax.plot(sol.x, sol.y[0])\n",
    "print(sol.p)\n",
    "#print(sol.y[0])"
   ]
  },
  {
   "cell_type": "code",
   "execution_count": null,
   "id": "8da03cc6-3446-4798-a24b-c0d544a6e69e",
   "metadata": {},
   "outputs": [],
   "source": [
    "PARAMS = np.array([80.7])\n",
    "sol = solve_bvpE(0.0, 1.0, 100, 0.0, 0.0, PARAMS)\n",
    "fig, ax = plt.subplots()\n",
    "ax.plot(sol.x, sol.y[0])\n",
    "print(sol.p)"
   ]
  },
  {
   "cell_type": "code",
   "execution_count": null,
   "id": "67556b87-9119-40c7-89cb-cde508ff1458",
   "metadata": {},
   "outputs": [],
   "source": []
  },
  {
   "cell_type": "markdown",
   "id": "e4316d21",
   "metadata": {},
   "source": [
    "## Matrix formulation for linear boundary value problems\n",
    "When the BVP is linear, you can solve it either using the interpolation already shown, or by formulating the problem as a matrix system. The later is based on a [finite difference](https://en.wikipedia.org/wiki/Finite_difference_method) discretization for the derivatives. Let's start with the following problem, representing the temperature $T$ across a linear bar (Chapra, 27.1)\n",
    "\n",
    "\\begin{equation}\n",
    "  \\frac{d^2T}{dx^2} + h'(T_a - T) = 0,  \n",
    "\\end{equation}\n",
    "\n",
    "where $h'$ is the transfer coefficient (m$^{-2}$), and $T_a$ is the sourronding air temperature. The boundary conditions are $T(0) = T_1 = 40$, $T(L=10) = T_2 = 200$, and $T_a = 20$. Also, $h' = 0.01$. \n",
    "\n",
    "First, please solve the problem both theoretically and then using `solve_bvp` or yout own method."
   ]
  },
  {
   "cell_type": "code",
   "execution_count": null,
   "id": "88ecbfdd",
   "metadata": {
    "deletable": false,
    "nbgrader": {
     "cell_type": "code",
     "checksum": "fb363acf6dce29a282623c2624768e07",
     "grade": false,
     "grade_id": "cell-4002848c456eccc8",
     "locked": false,
     "schema_version": 3,
     "solution": true,
     "task": false
    }
   },
   "outputs": [],
   "source": [
    "import numpy as np\n",
    "import seaborn as sns\n",
    "import matplotlib.pyplot as plt\n",
    "from scipy.integrate import solve_bvp\n",
    "sns.set()\n",
    "sns.set_context(\"talk\")\n",
    "\n",
    "def deriv(t, y, params):\n",
    "    # YOUR CODE HERE\n",
    "    raise NotImplementedError()\n",
    "\n",
    "def bc(ya, yb, params):\n",
    "    # YOUR CODE HERE\n",
    "    raise NotImplementedError()\n",
    "\n",
    "def solve_bvp_plot(x0, xf, params):\n",
    "    # YOUR CODE HERE\n",
    "    raise NotImplementedError()\n",
    "\n",
    "PARAMS = (0.01, 20.0)\n",
    "solve_bvp_plot(0.0, 10.0, PARAMS)\n",
    "print(PARAMS)"
   ]
  },
  {
   "cell_type": "code",
   "execution_count": null,
   "id": "886c3896",
   "metadata": {
    "deletable": false,
    "nbgrader": {
     "cell_type": "code",
     "checksum": "134e4dbf47744ff357a20af1af3d27a8",
     "grade": false,
     "grade_id": "cell-a915f7e6a7d105c7",
     "locked": false,
     "schema_version": 3,
     "solution": true,
     "task": false
    }
   },
   "outputs": [],
   "source": [
    "import numpy as np\n",
    "import seaborn as sns\n",
    "import matplotlib.pyplot as plt\n",
    "from scipy.optimize import root\n",
    "from scipy.integrate import solve_ivp\n",
    "sns.set()\n",
    "sns.set_context(\"talk\")\n",
    "\n",
    "def deriv(t, y, params):\n",
    "    # YOUR CODE HERE\n",
    "    raise NotImplementedError()\n",
    "\n",
    "def h(v0, y0, yf, t0, tf, dt, params):\n",
    "    # YOUR CODE HERE\n",
    "    raise NotImplementedError()\n",
    "\n",
    "def solve_bvp_root(y0, yf, v0, t0, tf, dt, params):\n",
    "    # YOUR CODE HERE\n",
    "    raise NotImplementedError()\n",
    "\n",
    "PARAMS = (0.01, 20)\n",
    "solve_bvp_root(40.0, 200.0, 10.9, 0.0, 10.0, 0.01, PARAMS)"
   ]
  },
  {
   "cell_type": "markdown",
   "id": "8cc10422",
   "metadata": {},
   "source": [
    "Now let's proceed with a different way: by discretizing the derivatives and setting the equation on the points. We have,\n",
    "\n",
    "\\begin{equation}\n",
    "\\frac{d^2T}{dx^2} \\simeq \\frac{T_{i+1} - 2T_i + T_{i-1}}{\\Delta x^2},  \n",
    "\\end{equation}\n",
    "where $\\Delta x$ is the partition size, so the original equation takes the form\n",
    "\\begin{equation}\n",
    "\\frac{T_{i+1} - 2T_i + T_{i-1}}{\\Delta x^2} - h'(T_i - T_a) = 0.  \n",
    "\\end{equation}\n",
    "Finally, after collecting terms, we have\n",
    "\\begin{equation}\n",
    "-T_{i-1} + (2+h'\\Delta x^2)T_i - T_{i+1} = h'\\Delta x^2T_a \\to -T_{i-1} + \\alpha T_i - T_{i+1} = \\beta.\n",
    "\\end{equation}\n",
    "This is a tri-diagonal system for the internal points."
   ]
  },
  {
   "cell_type": "markdown",
   "id": "1bfe7462",
   "metadata": {},
   "source": [
    "> **Exercise:** Write the matrix system assuming three internal points plus the boundary points. Hint: Start with $i=1$, you will get $-T_0 + \\alpha T_1 - T_2 = \\beta$. Then for $i=2$ you get $-T_1 + \\alpha T_2 - T_3 = \\beta$ and so on. Then you get your matrix system. Your unknowns are the internal points.\n",
    "\n",
    "Now, given the matrix system, solve it using the already seen matrix methods. Compare with the exact solution and the ones obtained from using the shooting method or `solve_bvp`."
   ]
  },
  {
   "cell_type": "code",
   "execution_count": null,
   "id": "c7360b98",
   "metadata": {
    "deletable": false,
    "nbgrader": {
     "cell_type": "code",
     "checksum": "d75547d82dc9f32477cd9eec72ef4000",
     "grade": false,
     "grade_id": "cell-373875215b123b43",
     "locked": false,
     "schema_version": 3,
     "solution": true,
     "task": false
    }
   },
   "outputs": [],
   "source": [
    "import numpy as np\n",
    "import scipy as sp\n",
    "\n",
    "def solve_bvp_finite_diffs(N, ALPHA, BETA, T1, T2):\n",
    "    \"\"\"\n",
    "    N : number of internal points\n",
    "    \"\"\"\n",
    "    M = np.zeros((N, N))\n",
    "    b = BETA*np.ones(N) \n",
    "    # Set diagonal elements\n",
    "    # YOUR CODE HERE\n",
    "    raise NotImplementedError()\n",
    "    # Solve the system Mx = b\n",
    "    x = np.linalg.solve(M, b)\n",
    "    return np.concatenate(([T1], x, [T2]))\n",
    "\n",
    "HPRIME = 0.01\n",
    "L = 10\n",
    "N = 300\n",
    "DX = L/(N+2-1) # +2 by adding the boundaries -1 by number of intervals\n",
    "TA = 20\n",
    "T1 = 40\n",
    "T2 = 200\n",
    "ALPHA = 2 + HPRIME*DX*DX\n",
    "BETA = HPRIME*DX*DX*TA\n",
    "\n",
    "T = solve_bvp_finite_diffs(N, ALPHA, BETA, T1, T2)"
   ]
  },
  {
   "cell_type": "code",
   "execution_count": null,
   "id": "eccbe702",
   "metadata": {},
   "outputs": [],
   "source": [
    "import matplotlib.pyplot as plt\n",
    "import seaborn as sns\n",
    "sns.set()\n",
    "sns.set_context('paper')\n",
    "x = DX*np.arange(N+2)\n",
    "plt.plot(x, T, '-o')\n"
   ]
  },
  {
   "cell_type": "markdown",
   "id": "1976e81e",
   "metadata": {},
   "source": [
    "## Additional Exercises"
   ]
  },
  {
   "cell_type": "markdown",
   "id": "49532983",
   "metadata": {},
   "source": [
    "### Generic BVP \n",
    "Solve the following equation using the shooting method and the matrix method,\n",
    "\\begin{equation}\n",
    "7\\frac{d^2y}{dx^2} -  2\\frac{dy}{dx} - y +x = 0,\n",
    "\\end{equation}\n",
    "with $y(0) = 5, y(20) = 8$\n",
    "\n",
    "\n"
   ]
  },
  {
   "cell_type": "code",
   "execution_count": null,
   "id": "33ff9092",
   "metadata": {},
   "outputs": [],
   "source": []
  },
  {
   "cell_type": "markdown",
   "id": "2a1fa005",
   "metadata": {},
   "source": [
    "### BVP with Newman condition\n",
    "Here we will add a boundary condition on the derivative, on the left, which means that the left node is also an unknown. In that case you can use $dT/dx \\simeq = (T_{1} - T_{-1})/2\\Delta x$ so $T_{-1} = T_1 -2 \\Delta x dT/\\Delta x$ and then you get the value for the imaginary node $T_{-1}$ which is now needed. Solve following system:\n",
    "\\begin{equation}\n",
    "\\frac{d^2T}{dr^2} + \\frac{1}{r}\\frac{dT}{dr} + S = 0,\n",
    "\\end{equation}\n",
    "over $0 \\le r\\le 1$, with $T(r=1) = 1$ and $\\frac{dT}{dr} = 0$ in $r=0$, for S = 1, 10, and 20 K/m$^2$. This is a model of the temperature distribution on  a circular rod with internal heat source $S$. "
   ]
  },
  {
   "cell_type": "code",
   "execution_count": null,
   "id": "8f7eaea1",
   "metadata": {},
   "outputs": [],
   "source": []
  },
  {
   "cell_type": "markdown",
   "id": "eaa899f4",
   "metadata": {},
   "source": [
    "### Deflection of a sailboat mast (Chapra 28.22)\n",
    "The following equation can be used to model the deflection of a sailboat mast subject to wind force,\n",
    "\\begin{equation}\n",
    "\\frac{d^2y}{dz^2} = \\frac{f}{2EI}(L-z)^2,\n",
    "\\end{equation}\n",
    "where $f$ is the wind force, $E$ is the modulus of elasticity, $L$ the mast length, and $I$ the inertia moment. Compute the deflection as a function of $z$ if $y = 0$ and $dy/dz = 0$ at $z = 0$. Use $f = 60, L = 30, E = 1.25\\times 10^8, I = 0.05$"
   ]
  },
  {
   "cell_type": "code",
   "execution_count": null,
   "id": "48acf201",
   "metadata": {},
   "outputs": [],
   "source": []
  },
  {
   "cell_type": "markdown",
   "id": "91568d34",
   "metadata": {},
   "source": [
    "### Deflection of a sailboat mast (Chapra 28.23)\n",
    "Same previous problem but now the force varies with height as \n",
    "\\begin{equation}\n",
    "f(z) = \\frac{200z}{5+z}e^{-2z/30}.\n",
    "\\end{equation}"
   ]
  },
  {
   "cell_type": "code",
   "execution_count": null,
   "id": "78781945",
   "metadata": {},
   "outputs": [],
   "source": []
  }
 ],
 "metadata": {
  "kernelspec": {
   "display_name": "Python 3 (ipykernel)",
   "language": "python",
   "name": "python3"
  },
  "language_info": {
   "codemirror_mode": {
    "name": "ipython",
    "version": 3
   },
   "file_extension": ".py",
   "mimetype": "text/x-python",
   "name": "python",
   "nbconvert_exporter": "python",
   "pygments_lexer": "ipython3",
   "version": "3.12.8"
  }
 },
 "nbformat": 4,
 "nbformat_minor": 5
}
