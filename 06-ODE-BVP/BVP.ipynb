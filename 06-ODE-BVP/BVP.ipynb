{
 "cells": [
  {
   "cell_type": "markdown",
   "id": "96ebc038-db15-44b2-9e1a-84a5aed7fc8a",
   "metadata": {},
   "source": [
    "# BVP: Boundary value problems\n",
    "[Boundary value problems](https://en.wikipedia.org/wiki/Boundary_value_problem) (BVP) are very common in both theoretical (Sturm-Liuvoille problems) and engineering applications . In this case, boundary, not initial, conditions are specified. For example, you specify the initial and final positions of a particles, instead of the initial position and velocity. BVP are more difficult to solve, and also represent our first step towards partial differential equations. Here will learn how to use IVP techniques to solve BVP by using the so-called [shooting method](https://en.wikipedia.org/wiki/Shooting_method). We will also check an alternative formulation, in terms of [finite differences](https://en.wikipedia.org/wiki/Finite_difference_method), where the BVP will be written as a matrix problem that will be solved using the previously seen techniques. We will also compare our solutions with the ones obtained from using `scipy` and the `solve_ivp` method, https://docs.scipy.org/doc/scipy/reference/generated/scipy.integrate.solve_bvp.html."
   ]
  },
  {
   "cell_type": "markdown",
   "id": "eb9720ef-885a-469c-b944-50cfda81ef50",
   "metadata": {},
   "source": [
    "## Shooting method\n",
    "The [shooting method](https://en.wikipedia.org/wiki/Shooting_method) uses IVP solutions to estimate the best initial condition to solve the BVP. Imagine that you want to estimate the initial velocity for the cannon ball in order to make sure that it hits a given target at position $b$. \n",
    "\n",
    "<figure>\n",
    "<img src=\"https://pythonnumericalmethods.berkeley.edu/_images/23.02.01-shooting.png\" width=60%>\n",
    "<figcaption>Reproducido de: https://pythonnumericalmethods.berkeley.edu/notebooks/chapter23.02-The-Shooting-Method.html </figcaption>\n",
    "</figure>\n",
    "\n",
    "## Linear shooting method: interpolation\n",
    "\n",
    "The *linear* shooting method solves the problem for two different initial conditions, and from them computes the exact initial conditions needed.  Then it solves again the BVP as a simple IVP given the extra and correct initial condition found. Let's assume we have a linear second order equation. If you put the initial values $(y_{0}, v_{0a})$, you get the final value $y_{fa}$ (first ICP solution). If you put the initial values $(y_{0}, v_{0b})$, you get the final value $y_{fb}$ (second IVP solution). By taking into account the linear nature of the problem, we can compute the straight-line equation in the $v_0 - y_f$ space to get the right initial condition as \n",
    "\\begin{equation}\n",
    "v_0 = v_{0a} + \\frac{y_f - y_{fa}}{y_{fb} - y_{fa}}(v_{0b} - v_{0a}).\n",
    "\\end{equation}\n",
    "Then, by using that initial condition, we compute the actual solution (third IVP solution).\n",
    "\n",
    "As an example, let's solve the following problem (Chapra 24.11): Compound $A$ diffuses through a 4-cm-long tube and reacts as it diffuses. The process can be  modeled as\n",
    "\n",
    "\\begin{equation}\n",
    "D\\frac{d^2A}{dx^2} - kA = 0.  \n",
    "\\end{equation}\n",
    "At $x=0$ there is a large source of $A$ with fixed concentration of $0.1$ M. At the other end there is a material that quickly absorbs $A$, so the concentration is 0 M. If $D = 1.5\\times 10^{-6}$ cm$^2$/s and $k = 5\\times 10^{-6}$ s$_1$, what is the concentration along the tube?\n",
    "\n",
    "Write a function that returns the correct initial derivative value and plots the concentration along the tube."
   ]
  },
  {
   "cell_type": "code",
   "execution_count": null,
   "id": "148a517e-df9b-49c1-adaf-42efbed19c8a",
   "metadata": {
    "deletable": false,
    "nbgrader": {
     "cell_type": "code",
     "checksum": "c799cdc3c33fcf5ff45d30af1ecbfb8e",
     "grade": false,
     "grade_id": "cell-050b00e7bc672530",
     "locked": false,
     "schema_version": 3,
     "solution": true,
     "task": false
    },
    "tags": []
   },
   "outputs": [],
   "source": [
    "import numpy as np\n",
    "import seaborn as sns\n",
    "import matplotlib.pyplot as plt\n",
    "sns.set()\n",
    "sns.set_context(\"poster\")\n",
    "\n",
    "def deriv(t, y, params):\n",
    "    return [y[1], params[1]*y[0]/params[0]]\n",
    "\n",
    "def mysolve_bvp(y0, yf, v0a, v0b, t0, tf, dt, params):\n",
    "    # YOUR CODE HERE\n",
    "    raise NotImplementedError()\n",
    "\n",
    "PARAMS = (1.5e-6, 5e-6)\n",
    "mysolve_bvp(0.1, 0.0, -0.23, -0.14, 0.0, 4.0, 0.1, PARAMS)"
   ]
  },
  {
   "cell_type": "markdown",
   "id": "37c710f5-a0b7-42ab-939c-146186b66c58",
   "metadata": {},
   "source": [
    "## Linear shooting method: root finding \n",
    "The previous problem can be written as a root finding procedure. If we see the IVP solution as a function of the initial velocity condition, $y_f = g(v_0)$ (plus other parameters), then we can see this problem as a root finding one, looking for the right $v_0$ that gives $h(v_0) = 0 = g(v_0) - y_f$. As you can see later, this will allow us to extend the shooting method to non-linear problems. Python allows us to compute roots using the `scipy.optimize.root` method, https://docs.scipy.org/doc/scipy/reference/generated/scipy.optimize.root.html ."
   ]
  },
  {
   "cell_type": "code",
   "execution_count": null,
   "id": "ce5c1757-ccfc-428e-a21b-c1de0bec995d",
   "metadata": {
    "deletable": false,
    "nbgrader": {
     "cell_type": "code",
     "checksum": "a92585116b8b020a1d9b60c42a888cb7",
     "grade": false,
     "grade_id": "cell-a447cf326ba2d583",
     "locked": false,
     "schema_version": 3,
     "solution": true,
     "task": false
    },
    "tags": []
   },
   "outputs": [],
   "source": [
    "import numpy as np\n",
    "import seaborn as sns\n",
    "import matplotlib.pyplot as plt\n",
    "from scipy.optimize import root\n",
    "from scipy.integrate import solve_ivp\n",
    "\n",
    "sns.set()\n",
    "sns.set_context(\"poster\")\n",
    "\n",
    "def deriv(t, y, params):\n",
    "    return [y[1], params[1]*y[0]/params[0]]\n",
    "\n",
    "def h(v0, y0, yf, t0, tf, dt, params):\n",
    "    # YOUR CODE HERE\n",
    "    raise NotImplementedError()\n",
    "\n",
    "def solve_bvp_root(y0, yf, v0, t0, tf, dt, params):\n",
    "    # YOUR CODE HERE\n",
    "    raise NotImplementedError()\n",
    "    \n",
    "PARAMS = (1.5e-6, 5e-6)\n",
    "solve_bvp_root(0.1, 0.0, -0.23, 0.0, 4.0, 0.1, PARAMS)"
   ]
  },
  {
   "cell_type": "markdown",
   "id": "2f410dc8-f2cc-4a1b-a83e-b5802930cd5c",
   "metadata": {},
   "source": [
    "## Non linear shooting method\n",
    "As we said, formulating the problem as a root finding one allows us to extend the method to non-linear systems (there are even better generalization like the  https://en.wikipedia.org/wiki/Direct_multiple_shooting_method). Let's now solve the same problem but adding some  drag coefficient, $f_v = -b v$"
   ]
  },
  {
   "cell_type": "code",
   "execution_count": null,
   "id": "ecd5da67-72d7-4fb0-86a4-a7e2bedb9a9d",
   "metadata": {
    "deletable": false,
    "nbgrader": {
     "cell_type": "code",
     "checksum": "19d00096f8f0f85a31fbd4bc36935410",
     "grade": false,
     "grade_id": "cell-5f4c2102039b0d45",
     "locked": false,
     "schema_version": 3,
     "solution": true,
     "task": false
    },
    "tags": []
   },
   "outputs": [],
   "source": [
    "import numpy as np\n",
    "import seaborn as sns\n",
    "import matplotlib.pyplot as plt\n",
    "from scipy.optimize import root\n",
    "sns.set()\n",
    "sns.set_context(\"talk\")\n",
    "\n",
    "def deriv(t, y, params):\n",
    "    return [y[1], params[1]*y[0]/params[0] - params[2]*y[1]]\n",
    "\n",
    "def h(v0, y0, yf, t0, tf, dt, params):\n",
    "    # YOUR CODE HERE\n",
    "    raise NotImplementedError()\n",
    "\n",
    "def solve_bvp_root(y0, yf, v0, t0, tf, dt, params):\n",
    "    # YOUR CODE HERE\n",
    "    raise NotImplementedError()\n",
    "\n",
    "PARAMS = (1.5e-6, 5e-6, 0.0)\n",
    "solve_bvp_root(0.1, 0.0, -0.33, 0.0, 4.0, 0.1, PARAMS)\n",
    "PARAMS = (1.5e-6, 5e-6, 4.8920)\n",
    "solve_bvp_root(0.1, 0.0, +0.33, 0.0, 4.0, 0.1, PARAMS)"
   ]
  },
  {
   "cell_type": "markdown",
   "id": "da700ceb-ac20-4a7a-bd87-699421888f20",
   "metadata": {},
   "source": [
    "## Using `scipy`: `solve_bvp`\n",
    "The `scipy` module offers an useful function, https://docs.scipy.org/doc/scipy/reference/generated/scipy.integrate.solve_bvp.html , to solve the problems we have been exploring. Check the manual and adapt the method Be careful: parameters are now treated as something that can vary, like the initial velocity or the energy in a quantum system, so our previous parameter use should be updated. "
   ]
  },
  {
   "cell_type": "code",
   "execution_count": null,
   "id": "996dfae9-78f0-41fc-b68e-d2da982a5f49",
   "metadata": {
    "deletable": false,
    "nbgrader": {
     "cell_type": "code",
     "checksum": "8bbc060276bcfdd058589b99b92d3bbb",
     "grade": false,
     "grade_id": "cell-f803eab1f5566632",
     "locked": false,
     "schema_version": 3,
     "solution": true,
     "task": false
    },
    "tags": []
   },
   "outputs": [],
   "source": [
    "# YOUR CODE HERE\n",
    "raise NotImplementedError()"
   ]
  },
  {
   "cell_type": "markdown",
   "id": "3c02cbe1-c1be-44e4-a923-a00ac73a4df8",
   "metadata": {},
   "source": [
    "## Exercises"
   ]
  },
  {
   "cell_type": "markdown",
   "id": "2052b0ac-0359-4e6b-8d2d-a843e3cc34cd",
   "metadata": {},
   "source": [
    "### Ecuación de Schroedinger (workshop)\n",
    "Una partícula se encuentra confinada en un potencial infinito descrito por \n",
    "\n",
    "\\begin{equation}\n",
    "  V(x) = \n",
    "  \\begin{cases}\n",
    "  0, 0 \\le x \\le L,\\\\\n",
    "  \\infty, \\textrm{elsewhere}\n",
    "  \\end{cases}\n",
    "\\end{equation}\n",
    "\n",
    "La ecuación de onda $\\phi$ de la partícula (independiente del tiempo) es\n",
    "\\begin{equation}\n",
    "  \\frac{-\\hbar^2}{2m} \\frac{d^2\\phi(x)}{dx^2} + V(x) \\phi(x) = E\\phi(x).\n",
    "\\end{equation}\n",
    "Debido al potencial, la función de onda debe cumplir que $\\phi(0) = \\phi(L) = 0$. \n",
    "- Normalice la ecuación de manera que quede expresada en términos de una energía adimensional, posición adimensional, etc (medir la posición en unidades de $L$, etc)\n",
    "- Resuelva el sistema usando BVP. El valor de $E$ determina los niveles de energía. Busque la solución teórica y piense cómo dar un valor inicial para obteneer cada uno de los niveles de energía.\n",
    "\n"
   ]
  },
  {
   "cell_type": "markdown",
   "id": "b3ab99e4-5511-428a-bb7b-7ae55b808379",
   "metadata": {
    "deletable": false,
    "nbgrader": {
     "cell_type": "markdown",
     "checksum": "4339906976674cc4ed295e849da1f373",
     "grade": true,
     "grade_id": "cell-9be6f173e7fa50db",
     "locked": false,
     "points": 0,
     "schema_version": 3,
     "solution": true,
     "task": false
    },
    "tags": []
   },
   "source": [
    "YOUR ANSWER HERE"
   ]
  },
  {
   "cell_type": "code",
   "execution_count": null,
   "id": "1ef5f685-62d8-4420-b4af-d5d4c3468d64",
   "metadata": {
    "deletable": false,
    "nbgrader": {
     "cell_type": "code",
     "checksum": "0b0f3cfe2de347b76e8e80e72cddeff0",
     "grade": false,
     "grade_id": "cell-cc957611bd729b36",
     "locked": false,
     "schema_version": 3,
     "solution": true,
     "task": false
    },
    "tags": []
   },
   "outputs": [],
   "source": [
    "import seaborn as sns\n",
    "import matplotlib.pyplot as plt\n",
    "sns.set()\n",
    "sns.set_context(\"talk\")\n",
    "import numpy as np\n",
    "from scipy.integrate import solve_bvp, trapezoid\n",
    "\n",
    "def deriv(t, y, params):\n",
    "    V = 0\n",
    "    return np.vstack((y[1], -(params[0]-V)*y[0]))\n",
    "\n",
    "def bc(ya, yb, params):\n",
    "    return [ya[0] - 0.0, yb[0] - 0.0, ya[1] - 1.0]\n",
    "\n",
    "def solve_bvpE(x, y0, params):\n",
    "    # YOUR CODE HERE\n",
    "    raise NotImplementedError()\n",
    "\n"
   ]
  },
  {
   "cell_type": "code",
   "execution_count": null,
   "id": "0a60b9c1-8927-46b9-8e3a-6e968793045f",
   "metadata": {},
   "outputs": [],
   "source": [
    "PARAMS = np.array([1.7])\n",
    "x = np.linspace(0, 1, 100)\n",
    "y0 = np.ones((2, x.size))\n",
    "sol = solve_bvpE(x, y0, PARAMS)\n",
    "fig, ax = plt.subplots()\n",
    "ax.plot(sol.x, sol.y[0])\n",
    "print(sol.p)\n",
    "#print(sol.y[0])"
   ]
  },
  {
   "cell_type": "code",
   "execution_count": null,
   "id": "81736f93-89ed-42a7-9074-fbd68e994858",
   "metadata": {},
   "outputs": [],
   "source": [
    "#PARAMS = np.array([39.47])\n",
    "PARAMS = np.array([39.4])\n",
    "x = np.linspace(0, 1, 100)\n",
    "y0 = np.ones((2, x.size))\n",
    "y0[0, int(-3*x.size/4)] = -1\n",
    "sol = solve_bvpE(x, y0, PARAMS)\n",
    "fig, ax = plt.subplots()\n",
    "ax.plot(sol.x, sol.y[0])\n",
    "print(sol.p)\n",
    "#print(sol.y[0])"
   ]
  },
  {
   "cell_type": "code",
   "execution_count": null,
   "id": "8da03cc6-3446-4798-a24b-c0d544a6e69e",
   "metadata": {},
   "outputs": [],
   "source": [
    "PARAMS = np.array([80.7])\n",
    "sol = solve_bvpE(0.0, 1.0, 100, 0.0, 0.0, PARAMS)\n",
    "fig, ax = plt.subplots()\n",
    "ax.plot(sol.x, sol.y[0])\n",
    "print(sol.p)"
   ]
  },
  {
   "cell_type": "code",
   "execution_count": null,
   "id": "67556b87-9119-40c7-89cb-cde508ff1458",
   "metadata": {},
   "outputs": [],
   "source": []
  }
 ],
 "metadata": {
  "kernelspec": {
   "display_name": "Python 3 (ipykernel)",
   "language": "python",
   "name": "python3"
  },
  "language_info": {
   "codemirror_mode": {
    "name": "ipython",
    "version": 3
   },
   "file_extension": ".py",
   "mimetype": "text/x-python",
   "name": "python",
   "nbconvert_exporter": "python",
   "pygments_lexer": "ipython3",
   "version": "3.10.6"
  }
 },
 "nbformat": 4,
 "nbformat_minor": 5
}
