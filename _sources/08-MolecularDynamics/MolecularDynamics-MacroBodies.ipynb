{
 "cells": [
  {
   "cell_type": "markdown",
   "id": "5b29dc97-c873-4317-bfab-cea8c4de93ac",
   "metadata": {},
   "source": [
    "# Molecular Dynamics\n",
    "\n",
    "https://github.com/hannorein/rebound\n",
    "\n",
    "[Molecular dynamics](https://en.wikipedia.org/wiki/Molecular_dynamics) (MD)is a simulation technique that is applied from actual molecules to systems as large as planetary rings (for granular systems and beyond it is known as [Discrete Element Method](https://en.wikipedia.org/wiki/Discrete_element_method)). The key is to have discrete bodies that interact under some given potential fields or forces and from that to integrate the equations of motion. To apply a MD simulation you will need to\n",
    "- **define a body**: Usually done using a class/struct. Examples are atoms, molecules, grains of sand, rocks, blocks of ice, etc.\n",
    "- **define forces among bodies**: Those can be only external (gravity, potential fields), or by contact (repulsion, friction, damping),  etc. Usually modeled using a Collider class/struct or similar.  \n",
    "- **define an integration technique**: this will allow to solve the dynamic equations. Examples are Verlet, Velocity Verlet, Leap-Frog, Symplectic algorithms, RESPA, etc. Can be modeled as simple functions or as class/struct for more complex situations.\n",
    "\n",
    "Of course many details are left out in this short introduction (pre-processing or sample preparation, optimization with [Verlet lists](https://en.wikipedia.org/wiki/Verlet_list) and/or [cell lists](https://en.wikipedia.org/wiki/Cell_lists), rotations, compund bodies, post-processing and analysis, etc). \n",
    "\n",
    "Some examples of HPC systems for Molecular Dynamics at the level of molecules are [lammps](https://www.lammps.org/#gsc.tab=0), [grommacs](https://www.gromacs.org/), and [many more](https://en.wikipedia.org/wiki/Comparison_of_software_for_molecular_mechanics_modeling). For the Discrete Element Method, we have [lammps](https://www.lammps.org/#gsc.tab=0) (with the granular package), [liggghts](https://www.cfdem.com/liggghtsr-open-source-discrete-element-method-particle-simulation-code), [mechsys](https://mechsys.nongnu.org/), [mercury dpm](https://www.mercurydpm.org/), [Yade](https://yade-dem.org/wiki/Yade), [Altair](https://www.altair.com/edem), [Rocky](https://rocky.esss.co/), etc\n",
    "\n",
    "In the following we will focus MD applied to macroscopic bodies (in the final projects you will be able to use some of the previously mentioned packages and to apply it to different systems).\n"
   ]
  },
  {
   "cell_type": "markdown",
   "id": "cb40170f-1046-468c-ac41-0027b86bc375",
   "metadata": {},
   "source": [
    "## Defining the body\n",
    "We will start by simulating a particle under the gravity force. The basic attributes to for a particle of this kind would be\n",
    "- mass (scalar)\n",
    "- Position, velocity and force (vectors)\n",
    "Other possible like the radius are not as relevant now since we are focusing only on Center of Mass dynamics. Let's define the body class "
   ]
  },
  {
   "cell_type": "code",
   "execution_count": null,
   "id": "7bb85d41-6409-4d31-b154-78a691e7b1f5",
   "metadata": {},
   "outputs": [],
   "source": [
    "%%writefile body.py\n",
    "import numpy as np\n",
    "class Body:\n",
    "    \"\"\"\n",
    "    Class to model a simple point body\n",
    "    \"\"\"\n",
    "    def __init__(self, R0, V0, m0, r0 = 0.0): # constructor\n",
    "        self.mass = m0\n",
    "        self.rad = r0\n",
    "        self.R = np.array(R0)\n",
    "        self.V = np.array(V0)\n",
    "        self.F = np.zeros(3)\n",
    "\n",
    "\n",
    "if __name__ == \"__main__\":\n",
    "    R0 = np.array([0, 0.9, 0.0])\n",
    "    V0 = np.array([0.98, 1.23, 0.0])\n",
    "    mass = 0.4343\n",
    "    body = Body(R0, V0, mass)\n",
    "    print(body.mass)\n",
    "    print(body.V[1])"
   ]
  },
  {
   "cell_type": "markdown",
   "id": "7cfcdb01-dde6-4701-9715-4055e4afe4ca",
   "metadata": {},
   "source": [
    "To use it, let's just instantiate the class"
   ]
  },
  {
   "cell_type": "code",
   "execution_count": null,
   "id": "214c0476-1196-416e-8816-0e73bcd4c80d",
   "metadata": {},
   "outputs": [],
   "source": [
    "R0 = np.array([0, 0.9, 0.0])\n",
    "V0 = np.array([0.98, 1.23, 0.0])\n",
    "mass = 0.4343\n",
    "body = Body(R0, V0, mass)"
   ]
  },
  {
   "cell_type": "markdown",
   "id": "ced0857c-7d5f-4c84-ab47-36328658631d",
   "metadata": {},
   "source": [
    "## Forces \n",
    "For now, we will just add gravity, so our `Collider` class will be very simple, with only some parameters"
   ]
  },
  {
   "cell_type": "code",
   "execution_count": null,
   "id": "207a0c23-f107-4e7e-bd95-6e837e10f60f",
   "metadata": {},
   "outputs": [],
   "source": [
    "%%writefile collider.py\n",
    "import numpy as np\n",
    "class Collider:\n",
    "    \"\"\"\n",
    "    Class to compute forces on each body\n",
    "    \"\"\"\n",
    "    # Parameters\n",
    "    G = np.array([0.0, -9.81, 0.0])\n",
    "    B = 3.9\n",
    "    K = 1000.345\n",
    "\n",
    "    # Functions\n",
    "    def computeForce(self, body): # For now operate on a single body\n",
    "        body.F = np.zeros(3) # Reset the force\n",
    "        body.F += body.mass*self.G # Add gravity"
   ]
  },
  {
   "cell_type": "markdown",
   "id": "5e3e8881-2bed-4c25-9312-b1fb560f3ea7",
   "metadata": {},
   "source": [
    "## Integration algorithm\n",
    "Here we will need to define the algorithm that will advance the system forward in time. There are several possibilities, like using the Euler algorithm (unstable), Runge-Kutta (not advisable since it evaluates the force 4 times per integration step), or better something like [Verlet](https://en.wikipedia.org/wiki/Verlet_integration), Optimized Verlet, [Leap-Frog](https://en.wikipedia.org/wiki/Leapfrog_integration), etc. Here, we will use the leap-frog algorithm."
   ]
  },
  {
   "cell_type": "markdown",
   "id": "f342b2e6-767a-4b8f-9803-d29a34eadae0",
   "metadata": {},
   "source": [
    "### Leap-frog algorithm\n",
    "First, let's expand the position around $t + \\delta t$, \n",
    "\n",
    "$$\\vec R(t + \\delta t) = \\vec R(t) + \\delta t \\vec V(t) + \\delta t^2 \\vec A(t)/2 + O(\\delta t^3), $$\n",
    "\n",
    "but, from the previous, one can expand around $t + \\delta t/2$ as\n",
    "\n",
    "$$\\vec R(t + \\delta t) = \\vec R(t + \\delta t/2 + \\delta t/2) = \\vec R(t + \\delta t/2) + \\delta t \\vec V(t + \\delta t/2)/2 + (\\delta t/2)^2 \\vec A(t + \\delta t/2)/2 + O(\\delta t^3). $$\n",
    "\n",
    "Also, \n",
    "\n",
    "$$\\vec R(t) = \\vec R(t + \\delta t/2 - \\delta t/2) = \\vec R(t + \\delta t/2) - \\delta t \\vec V(t + \\delta t/2)/2 + (\\delta t/2)^2 \\vec A(t + \\delta t/2)/2 + O(\\delta t^3). $$\n",
    "\n",
    "Finally, by substrating the last two equation and re-grouping,\n",
    "\n",
    "$$\\vec R(t + \\delta t) = \\vec R(t) + \\delta t \\vec V(t + \\delta t/2) + O(\\delta t^3), $$\n",
    "$$\\vec V(t + \\delta t/2) = \\vec V(t - \\delta t/2) + \\delta t \\vec A(t) + O(\\delta t^3). $$\n",
    "\n",
    "This are the expression for the Leap-Frog method. As you can see, you need first to compute $V(t + \\delta t/2)$ to later computer $R(t + \\delta t)$. This algorithm, given the positions, velocities and Forces (accelerations) at time $t$, allows you to compute the next position and velocities at time-step $t+\\delta t$ and $t + \\delta t/2$, respectively.\n",
    "\n",
    "---\n",
    "**NOTE**: What happens when moving from $t = 0$ to $t = 0 + \\delta t$ (first time step)?. At the beginning of the simulation, you have $\\vec R(0)$, $\\vec V(0)$ and $\\vec A(0)$. But, for the first time step, the Leap-Frog equations give\n",
    "\n",
    "$$\\vec V(0 + \\delta t/2) = \\vec V(0 - \\delta t/2) + \\delta t \\vec A(0),$$\n",
    "$$\\vec R(0 + \\delta t) = \\vec R(0) + \\delta t \\vec V(0 + \\delta t/2).$$\n",
    "\n",
    "So you need the velocity at time $t = -\\delta t/2$, not at time $t = 0$. This implies that the method is not \"self-started\", and you need first to change the velocity from its initial value to\n",
    "\n",
    "$$\\vec V(-\\delta t/2) = \\vec V(0) - \\delta t\\vec A(0)/2.$$\n"
   ]
  },
  {
   "cell_type": "code",
   "execution_count": null,
   "id": "269fd3ab-bb98-4456-93db-4d00df73343b",
   "metadata": {},
   "outputs": [],
   "source": [
    "%%writefile integrator.py\n",
    "class TimeIntegrator:\n",
    "    \"\"\"\n",
    "    Class that uses Leapfrog to advance in time\n",
    "    \"\"\"\n",
    "    dt = 0.01 # should be changed according to the simulation needs\n",
    "    def __init__(self, dt): # constructor\n",
    "        self.dt = dt\n",
    "\n",
    "    def startIntegration(self, body):\n",
    "        body.V = body.V - 0.5*self.dt*body.F/body.mass\n",
    "\n",
    "    def timestep(self, body):\n",
    "        body.V = body.V + self.dt*body.F/body.mass\n",
    "        body.R = body.R + self.dt*body.V\n"
   ]
  },
  {
   "cell_type": "markdown",
   "id": "18c490ad-9583-493b-8749-a52a4ec752ca",
   "metadata": {},
   "source": [
    "### Particle falling under constant gravity\n",
    "Now we are ready to perform our first simple simulation of a particle under the action of constant gravity."
   ]
  },
  {
   "cell_type": "code",
   "execution_count": null,
   "id": "e91e9ceb-ed58-4c5c-971a-2b122c550c9f",
   "metadata": {},
   "outputs": [],
   "source": [
    "%%writefile md.py\n",
    "\n",
    "import numpy as np\n",
    "import body as bd\n",
    "import collider as col\n",
    "import integrator as tint\n",
    "\n",
    "#%matplotlib inline\n",
    "import matplotlib.pyplot as plt\n",
    "\n",
    "# Pre-processing: Setup. For more particless: mass distribution, random positions, etc\n",
    "particle = bd.Body([1.23, 2.34, 0.0], [0.0, 10.2, 0.0], 0.654, 0.23)\n",
    "\n",
    "# Collider\n",
    "collider = col.Collider()\n",
    "collider.computeForce(particle) # Initial force\n",
    "\n",
    "# Time evolution stuff\n",
    "DT = 0.005\n",
    "T = np.arange(0.0, 20.5, DT)\n",
    "NSTEPS = T.size\n",
    "leapfrog = tint.TimeIntegrator(DT)\n",
    "leapfrog.startIntegration(particle) # mover la velocidad a -dt/2\n",
    "\n",
    "# Save data\n",
    "Ry = np.zeros(NSTEPS);\n",
    "Vy = np.zeros(NSTEPS)\n",
    "\n",
    "# main evolution loop\n",
    "it = 0\n",
    "while it < NSTEPS:\n",
    "    Ry[it] = particle.R[1];\n",
    "    Vy[it] = particle.V[1]\n",
    "    collider.computeForce(particle)\n",
    "    leapfrog.timestep(particle)\n",
    "    it = it + 1\n",
    "\n",
    "print(Vy[-1])\n",
    "\n",
    "# plot\n",
    "# plot final trayectories\n",
    "fig, ax = plt.subplots(1, 2, figsize=(9,4))\n",
    "ax[0].plot(T, Ry, 'o', label=\"R-lf\")\n",
    "#ax[0].plot(T, R0[1] + V0[1]*T + 0.5*T*T*G[1], '-', label=\"Exact\", lw=3)\n",
    "ax[1].plot(T, Vy, 'o', label=\"Vy-lf\")\n",
    "ax[0].legend()\n",
    "ax[1].legend()\n",
    "ax[0].set_xlabel(r\"$t(s)$\", fontsize=23)\n",
    "ax[0].set_ylabel(r\"$R_y(m)$\", fontsize=23)\n",
    "ax[1].set_xlabel(r\"$t(s)$\", fontsize=23)\n",
    "ax[1].set_ylabel(r\"$V_y(m)$\", fontsize=23)\n",
    "plt.tight_layout()\n",
    "fig.savefig(\"md.pdf\")\n",
    "\n",
    "# # fit\n",
    "# from scipy.optimize import curve_fit\n",
    "# def f(x, a, b, c):\n",
    "#     return a + b*x + c*x*x\n",
    "\n",
    "# result = curve_fit(f, T, Ry)\n",
    "# print(result)%\n"
   ]
  },
  {
   "cell_type": "code",
   "execution_count": null,
   "id": "bd03b851-f4b4-49aa-ae55-44eea69bccc6",
   "metadata": {},
   "outputs": [],
   "source": [
    "!python md.py"
   ]
  },
  {
   "cell_type": "markdown",
   "id": "3db24f00-8492-4553-b309-63eb1e6d6734",
   "metadata": {},
   "source": [
    "For now you can also try to create an animation for the system, using matplotlib or similar\n",
    "```python\n",
    "# Animation\n",
    "import matplotlib.animation as animation\n",
    "fig, ax = plt.subplots()\n",
    "ax.set_xlim([0, T[-1]])\n",
    "ax.set_ylim([Ry.min(), Ry.max()])\n",
    "line, = ax.plot([], [],'o')\n",
    "\n",
    "def init():\n",
    "    line.set_data([], [])\n",
    "    return line,\n",
    "\n",
    "def animate(i):\n",
    "    line.set_data(T[i], Ry[i])\n",
    "    return line,\n",
    "\n",
    "anim = animation.FuncAnimation(fig, animate, init_func=init,\n",
    "                               frames=NSTEPS, interval=20, blit=False)\n",
    "anim.save('ParticleGravity.mp4', fps=30)\n",
    "```"
   ]
  },
  {
   "cell_type": "markdown",
   "id": "2cba7c3e-a0ad-4366-a07f-bd24f4c1266b",
   "metadata": {},
   "source": [
    "## Exercise: damping and bouncing \n",
    "Modify the collider to add some damping with the air (a force with the form $-bm\\vec v$, with $v$ the speed). Also, add a force with the ground, of the form $k\\delta \\hat n$, with $\\delta$ the interpenetration and $\\hat n$ is the normal to the plane. Assume the body is now a sphere (it has a radius `radius`)"
   ]
  },
  {
   "cell_type": "code",
   "execution_count": null,
   "id": "f7cfe5b2-93a4-44ee-a8d0-092f4f30b13f",
   "metadata": {
    "deletable": false,
    "nbgrader": {
     "cell_type": "code",
     "checksum": "b26db733d0e31d1641418b9821b57c39",
     "grade": false,
     "grade_id": "cell-54716d2b1b6d5ad0",
     "locked": false,
     "schema_version": 3,
     "solution": true,
     "task": false
    },
    "tags": []
   },
   "outputs": [],
   "source": [
    "import numpy as np\n",
    "class Collider:\n",
    "    \"\"\"\n",
    "    Class to compute forces on each body\n",
    "    \"\"\"\n",
    "    # Parameters\n",
    "    G = np.array([0.0, -9.81, 0.0])\n",
    "    B = 3.9\n",
    "    K = 1000.345\n",
    "\n",
    "    # Functions\n",
    "    def computeForce(self, body): # For now operate on a single body\n",
    "        body.F = np.zeros(3) # Reset the force\n",
    "        body.F += body.mass*self.G # Add gravity\n",
    "        # YOUR CODE HERE\n",
    "        raise NotImplementedError()"
   ]
  },
  {
   "cell_type": "markdown",
   "id": "ff0d689c-3796-4ec5-b4c0-963e73c11a5f",
   "metadata": {},
   "source": [
    "## Exercise: Bouncing with left and right walls\n",
    "Now implement both left and right walls. Decrease a bit the damping so you can see the actual bouncing. Plot now $R_y$ versus $R_x$. The right wall position is at $L_x/2$, the left wall at $-L_x/2$."
   ]
  },
  {
   "cell_type": "code",
   "execution_count": null,
   "id": "42fe8b6e-dd51-49a1-b95b-a4e210742640",
   "metadata": {
    "deletable": false,
    "nbgrader": {
     "cell_type": "code",
     "checksum": "b49c3063290db3822c9f5c2c46f60ab8",
     "grade": false,
     "grade_id": "cell-3946de4f036d287f",
     "locked": false,
     "schema_version": 3,
     "solution": true,
     "task": false
    },
    "tags": []
   },
   "outputs": [],
   "source": [
    "class Collider:\n",
    "    \"\"\"\n",
    "    Class to compute forces on each body\n",
    "    \"\"\"\n",
    "    # Parameters\n",
    "    G = np.array([0.0, -9.81, 0.0])\n",
    "    B = 0.085\n",
    "    K = 234.65\n",
    "    LX = 4.5 # Right wall position\n",
    "    \n",
    "    # Functions\n",
    "    def computeForce(self, body): # For now operate on a single body\n",
    "        body.F = np.zeros(3) # Reset the force\n",
    "        body.F += body.mass*self.G # Add gravity\n",
    "        # YOUR CODE HERE\n",
    "        raise NotImplementedError()\n",
    "# ... in md.py\n",
    "# Save data\n",
    "NSTEPS = 100 # Fix\n",
    "Rx = np.zeros(NSTEPS); \n",
    "Ry = np.zeros(NSTEPS); \n",
    "Vy = np.zeros(NSTEPS)\n"
   ]
  },
  {
   "cell_type": "markdown",
   "id": "9840b92c-e83a-46f3-a2a2-fe2be2d6200f",
   "metadata": {},
   "source": [
    "## Exercise: Adding more particles\n",
    "Now let's add more particles. They will not see each other unless we implement a force among them. Also, we will need to generalize our methods to process arrays of bodies. First, the force that particle $i$ does on particle $j$ is given by\n",
    "\\begin{equation}\n",
    "\\vec F_{ij} = k \\delta \\hat n_{ij},\n",
    "\\end{equation}\n",
    "where $\\hat n_{ij} = \\vec R_{ij} / R_{ij}$, with $\\vec R_{ij} = \\vec R_i - \\vec R_j$, and $\\delta = r_i + r_j - R_{ij}$, with $r$ the radius of each particle."
   ]
  },
  {
   "cell_type": "code",
   "execution_count": null,
   "id": "07b1f942-4155-4be9-9c99-16168b90090c",
   "metadata": {
    "deletable": false,
    "nbgrader": {
     "cell_type": "code",
     "checksum": "90ab2fb875d03f432e559ffacf2ce028",
     "grade": false,
     "grade_id": "cell-e3f411c452a40139",
     "locked": false,
     "schema_version": 3,
     "solution": true,
     "task": false
    }
   },
   "outputs": [],
   "source": [
    "class TimeIntegrator:\n",
    "    \"\"\"\n",
    "    Class that uses Leapfrog to advance in time\n",
    "    \"\"\"\n",
    "    dt = 0.01 # should be changed according to the simulation needs\n",
    "    def __init__(self, dt): # constructor\n",
    "        self.dt = dt\n",
    "        \n",
    "    def startIntegration(self, bodies):\n",
    "        # YOUR CODE HERE\n",
    "        raise NotImplementedError()\n",
    "        \n",
    "    def timestep(self, bodies):\n",
    "        # YOUR CODE HERE\n",
    "        raise NotImplementedError()"
   ]
  },
  {
   "cell_type": "code",
   "execution_count": null,
   "id": "db83af21-e3ef-4c82-8fe6-d31e68503496",
   "metadata": {
    "deletable": false,
    "nbgrader": {
     "cell_type": "code",
     "checksum": "e4a0f854ad5adf9bb2cd9cdd81db3818",
     "grade": false,
     "grade_id": "cell-e4a3f365762d2d9c",
     "locked": false,
     "schema_version": 3,
     "solution": true,
     "task": false
    },
    "tags": []
   },
   "outputs": [],
   "source": [
    "class Collider:\n",
    "    \"\"\"\n",
    "    Class to compute forces on each body\n",
    "    \"\"\"\n",
    "    # Parameters\n",
    "    G = np.array([0.0, -9.81, 0.0])\n",
    "    B = 0.085\n",
    "    K = 234.65\n",
    "    LX = 4.5 # Right wall position\n",
    "    \n",
    "    # Functions\n",
    "    def computeForce(self, bodies): # \n",
    "        for body in bodies: # Individual forces\n",
    "            body.F = np.zeros(3) # Reset the force\n",
    "            body.F += body.mass*self.G # Add gravity\n",
    "            # YOUR CODE HERE\n",
    "            raise NotImplementedError()\n",
    "        # Add body-body interactions. Use third Newton law\n",
    "        # YOUR CODE HERE\n",
    "        raise NotImplementedError()\n",
    "\n",
    "\n",
    "# in md.py ...\n",
    "NSTEPS = 1000 # FIX ME\n",
    "# Save data\n",
    "Rx0 = np.zeros(NSTEPS); \n",
    "Ry0 = np.zeros(NSTEPS); \n",
    "Rx1 = np.zeros(NSTEPS); \n",
    "Ry1 = np.zeros(NSTEPS); \n",
    "Vx0 = np.zeros(NSTEPS); \n",
    "Vy0 = np.zeros(NSTEPS); \n",
    "Vx1 = np.zeros(NSTEPS); \n",
    "Vy1 = np.zeros(NSTEPS); \n"
   ]
  },
  {
   "cell_type": "markdown",
   "id": "d9fca1c7-e781-492d-b739-c6d5c449bbe5",
   "metadata": {},
   "source": [
    "## Exercise: Two planets\n",
    "Implement the gravitational attraction between two bodies, like the earth and the moon, and simulate their orbits."
   ]
  },
  {
   "cell_type": "markdown",
   "id": "828f3bef-2022-4198-8154-b7718ea07af9",
   "metadata": {},
   "source": [
    "## Improving the visualization\n",
    "\n",
    "Until now we have been printing the data to plot in matplotlib. There a re better ways to visualize the system and, in particular, scientific data. Go check tools like [paraview](https://www.paraview.org/), [visit](https://visit-dav.github.io/visit-website/index.html), [ovito](https://www.ovito.org/), [vmd](https://www.ks.uiuc.edu/Research/vmd/) and so on. \n",
    "\n",
    "How to write and use those tools? they can read a lot of files (see [paraview list of readers](https://www.paraview.org/Wiki/ParaView/Users_Guide/List_of_readers) ). You can write simple csv files for the simulations we are using, but you can also try to further and use some library to write [vtk files](https://docs.vtk.org/en/latest/design_documents/VTKFileFormats.html) . In this case, we are going to use [pyvtk](https://github.com/pearu/pyvtk). To install it using `uv`, just run\n",
    "```sh\n",
    "uv pip install pyevtk\n",
    "```\n",
    "\n",
    "The following is an example on how to use it for just two particles in two dimensions:"
   ]
  },
  {
   "cell_type": "code",
   "execution_count": null,
   "id": "0935a8f8-13a8-4a86-9b5f-86990c30ea1d",
   "metadata": {},
   "outputs": [],
   "source": [
    "# Printing data for paraview visualization. \n",
    "import os\n",
    "import numpy as np\n",
    "from pyevtk.hl import pointsToVTK\n",
    "\n",
    "# Check that DISPLAY dir exists\n",
    "DISPLAY_DIR=\"./DISPLAY\"\n",
    "if not os.path.exists(DISPLAY_DIR):\n",
    "    os.makedirs(DISPLAY_DIR)  # Creates parent directories if needed\n",
    "    print(f\"Directory '{DISPLAY_DIR}' created.\")\n",
    "else:\n",
    "    print(f\"Directory '{DISPLAY_DIR}' already exists.\")\n",
    "\n",
    "# Write a vtk file using pyevtk, assume particles moving uniformly\n",
    "T = np.arange(0.0, 10.0, 0.1)\n",
    "V1 = 0.14\n",
    "V2 = 0.34\n",
    "for ii in range(len(T)):\n",
    "    pointsToVTK(f\"./DISPLAY/system_{ii:05d}\", # filename\n",
    "                np.array([0.0 + V1*T[ii], -4.5 + V2*T[ii]]), # x\n",
    "                np.array([0.1, 0.3]), # y\n",
    "                np.array([0.0, 0.0]), # z\n",
    "                data={\"radius\": np.array([0.087, 0.187]), \n",
    "                      \"speed\": np.array([np.linalg.norm([V1, 0.0]), \n",
    "                                         np.linalg.norm([V2, 0.0])])})"
   ]
  },
  {
   "cell_type": "markdown",
   "id": "52e60dd7-c212-478a-9c92-2e8a3ed8a4e4",
   "metadata": {},
   "source": [
    "Now go and open Paraview, and then load the data using open and navigating the the folder where the data is (notice that paraview sees all data files as a series)\n",
    "<div style=\"text-align: center;\">\n",
    "<figure>\n",
    "<img src=\"fig/paraview_01_open.png\" width=40%>\n",
    "<figcaption> Paraview open </figcaption>\n",
    "</figure>\n",
    "</div>\n",
    "\n",
    "\n",
    "Then click on apply to actually load the series\n",
    "<div style=\"text-align: center;\">\n",
    "<figure>\n",
    "<img src=\"fig/paraview_02_apply.png\" width=40%>\n",
    "<figcaption> paraview apply </figcaption>\n",
    "</figure>\n",
    "</div>\n",
    "\n",
    "And, finally, apply some glyph (like spheres) to view the particles:\n",
    "<div style=\"text-align: center;\">\n",
    "<figure>\n",
    "<img src=\"fig/paraview_03_glyph.png\" width=40%>\n",
    "<figcaption> paraview glyph </figcaption>\n",
    "</figure>\n",
    "</div>\n",
    "\n",
    "Then click play to see the actual animation. You can now use the powerful paraview filters and data analysis tools to understand better your system\n",
    "\n",
    "\n",
    "**Your exercise here is to adapt you `md.py` file to actually write the paraview data every `NDISPLAY` time steps, and then visualize the system using paraview.**"
   ]
  }
 ],
 "metadata": {
  "kernelspec": {
   "display_name": "Python 3 (ipykernel)",
   "language": "python",
   "name": "python3"
  },
  "language_info": {
   "codemirror_mode": {
    "name": "ipython",
    "version": 3
   },
   "file_extension": ".py",
   "mimetype": "text/x-python",
   "name": "python",
   "nbconvert_exporter": "python",
   "pygments_lexer": "ipython3",
   "version": "3.12.8"
  }
 },
 "nbformat": 4,
 "nbformat_minor": 5
}
