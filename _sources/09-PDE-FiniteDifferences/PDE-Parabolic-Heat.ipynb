{
 "cells": [
  {
   "cell_type": "markdown",
   "id": "f445e854-87d6-42b1-ac3a-bb319b04e189",
   "metadata": {},
   "source": [
    "# Partial differential equations: The (parabolic) heat equation\n",
    "The [heat equation](https://en.wikipedia.org/wiki/Heat_equation) is the typical example of a parabolic partial differential equation. Here we have the time and we are looking for an actual time evolution. It can be written as \n",
    "\n",
    "\\begin{equation}\n",
    "\\frac{\\partial u}{\\partial t} = \\alpha \\nabla^2 u,\n",
    "\\end{equation}\n",
    "where $u$ represents the temperature, or the concentration (diffusion problem) and so on. The coefficient $\\alpha$ takes into account the thermal conductivity, specific heat, and density of the material. \n",
    "\n",
    "In the following, we will use as main references the book from Chapra and also \n",
    "- https://github.com/numerical-mooc/numerical-mooc\n",
    "- https://aquaulb.github.io/book_solving_pde_mooc/solving_pde_mooc/notebooks/01_Introduction/01_00_Preface.html\n",
    "- Wikipedia\n",
    "\n",
    "## The explicit method: Forward time centered space\n",
    "\n",
    "As is usual in finite differences, we discretize both the spatial (up to second order) and the time (linear order) derivatives to get\n",
    "\n",
    "\\begin{equation}\n",
    "\\frac{u^{n+1}_i - u^n_i}{\\Delta t} = \\alpha \\frac{u_{i+1}^n - 2u_i^n + u_{i-1}^n}{\\Delta x^2}, \n",
    "\\end{equation}\n",
    "where the superscript corresponds to a step in time, while the subscript corresponds to step in space (we are here solving a one-dimensional equation). This is the so called [FTCS - Forward Time Centered Space](https://en.wikipedia.org/wiki/FTCS_scheme) method, which is an [explicit method](https://en.wikipedia.org/wiki/Explicit_and_implicit_methods) which allows to compute the next (in time) value in terms of the previous one. \n",
    "\n",
    "Reorganizing terms  \n",
    "\n",
    "\\begin{equation}\n",
    "u_{i}^{n+1} = u_{i}^{n}+\\frac{\\alpha\\Delta t}{\\Delta x^2}(u_{i+1}^{n}-2u_{i}^{n}+u_{i-1}^{n}) = u_{i}^{n}+\\lambda(u_{i+1}^{n}-2u_{i}^{n}+u_{i-1}^{n}),\n",
    "\\end{equation}\n",
    "which can be visualized as\n",
    "<center>\n",
    "<img src=\"https://nbviewer.org/github/numerical-mooc/numerical-mooc/blob/master/lessons/04_spreadout/figures/explicitFTCS-BCeffect.png\" class=\"center\">\n",
    "</center>\n",
    "\n",
    "By using the [von Neumann stability analysis](https://en.wikipedia.org/wiki/Von_Neumann_stability_analysis) it is possible to show that the solution is stable (errors are not amplified) only if\n",
    "\n",
    "\\begin{equation}\n",
    "\\lambda = \\frac{\\alpha \\Delta t}{\\Delta x^2} \\le \\frac{1}{2}.\n",
    "\\end{equation}\n",
    "\n",
    "### Example: Finding the temperature distribution on a thind rod\n",
    "\n",
    "Now let's solve an example (Chapra 30.1): A thin rod of 10 cm, with $\\alpha = 0.835$ cm$^2$/s, $\\Delta t = 0.1 $s, $\\Delta x = 2$ cm, and $\\lambda = \\alpha \\Delta t/\\Delta x^2 = 0.020875$. The boundary conditions are $T(0) = 100$ C, and $T(10) = 50$ C. "
   ]
  },
  {
   "cell_type": "code",
   "execution_count": null,
   "id": "0421c157-5d58-4e25-b4ac-2d910fb8a70e",
   "metadata": {
    "tags": []
   },
   "outputs": [],
   "source": [
    "# Setup imports\n",
    "import numpy as np\n",
    "import matplotlib.pyplot as plt"
   ]
  },
  {
   "cell_type": "code",
   "execution_count": null,
   "id": "6960bbca-9a3e-4a09-ac3d-15cf4ca909d0",
   "metadata": {
    "deletable": false,
    "nbgrader": {
     "cell_type": "code",
     "checksum": "6c48e804a6a8b16afae6e74a1a18b5b8",
     "grade": false,
     "grade_id": "cell-8c3a4eed0f5ab6c3",
     "locked": false,
     "schema_version": 3,
     "solution": true,
     "task": false
    },
    "tags": []
   },
   "outputs": [],
   "source": [
    "# Function to evolve\n",
    "def ftcs(T0, nsteps, deltat, deltax, lambdac):\n",
    "    Taux = T0.copy() # avoids overwriting T0\n",
    "    for niter in range(nsteps):\n",
    "        # YOUR CODE HERE\n",
    "        raise NotImplementedError()\n",
    "    return Taux"
   ]
  },
  {
   "cell_type": "code",
   "execution_count": null,
   "id": "d20c1b12-45f5-41d5-a193-a9e8c5998fc4",
   "metadata": {},
   "outputs": [],
   "source": [
    "# Setup problem\n",
    "L = 10 \n",
    "DELTAT = 0.10\n",
    "DELTAX = 1.2\n",
    "NX = int(L/DELTAX)\n",
    "ALPHA = 0.835\n",
    "LAMBDA = ALPHA*DELTAT/(DELTAX*DELTAX)\n",
    "print(f\"{LAMBDA=}\")\n",
    "\n",
    "# Set the initial temperature along the rod.\n",
    "T0 = np.zeros(NX)\n",
    "#T0 = np.random.uniform(-100.0, 1000.0, NX)\n",
    "T0[0] = 100.0\n",
    "T0[-1] = 50"
   ]
  },
  {
   "cell_type": "code",
   "execution_count": null,
   "id": "dc0532ad-f82d-4442-af67-8b7ee517a653",
   "metadata": {},
   "outputs": [],
   "source": [
    "# Solve the problem several for different niter and plot it\n",
    "fig, ax = plt.subplots()\n",
    "x = np.linspace(0.0, L, num=NX)\n",
    "for niter in [1, 5, 10, 50, 100, 200, 500, 800]:\n",
    "    T = ftcs(T0, niter, DELTAT, DELTAX, LAMBDA)\n",
    "    ax.plot(x, T, label=f\"{niter=}\")\n",
    "ax.legend()"
   ]
  },
  {
   "cell_type": "markdown",
   "id": "79f8884a-89a8-4736-bbd2-baa009ed95d1",
   "metadata": {},
   "source": [
    "<div style=\"background-color: #f0f7fb; color: #055781; padding: 10px; border-left: 5px solid #055781; font-weight: bold; font-size: 20px; margin: 10px 0;\">EXERCISE</div>\n",
    "\n",
    "Play with $\\lambda$. Is there really any instability?"
   ]
  },
  {
   "cell_type": "markdown",
   "id": "928784b8-b949-4411-905b-efd3b74bc3f2",
   "metadata": {},
   "source": [
    "## A note on derivative boundary conditions\n",
    "In case you need to fix the derivative a the boundary, let's say an isolated wall on the left, then you could introduce that as\n",
    "\n",
    "\\begin{equation}\n",
    "u_0^{n+1} = u_0^n + \\lambda(u_1^n - 2u_0^n + u_{-1}^n),\n",
    "\\end{equation}\n",
    "where there is a new imaginary point at $i = -1$. But from the derivative condition you can get its value, since $(u_0 - u_{-1})/\\Delta x \\simeq \\partial u/\\partial x$."
   ]
  },
  {
   "cell_type": "markdown",
   "id": "0eb8b121-344a-437d-9819-44e7f4852842",
   "metadata": {},
   "source": [
    "## Implicit methods\n",
    "Implicit methods improve the solution stability and, generally, result in in matrix systems that need to be solve. Examples can be found at https://github.com/numerical-mooc/numerical-mooc/blob/master/lessons/04_spreadout/04_02_Heat_Equation_1D_Implicit.ipynb . One of the most used implicit method is the [Crank-Nicholson method](https://en.wikipedia.org/wiki/Crank%E2%80%93Nicolson_method) is an implicit method which is commonly used given that it is unconditionally stable. It is second order in time, and its evolution is represented as\n",
    "\n",
    "<center>\n",
    "    <img src=\"https://upload.wikimedia.org/wikipedia/commons/thumb/1/1e/Crank-Nicolson-stencil.svg/200px-Crank-Nicolson-stencil.svg.png\" />\n",
    "</center>\n",
    "\n",
    "For more info check https://github.com/numerical-mooc/numerical-mooc/tree/master/lessons/04_spreadout \n"
   ]
  },
  {
   "cell_type": "markdown",
   "id": "2928ba19-b298-42d0-a2ce-61059c2eb1f3",
   "metadata": {},
   "source": [
    "## Parabolic equations in two dimensions\n",
    "In this case you could be solving problems like\n",
    "\n",
    "\\begin{equation}\n",
    "\\frac{\\partial T}{\\partial t} = \\alpha \\left( \\frac{\\partial^2T}{\\partial x^2} + \\frac{\\partial^2 T}{\\partial y^2}\\right).\n",
    "\\end{equation}\n",
    "\n",
    "In this case, stability analysis implies that \n",
    "\n",
    "\\begin{equation}\n",
    "\\Delta t \\le \\frac{1}{8} \\frac{\\Delta x^2 + \\Delta y^2}{\\alpha}.\n",
    "\\end{equation}\n",
    "\n",
    "As with the previous 1D case, implicit schemes improve the stability , but the matrix systems are no longer tri-diagonal and therefore the matrix storage and computational times increase a lot.\n",
    "\n",
    "There are alternative approaches , like the [ADI-Alternating direction implicit scheme](https://en.wikipedia.org/wiki/Alternating-direction_implicit_method) which can be use in very complex PDE, even non-linear."
   ]
  },
  {
   "cell_type": "markdown",
   "id": "2f125da6-2e49-4add-9119-54aec1fcde56",
   "metadata": {},
   "source": [
    "### Exercises\n",
    "1. Solve the 1D heat equation with a Newmann condition at the left border , where the derivative is null.\n",
    "2. Solve the heat equation in 2D using the ftcs method"
   ]
  },
  {
   "cell_type": "code",
   "execution_count": null,
   "id": "0beeac5b-cb09-41b3-9a62-2e7bdb9bb1e1",
   "metadata": {},
   "outputs": [],
   "source": []
  }
 ],
 "metadata": {
  "kernelspec": {
   "display_name": "Python 3 (ipykernel)",
   "language": "python",
   "name": "python3"
  },
  "language_info": {
   "codemirror_mode": {
    "name": "ipython",
    "version": 3
   },
   "file_extension": ".py",
   "mimetype": "text/x-python",
   "name": "python",
   "nbconvert_exporter": "python",
   "pygments_lexer": "ipython3",
   "version": "3.12.8"
  }
 },
 "nbformat": 4,
 "nbformat_minor": 5
}
