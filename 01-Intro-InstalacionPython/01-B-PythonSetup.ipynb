{
 "cells": [
  {
   "cell_type": "markdown",
   "id": "19b85383",
   "metadata": {
    "slideshow": {
     "slide_type": "slide"
    }
   },
   "source": [
    "# Python Setup"
   ]
  },
  {
   "cell_type": "markdown",
   "id": "9f9e16ff",
   "metadata": {
    "slideshow": {
     "slide_type": "fragment"
    }
   },
   "source": [
    "Python is :\n",
    "\n",
    "* An interpreted and dynamic language\n",
    "* A high level language\n",
    "* A very popular language\n",
    "* Well suited for scientific computing "
   ]
  },
  {
   "cell_type": "markdown",
   "id": "5601f88f",
   "metadata": {
    "slideshow": {
     "slide_type": "slide"
    }
   },
   "source": [
    "<img src=\"fig/prog-lang-trends.png\" width=\"70%\">"
   ]
  },
  {
   "cell_type": "markdown",
   "id": "e3ee7402",
   "metadata": {
    "slideshow": {
     "slide_type": "slide"
    }
   },
   "source": [
    "## How to install/use python on your computer\n",
    "1) Local install python using anaconda : https://www.anaconda.com/distribution/#download-section . "
   ]
  },
  {
   "cell_type": "markdown",
   "id": "e6bce3ee",
   "metadata": {
    "slideshow": {
     "slide_type": "fragment"
    }
   },
   "source": [
    "2) Use google collaboratory : https://colab.research.google.com/   "
   ]
  },
  {
   "cell_type": "markdown",
   "id": "b67a7189",
   "metadata": {
    "slideshow": {
     "slide_type": "fragment"
    }
   },
   "source": [
    "3) Use mybinder: https://mybinder.org/v2/gh/iluvatar1/HerrComp-FisComp-dev/HEAD"
   ]
  },
  {
   "cell_type": "markdown",
   "id": "2b31983e",
   "metadata": {
    "slideshow": {
     "slide_type": "fragment"
    }
   },
   "source": [
    "4) Azure notebooks, sage notebooks, deepnote, etc."
   ]
  },
  {
   "cell_type": "markdown",
   "id": "23fd99eb",
   "metadata": {},
   "source": [
    "## Python on scientific computing\n",
    "- https://researchcomputing.princeton.edu/support/knowledge-base/python\n",
    "- https://www.hpc-carpentry.org/hpc-python/"
   ]
  },
  {
   "cell_type": "markdown",
   "id": "f14ccf04",
   "metadata": {
    "slideshow": {
     "slide_type": "slide"
    }
   },
   "source": [
    "## How to execute/use Python code"
   ]
  },
  {
   "cell_type": "markdown",
   "id": "5b56afc0",
   "metadata": {
    "slideshow": {
     "slide_type": "subslide"
    }
   },
   "source": [
    "### The Python interpreter\n",
    "The python interpreter is very primitive and basically interprets commands as you type them. For example, you can type commands like```print \"Hello World\" ``` and expect the output. \n",
    "\n",
    "Since it is much more convenient to use the iPython super-enhanced interpreter, we will not focus here on the bare-bones python interpreter.  \n",
    "\n",
    "How to quit from the command prompt? try whatever you think (`quit`, `ctrl+d`, etc)\n",
    "\n",
    "![](fig/interpreter.png)"
   ]
  },
  {
   "cell_type": "markdown",
   "id": "f18b8b74",
   "metadata": {
    "slideshow": {
     "slide_type": "subslide"
    }
   },
   "source": [
    "### iPython\n",
    "iPython is, currently, the standard interactive interpreter. It has many advantages over the original python interpreter, like autocopletion of variables, tight integration with the system commands, history, easy documentation access, etc. \n",
    "\n",
    "**Exercise:** Please open an ipython console, by either going to the appropriate part on the Spyder IDE, or by open ipython through the Anaconda launcher. Type some commands there. \n",
    "\n",
    "The ipython interpreter is a much more advanced interpreter which allows to get better error reporting, interactive help, magic commands, fast history access, and muhco more. \n",
    "\n",
    "![asds](fig/ipython.png)"
   ]
  },
  {
   "cell_type": "markdown",
   "id": "35ba2b52",
   "metadata": {
    "slideshow": {
     "slide_type": "subslide"
    }
   },
   "source": [
    "### Python scripts\n",
    "In general, interactive sessions are designed for fast testing and propotyping. But, if you want to store a group of commands for later use (a program), then ypu should save it on Python file, whose termination is ```.py```. **Exercise:** On the Spyder editor, type some commands and save the file with the appropriate extension. Then re-open it and run it. You can also load/run the file directly from ipython. You need to use the magic words ```%load``` or ```%run``` . Check the docs and do it. \n",
    "\n",
    "![](fig/emacs.png)"
   ]
  },
  {
   "cell_type": "markdown",
   "id": "a4cb3c97",
   "metadata": {
    "slideshow": {
     "slide_type": "subslide"
    }
   },
   "source": [
    "### iPython notebook\n",
    "The ipython notebook is a very convinient way to store ipython commands, together with notes, figures, and results. Currently, you are looking at the result obtained from an ipython notebook. This is very useful for logs, instructions, manuals, and interactive programming. An ipython notebook is stored in ```json``` format, which allows to include not only instructions but also command results and even figures. To execute a given cell, you should use the combination shift+enter.  \n",
    "\n",
    "**Exercise:** Open an ipython notebook by using the anaconda launcher, and write some commands and some instructions. Save it. Re-open it. \n",
    "Or use google collab, or mybinder"
   ]
  },
  {
   "cell_type": "markdown",
   "id": "3cc41026",
   "metadata": {
    "slideshow": {
     "slide_type": "subslide"
    }
   },
   "source": [
    "### IDE: Spyder, pycharm, visual, etc\n",
    "You have already used the IDE Spyder. This is an integrated develompment environment which allows editing, running, debugging, etc. of simple and complex (projects) python files. We will use only the very basic but you should get familiar with Spyder to exploit it better.\n",
    "admasnda sad as das das\n",
    "\n",
    "There are other multiplatform solutions, like Canopy (free for academics) or Python(X, Y). Look at them on google."
   ]
  },
  {
   "cell_type": "markdown",
   "id": "a8917821",
   "metadata": {
    "slideshow": {
     "slide_type": "slide"
    }
   },
   "source": [
    "### Some command examples inside a notebook\n",
    "\n",
    "You can also try them on ipython."
   ]
  },
  {
   "cell_type": "code",
   "execution_count": null,
   "id": "b831a85f",
   "metadata": {
    "ExecuteTime": {
     "end_time": "2020-08-29T16:05:52.921229Z",
     "start_time": "2020-08-29T16:05:52.893949Z"
    },
    "slideshow": {
     "slide_type": "subslide"
    }
   },
   "outputs": [],
   "source": [
    "print (\"Hello World, from python!\")"
   ]
  },
  {
   "cell_type": "code",
   "execution_count": null,
   "id": "a2933674",
   "metadata": {
    "ExecuteTime": {
     "end_time": "2020-08-29T16:06:56.430974Z",
     "start_time": "2020-08-29T16:06:46.834936Z"
    }
   },
   "outputs": [],
   "source": [
    "name = \"\"\n",
    "print(\"Hola\")\n",
    "#name = input(\"Dime tu nombre:  \")\n",
    "print(\"Hola\", name)"
   ]
  },
  {
   "cell_type": "markdown",
   "id": "df068a80",
   "metadata": {
    "slideshow": {
     "slide_type": "slide"
    }
   },
   "source": [
    "### Summary\n",
    "\n",
    "There are several ways to use python:\n",
    "\n",
    "* Using the interpreter, `python`\n",
    "* Using the more modern interpreter, `ipython` (always use this by default if you need an interpreter)\n",
    "* Using an ipython notebook : either by launching it as `ipython notebook` which will open your browser at `127.0.0.1:8888`, or by using the editor in any ide (like Canopy, Anaconda-sPyder, etc). Notebooks are saved with the extension `.ipynb`\n",
    "* Writing an script, whose extension should be `.py`\n",
    "\n",
    "In the following, we will use a mix of all of them.\n",
    "\n",
    "Before leaving, let's use another example: How to read from standard input"
   ]
  },
  {
   "cell_type": "markdown",
   "id": "f08251aa",
   "metadata": {
    "slideshow": {
     "slide_type": "slide"
    }
   },
   "source": [
    "## How to install python packages\n",
    "\n",
    "Installing python packages can be a nightmare. The first advice is to NOT install packages (using any tool) at the root system level (something like running `sudo pip install ...`). That will create problems when some dependencies are colliding across differetn packages that you need. You could try to install packages using your local account `pip install --user ...`, but the collisions and dependency hell will come sooner than later. The recommended way right now is to use virtual enviroments, which isolate any package installatio across environments. Basically, a virtual env is a directory, tipically called `.env`, inside a given directory, that has all the packages installed on the virtual env and, when activated, those packages will have preference over the system ones. To create a virtual env with pure python, first tou go to the directory where you want it (`/tmp/example` in this case)\n",
    "\n",
    "```shell\n",
    "cd /tmp/example\n",
    "```\n",
    "and then you can run\n",
    "\n",
    "```python\n",
    "python -m venv .venv\n",
    "```\n",
    "\n",
    "That will create a hidden dir, `.venv`, which will contain all the modules installed.\n",
    "\n",
    "To activate the venv, use\n",
    "```shell\n",
    "source .venv/bin/\n",
    "```\n",
    "\n",
    "This will prepend `.venv/bin` to the path. To deactivate it, just run `deactivate`. \n",
    "\n",
    "Once you have activated a venv, you can use `pip` ito install packages, either from the package name or from a `requirements.txt` file, and all those packages will be isolated from any otrhe installation. You can have as many venv as you want, just don't forget to activate/activate the one you need.\n",
    "\n",
    "If you use conda, you can also create vens using something like\n",
    "```shell\n",
    "conda create -n fenicsproject -c conda-forge fenics\n",
    "source activate fenicsproject \n",
    "```\n",
    "\n",
    "### A very fast solution: using uv\n",
    "Very recently, astral released uv 1.0, https://docs.astral.sh/uv/ , which replaces pip, potery, virtualenv, and so on, and is very very fast. \n",
    "\n",
    "<img src=\"https://github.com/astral-sh/uv/assets/1309177/03aa9163-1c79-4a87-a31d-7a9311ed9310#only-dark\" width=600>\n",
    "From: https://docs.astral.sh/uv/\n",
    "\n",
    "Installing uv is very easy, and you can use it to create virtual envs easily as shown in https://docs.astral.sh/uv/pip/environments/ . You can even use different python versions. And when installing packages, you will be amazed by the speed of uv. Go try it.\n",
    "\n",
    "For using uv in a Dockerfile, check https://mkennedy.codes/posts/python-docker-images-using-uv-s-new-python-features/\n",
    "\n",
    "## Installing packages: besides python\n",
    "<img src=\"https://pixi.sh/latest/assets/pixi.webp\" width=400>\n",
    "\n",
    "Although conda can be used to install packages that are not related to python, recently there is a solution called pixi, https://pixi.sh/latest/ , that can be used to install packages locally or at the system level. Go read https://pixi.sh/latest/basic_usage/ . \n",
    "\n",
    "\n",
    "\n",
    "It can also create python virtual envs and use uv in the background. \n",
    "\n",
    "## Python projects\n",
    "Creating a serious python needs not only a good desing but also using te right tools to make sure you are following the needed conventios, good programming practices, and so on. For a project that shows what a full python project needs, check https://github.com/fpgmaas/cookiecutter-uv"
   ]
  },
  {
   "cell_type": "code",
   "execution_count": null,
   "id": "2ab10210",
   "metadata": {},
   "outputs": [],
   "source": []
  }
 ],
 "metadata": {
  "kernelspec": {
   "display_name": "Python 3 (ipykernel)",
   "language": "python",
   "name": "python3"
  },
  "language_info": {
   "codemirror_mode": {
    "name": "ipython",
    "version": 3
   },
   "file_extension": ".py",
   "mimetype": "text/x-python",
   "name": "python",
   "nbconvert_exporter": "python",
   "pygments_lexer": "ipython3",
   "version": "3.12.6"
  },
  "latex_envs": {
   "LaTeX_envs_menu_present": true,
   "autoclose": true,
   "autocomplete": true,
   "bibliofile": "biblio.bib",
   "cite_by": "apalike",
   "current_citInitial": 1,
   "eqLabelWithNumbers": true,
   "eqNumInitial": 1,
   "hotkeys": {
    "equation": "Ctrl-E",
    "itemize": "Ctrl-I"
   },
   "labels_anchors": false,
   "latex_user_defs": false,
   "report_style_numbering": false,
   "user_envs_cfg": false
  },
  "toc": {
   "base_numbering": 1,
   "nav_menu": {},
   "number_sections": true,
   "sideBar": true,
   "skip_h1_title": false,
   "title_cell": "Table of Contents",
   "title_sidebar": "Contents",
   "toc_cell": false,
   "toc_position": {
    "height": "calc(100% - 180px)",
    "left": "10px",
    "top": "150px",
    "width": "383px"
   },
   "toc_section_display": true,
   "toc_window_display": true
  },
  "varInspector": {
   "cols": {
    "lenName": 16,
    "lenType": 16,
    "lenVar": 40
   },
   "kernels_config": {
    "python": {
     "delete_cmd_postfix": "",
     "delete_cmd_prefix": "del ",
     "library": "var_list.py",
     "varRefreshCmd": "print(var_dic_list())"
    },
    "r": {
     "delete_cmd_postfix": ") ",
     "delete_cmd_prefix": "rm(",
     "library": "var_list.r",
     "varRefreshCmd": "cat(var_dic_list()) "
    }
   },
   "types_to_exclude": [
    "module",
    "function",
    "builtin_function_or_method",
    "instance",
    "_Feature"
   ],
   "window_display": false
  }
 },
 "nbformat": 4,
 "nbformat_minor": 5
}
