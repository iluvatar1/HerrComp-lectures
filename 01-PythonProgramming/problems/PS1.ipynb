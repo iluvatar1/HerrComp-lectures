{
 "cells": [
  {
   "cell_type": "markdown",
   "id": "60429e08",
   "metadata": {
    "nbgrader": {
     "grade": false,
     "grade_id": "cell-a394941bc188b823",
     "locked": true,
     "schema_version": 3,
     "solution": false,
     "task": false
    }
   },
   "source": [
    "# Exercise\n",
    "Write a function which receives a positive integer number and prints the sum of all even numbers smaller than the parameter read. You can use `numpy`, but you can also use a simple loop."
   ]
  },
  {
   "cell_type": "code",
   "execution_count": 3,
   "id": "df335763",
   "metadata": {
    "nbgrader": {
     "grade": false,
     "grade_id": "cell-48df8f2b83dee5a8",
     "locked": false,
     "schema_version": 3,
     "solution": true,
     "task": false
    }
   },
   "outputs": [],
   "source": [
    "import numpy as np\n",
    "def sum_smaller_even(n):\n",
    "    ### BEGIN SOLUTION\n",
    "    result = 0\n",
    "    for ii in range(2, n, 2):\n",
    "        result += ii\n",
    "    return result\n",
    "    # return np.sum(np.arange(2, n, 2))\n",
    "    ### END SOLUTION"
   ]
  },
  {
   "cell_type": "code",
   "execution_count": 4,
   "id": "13230a28",
   "metadata": {
    "nbgrader": {
     "grade": true,
     "grade_id": "cell-4fe77a6d354d52e1",
     "locked": true,
     "points": 0.5,
     "schema_version": 3,
     "solution": false,
     "task": false
    }
   },
   "outputs": [],
   "source": [
    "assert 0 == sum_smaller_even(-10)\n",
    "assert 0 == sum_smaller_even(0)\n",
    "assert 0 == sum_smaller_even(2)\n",
    "assert 2 == sum_smaller_even(3)\n",
    "assert 2 == sum_smaller_even(4)\n",
    "assert 6 == sum_smaller_even(5)\n",
    "assert 6 == sum_smaller_even(6)\n",
    "assert 30 == sum_smaller_even(12)\n",
    "assert 42 == sum_smaller_even(13)\n",
    "assert 42 == sum_smaller_even(14)\n",
    "assert 2450 == sum_smaller_even(100)\n",
    "### BEGIN HIDDEN TESTS\n",
    "assert 2756 == sum_smaller_even(105)\n",
    "assert 13340 == sum_smaller_even(231)\n",
    "### END HIDDEN TESTS"
   ]
  },
  {
   "cell_type": "markdown",
   "id": "6e94e907",
   "metadata": {
    "nbgrader": {
     "grade": false,
     "grade_id": "cell-6dfa84d5f44df538",
     "locked": true,
     "schema_version": 3,
     "solution": false,
     "task": false
    }
   },
   "source": [
    "# Exercise\n",
    "Write a function (called `sum1`) that computes the mathematical sum $$\\sum_{k=1}^M \\frac{1}{k},$$ as a function of $M$. Write another function (calle `diff`) that receives to parameters, `m` and `n`, and computes the relative difference between `sum1(m)` and `sum2(n)`. The relative difference between two numbers $a$ and $b$ is defined as $|\\frac{a-b}{a}|$ (assuming $|a| > 0$). You can use the `math abs` or `numpy abs` functions and so on. "
   ]
  },
  {
   "cell_type": "code",
   "execution_count": 26,
   "id": "64170531",
   "metadata": {
    "nbgrader": {
     "grade": false,
     "grade_id": "cell-2be48593e458a7b6",
     "locked": false,
     "schema_version": 3,
     "solution": true,
     "task": false
    }
   },
   "outputs": [],
   "source": [
    "import numpy as np\n",
    "def sum1(m):\n",
    "    ### BEGIN SOLUTION\n",
    "    return np.sum(1.0/np.arange(1, m+1))\n",
    "    ### END SOLUTION\n",
    "\n",
    "def diff(m, n):\n",
    "    ### BEGIN SOLUTION\n",
    "    return np.abs(1.0 - sum1(m)/sum1(n))\n",
    "    ### END SOLUTION    "
   ]
  },
  {
   "cell_type": "code",
   "execution_count": 28,
   "id": "feef1bfa",
   "metadata": {
    "nbgrader": {
     "grade": true,
     "grade_id": "cell-f2cab27fa5a5cef0",
     "locked": true,
     "points": 0.5,
     "schema_version": 3,
     "solution": false,
     "task": false
    }
   },
   "outputs": [],
   "source": [
    "assert np.isclose(0.0, sum1(0))\n",
    "assert np.isclose(1.0, sum1(1))\n",
    "assert np.isclose(7.485470860550345, sum1(1000))\n",
    "assert np.isclose(10.644712286201385, sum1(23564))\n",
    "assert np.isclose(1.0, diff(0, 10))\n",
    "assert np.isclose(0.6688607232024465, diff(1, 11))\n",
    "assert np.isclose(0.1858865473624568, diff(10, 20))\n",
    "assert np.isclose(3.9856430361639994e-05, diff(23564, 23574))\n",
    "### BEGIN HIDDEN TESTS\n",
    "assert np.isclose(1.5, sum1(2))\n",
    "assert np.isclose(2.283333333333333, sum1(5))\n",
    "assert np.isclose(2.9289682539682538, sum1(10))\n",
    "assert np.isclose(9.787706026045383, sum1(10001))\n",
    "assert np.isclose(0.5166296601992537, diff(2, 12))\n",
    "assert np.isclose(0.3118819291879539, diff(5, 15))\n",
    "assert np.isclose(0.0013268618684117994, diff(1000, 1010))\n",
    "assert np.isclose(0.00010209220383317064, diff(10001, 10011))\n",
    "### END HIDDEN TESTS"
   ]
  },
  {
   "cell_type": "markdown",
   "id": "2f74a6a4",
   "metadata": {
    "nbgrader": {
     "grade": false,
     "grade_id": "cell-596c6656ab03c366",
     "locked": true,
     "schema_version": 3,
     "solution": false,
     "task": false
    }
   },
   "source": [
    "# Exercise\n",
    "Write a function that computes the central derivative of a given function, $$ f'(x) \\simeq \\frac{f(x+h) - f(x-h)}{2h}.$$ Use, as a model, the function $sin(x)$.  Write another function , called `numdiff`, than computes the relative difference between the exact and the numerical derivative "
   ]
  },
  {
   "cell_type": "code",
   "execution_count": 50,
   "id": "7ad5f410",
   "metadata": {
    "nbgrader": {
     "grade": false,
     "grade_id": "cell-ac4d4f37c7341bad",
     "locked": false,
     "schema_version": 3,
     "solution": true,
     "task": false
    }
   },
   "outputs": [],
   "source": [
    "import numpy as np\n",
    "def f(x):\n",
    "    return np.sin(x)\n",
    "\n",
    "def centraldiff(x, h):\n",
    "    ### BEGIN SOLUTION\n",
    "    return (f(x+h) - f(x-h))/(2*h)\n",
    "    ### END SOLUTION\n",
    "\n",
    "def numdiff(x, h):\n",
    "    ### BEGIN SOLUTION\n",
    "    return np.abs(1.0-centraldiff(x, h)/np.cos(x))\n",
    "    ### END SOLUTION"
   ]
  },
  {
   "cell_type": "code",
   "execution_count": 52,
   "id": "a80e68a3",
   "metadata": {
    "nbgrader": {
     "grade": true,
     "grade_id": "cell-91b0fd2cf74990a5",
     "locked": true,
     "points": 0.5,
     "schema_version": 3,
     "solution": false,
     "task": false
    }
   },
   "outputs": [],
   "source": [
    "assert np.isclose(0.0411489227915941, numdiff(1.2478, 0.5))\n",
    "assert np.isclose(0.0016658335317168982, numdiff(1.2478, 0.1))\n",
    "assert np.isclose(4.166661485727197e-06, numdiff(1.2478, 0.005))\n",
    "assert np.isclose(1.6666681634802671e-07, numdiff(1.2478, 0.001))\n",
    "assert np.isclose(4.166687694873161e-08, numdiff(1.2478, 0.0005))\n",
    "assert np.isclose(2.1800006244632186e-11, numdiff(1.2478, 1e-05))\n",
    "assert np.isclose(1.2246484937250557e-08, numdiff(1.2478, 1e-08)) # NOTICE: ERRORS INCREASING\n",
    "assert np.isclose(4.021997401792987e-08, numdiff(1.2478, 1e-09))\n",
    "assert np.isclose(0.0031372791395899435, numdiff(1.2478, 1e-14))\n",
    "assert np.isclose(0.04932917985306329, numdiff(1.2478, 1e-15))\n",
    "### BEGIN HIDDEN TESTS\n",
    "assert np.isclose(0.0004166145864309412, numdiff(1.2478, 0.05))\n",
    "assert np.isclose(1.6666583323776685e-05, numdiff(1.2478, 0.01))\n",
    "assert np.isclose(1.6674979175235194e-09, numdiff(1.2478, 0.0001))\n",
    "assert np.isclose(4.135495279555812e-10, numdiff(1.2478, 5e-05))\n",
    "### END HIDDEN TESTS"
   ]
  },
  {
   "cell_type": "markdown",
   "id": "29d60637",
   "metadata": {
    "nbgrader": {
     "grade": false,
     "grade_id": "cell-1e63bdd8c1c02f59",
     "locked": true,
     "schema_version": 3,
     "solution": false,
     "task": false
    }
   },
   "source": [
    "# Exercise\n",
    "Write a function that receives a positive integer number and returns the sum of the prime numbers less or equal than the number. You should also define a function that checks if a given number is prime"
   ]
  },
  {
   "cell_type": "code",
   "execution_count": 51,
   "id": "1681ba48",
   "metadata": {
    "nbgrader": {
     "grade": false,
     "grade_id": "cell-cfaa7f286621ee36",
     "locked": false,
     "schema_version": 3,
     "solution": true,
     "task": false
    }
   },
   "outputs": [],
   "source": [
    "import numpy as np\n",
    "def sumprimeslessthan(n):\n",
    "    ### BEGIN SOLUTION\n",
    "    suma = 0\n",
    "    for ii in range(1, n+1):\n",
    "        if True == isprime(ii):\n",
    "            suma += ii\n",
    "    return suma\n",
    "    ### END SOLUTION\n",
    "    \n",
    "def isprime(m):\n",
    "    ### BEGIN SOLUTION\n",
    "    if m <= 1: return False\n",
    "    for ii in range(2, int(np.sqrt(m))+1):\n",
    "        if m%ii == 0:\n",
    "            return False\n",
    "    return True\n",
    "    ### END SOLUTION"
   ]
  },
  {
   "cell_type": "code",
   "execution_count": 49,
   "id": "6ae0834e",
   "metadata": {
    "nbgrader": {
     "grade": true,
     "grade_id": "cell-611da4f66c6be786",
     "locked": true,
     "points": 0.5,
     "schema_version": 3,
     "solution": false,
     "task": false
    }
   },
   "outputs": [],
   "source": [
    "assert False == isprime(1)\n",
    "assert True == isprime(2)\n",
    "assert True == isprime(3)\n",
    "assert False == isprime(4)\n",
    "assert True == isprime(5)\n",
    "assert False == isprime(9)\n",
    "assert False == isprime(12)\n",
    "assert True == isprime(100267)\n",
    "assert 0 == sumprimeslessthan(1)\n",
    "assert 2 == sumprimeslessthan(2)\n",
    "assert 5 == sumprimeslessthan(3)\n",
    "assert 5 == sumprimeslessthan(4)\n",
    "assert 10 == sumprimeslessthan(5)\n",
    "assert 17 == sumprimeslessthan(9)\n",
    "assert 28 == sumprimeslessthan(12)\n",
    "assert 456299080 == sumprimeslessthan(100267)\n",
    "### BEGIN HIDDEN TESTS\n",
    "assert False == isprime(123)\n",
    "assert False == isprime(100011)\n",
    "assert True == isprime(100019)\n",
    "assert 1593 == sumprimeslessthan(123)\n",
    "assert 454496540 == sumprimeslessthan(100011)\n",
    "assert 454596559 == sumprimeslessthan(100019)\n",
    "### END HIDDEN TESTS"
   ]
  }
 ],
 "metadata": {
  "celltoolbar": "Create Assignment",
  "kernelspec": {
   "display_name": "Python 3 (ipykernel)",
   "language": "python",
   "name": "python3"
  },
  "language_info": {
   "codemirror_mode": {
    "name": "ipython",
    "version": 3
   },
   "file_extension": ".py",
   "mimetype": "text/x-python",
   "name": "python",
   "nbconvert_exporter": "python",
   "pygments_lexer": "ipython3",
   "version": "3.11.3"
  },
  "toc": {
   "base_numbering": 1,
   "nav_menu": {},
   "number_sections": true,
   "sideBar": true,
   "skip_h1_title": false,
   "title_cell": "Table of Contents",
   "title_sidebar": "Contents",
   "toc_cell": false,
   "toc_position": {},
   "toc_section_display": true,
   "toc_window_display": false
  },
  "varInspector": {
   "cols": {
    "lenName": 16,
    "lenType": 16,
    "lenVar": 40
   },
   "kernels_config": {
    "python": {
     "delete_cmd_postfix": "",
     "delete_cmd_prefix": "del ",
     "library": "var_list.py",
     "varRefreshCmd": "print(var_dic_list())"
    },
    "r": {
     "delete_cmd_postfix": ") ",
     "delete_cmd_prefix": "rm(",
     "library": "var_list.r",
     "varRefreshCmd": "cat(var_dic_list()) "
    }
   },
   "types_to_exclude": [
    "module",
    "function",
    "builtin_function_or_method",
    "instance",
    "_Feature"
   ],
   "window_display": false
  }
 },
 "nbformat": 4,
 "nbformat_minor": 5
}
