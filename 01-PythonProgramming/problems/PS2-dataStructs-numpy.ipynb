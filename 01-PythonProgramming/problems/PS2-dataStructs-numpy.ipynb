{
 "cells": [
  {
   "cell_type": "markdown",
   "id": "d88bef21",
   "metadata": {
    "nbgrader": {
     "grade": false,
     "grade_id": "cell-845a68dfa02e5275",
     "locked": true,
     "schema_version": 3,
     "solution": false,
     "task": false
    }
   },
   "source": [
    "# Exercise\n",
    "Write a function that receives a list and returns it in reverse order every 2 elements, starting from the last-1 element"
   ]
  },
  {
   "cell_type": "code",
   "execution_count": 28,
   "id": "4bf44218",
   "metadata": {
    "nbgrader": {
     "grade": false,
     "grade_id": "cell-edb80791f1172d9c",
     "locked": false,
     "schema_version": 3,
     "solution": true,
     "task": false
    }
   },
   "outputs": [],
   "source": [
    "def getreversed(l):\n",
    "    ### BEGIN SOLUTION\n",
    "    return l[-2::-2]\n",
    "    ### END SOLUTION"
   ]
  },
  {
   "cell_type": "code",
   "execution_count": 27,
   "id": "bd80fcf2",
   "metadata": {
    "nbgrader": {
     "grade": true,
     "grade_id": "cell-f39f060e7f0f3cd5",
     "locked": true,
     "points": 0.2,
     "schema_version": 3,
     "solution": false,
     "task": false
    }
   },
   "outputs": [],
   "source": [
    "assert [2] == getreversed([1, 2, 3])\n",
    "assert ['hola', 3, 1] == getreversed([1, 2, 3, 4 , \"hola\", \"mundo\"])\n",
    "assert [3] == getreversed(getreversed([1, 2, 3, 4 , \"hola\", \"mundo\"]))\n",
    "### BEGIN HIDDEN TESTS\n",
    "assert ['3', 'hola', 3, 1] == getreversed([1, 2, 3, 4 , \"hola\", \"mundo\", \"3\", 9.87])\n",
    "### END HIDDEN TESTS"
   ]
  },
  {
   "cell_type": "markdown",
   "id": "f98e9512",
   "metadata": {
    "nbgrader": {
     "grade": false,
     "grade_id": "cell-f33ff4967377f416",
     "locked": true,
     "schema_version": 3,
     "solution": false,
     "task": false
    }
   },
   "source": [
    "# Exercise\n",
    "Write a function that receives a positive integer and returns a list with all its prime factors\n"
   ]
  },
  {
   "cell_type": "code",
   "execution_count": 34,
   "id": "688c232f",
   "metadata": {
    "nbgrader": {
     "grade": false,
     "grade_id": "cell-985fbac2f9ea8a4b",
     "locked": false,
     "schema_version": 3,
     "solution": true,
     "task": false
    }
   },
   "outputs": [],
   "source": [
    "import numpy as np\n",
    "\n",
    "def primefactors(n):\n",
    "    ### BEGIN SOLUTION\n",
    "    if True == isprime(n): \n",
    "        return [n]\n",
    "    primedivisors = []\n",
    "    for ii in range(2, n):\n",
    "        if n%ii==0 and isprime(ii):\n",
    "            primedivisors.append(ii)\n",
    "    return primedivisors\n",
    "    ### END SOLUTION\n",
    "    \n",
    "def isprime(n):\n",
    "    ### BEGIN SOLUTION\n",
    "    if n <=1: return False\n",
    "    for ii in range(2, int(np.sqrt(n))+1):\n",
    "        if n%ii == 0: \n",
    "            return False\n",
    "    return True\n",
    "    ### END SOLUTION"
   ]
  },
  {
   "cell_type": "code",
   "execution_count": 33,
   "id": "c11d5bac",
   "metadata": {
    "nbgrader": {
     "grade": true,
     "grade_id": "cell-a83025d2402f6fd4",
     "locked": true,
     "points": 0.4,
     "schema_version": 3,
     "solution": false,
     "task": false
    }
   },
   "outputs": [],
   "source": [
    "assert [2] == primefactors(2)\n",
    "assert [2, 5] == primefactors(10)\n",
    "assert [2, 3] == primefactors(36)\n",
    "assert [37] == primefactors(37)\n",
    "assert [2, 19] == primefactors(38)\n",
    "assert [2, 3, 5] == primefactors(90)\n",
    "assert [10039] == primefactors(10039)\n",
    "assert [2, 5, 251] == primefactors(10040)\n",
    "assert [3, 3347] == primefactors(10041)\n",
    "assert [1213427] == primefactors(1213427)\n",
    "assert [2, 3, 101119] == primefactors(1213428)\n",
    "### BEGIN HIDDEN TESTS\n",
    "assert [7, 13] == primefactors(91)\n",
    "assert [97] == primefactors(97)\n",
    "assert [101] == primefactors(101)\n",
    "### END HIDDEN TESTS"
   ]
  },
  {
   "cell_type": "markdown",
   "id": "e4c5f75a",
   "metadata": {
    "nbgrader": {
     "grade": false,
     "grade_id": "cell-061dc36ab50b963a",
     "locked": true,
     "schema_version": 3,
     "solution": false,
     "task": false
    }
   },
   "source": [
    "# Exercise\n",
    "Representing a polynomial by a dictionary : Consider the polynomial $p(x) = −1+x^2+3x^7$ . It can be represent by means of a dictionary as p = {0:-1, 2:1, 7:3} . Write a function which gets a dictionary representing a polynomial, an $x$ value, and returns the polynomial evaluated on that $x$ value. "
   ]
  },
  {
   "cell_type": "code",
   "execution_count": 35,
   "id": "25c3701a",
   "metadata": {
    "nbgrader": {
     "grade": false,
     "grade_id": "cell-c8e849d0bd27febe",
     "locked": false,
     "schema_version": 3,
     "solution": true,
     "task": false
    }
   },
   "outputs": [],
   "source": [
    "import numpy as np\n",
    "def polynomial(coeffs, x):\n",
    "    ##### BEGIN SOLUTION\n",
    "    total = 0.0\n",
    "    for key, val in coeffs.items():\n",
    "        total += val*np.power(x, key)\n",
    "    return total\n",
    "    ### END SOLUTION"
   ]
  },
  {
   "cell_type": "code",
   "execution_count": 47,
   "id": "80362b82",
   "metadata": {
    "nbgrader": {
     "grade": true,
     "grade_id": "cell-fc4b987152ce277a",
     "locked": true,
     "points": 0.4,
     "schema_version": 3,
     "solution": false,
     "task": false
    }
   },
   "outputs": [],
   "source": [
    "assert np.isclose(-1.0, polynomial({0:-1}, 0.2))\n",
    "assert np.isclose(-1.0, polynomial({0:-1}, 0.57))\n",
    "assert np.isclose(-0.96, polynomial({0:-1, 2:1}, 0.2))\n",
    "assert np.isclose(-0.6751, polynomial({0:-1, 2:1}, 0.57))\n",
    "assert np.isclose(-0.9599616, polynomial({0:-1, 2:1, 7:3}, 0.2))\n",
    "assert np.isclose(-0.6164530752042101, polynomial({0:-1, 2:1, 7:3}, 0.57))\n",
    "assert np.isclose(11.54503606479579, polynomial({0:10.98, 2:1, 3:0.98, 7:3}, 0.57))\n",
    "### BEGIN HIDDEN TESTS\n",
    "assert np.isclose(-0.9521216, polynomial({0:-1, 2:1, 3:0.98, 7:3}, 0.2))\n",
    "assert np.isclose(-0.4349639352042101, polynomial({0:-1, 2:1, 3:0.98, 7:3}, 0.57))\n",
    "assert np.isclose(2.0278784, polynomial({0:+1.98, 2:1, 3:0.98, 7:3}, 0.2))\n",
    "### END HIDDEN TESTS\n"
   ]
  },
  {
   "cell_type": "markdown",
   "id": "ad34b7af",
   "metadata": {
    "nbgrader": {
     "grade": false,
     "grade_id": "cell-6c6aa16372718f59",
     "locked": true,
     "schema_version": 3,
     "solution": false,
     "task": false
    }
   },
   "source": [
    "# Exercise\n",
    "Create a function that receives a numpy array and returns the maximum across a given axis. Hint: Check the `axis` parameter in the `.max` function."
   ]
  },
  {
   "cell_type": "code",
   "execution_count": 77,
   "id": "c41393bf",
   "metadata": {
    "nbgrader": {
     "grade": false,
     "grade_id": "cell-5a0c7690be1be539",
     "locked": false,
     "schema_version": 3,
     "solution": true,
     "task": false
    }
   },
   "outputs": [],
   "source": [
    "import numpy as np\n",
    "def maximum(data, axis):\n",
    "    ### BEGIN SOLUTION\n",
    "    return data.max(axis=axis)\n",
    "    ### END SOLUTION"
   ]
  },
  {
   "cell_type": "code",
   "execution_count": 107,
   "id": "f055f095",
   "metadata": {
    "nbgrader": {
     "grade": true,
     "grade_id": "cell-a4b3899af90c32f9",
     "locked": true,
     "points": 0.2,
     "schema_version": 3,
     "solution": false,
     "task": false
    }
   },
   "outputs": [],
   "source": [
    "import numpy.random as random # do not change\n",
    "random.seed(10) # do not change\n",
    "\n",
    "array = np.array([1, 23.4, 3.0])\n",
    "assert np.isclose(23.4, maximum(array, 0))\n",
    "\n",
    "array = np.random.random((2, 3))\n",
    "assert np.allclose(np.array([0.77132064, 0.49850701, 0.63364823]), maximum(array, 0))\n",
    "assert np.allclose(np.array([0.77132064, 0.74880388]).reshape((1, 2)), maximum(array, 1))\n",
    "\n",
    "array = np.random.random((2, 3))\n",
    "assert np.allclose(np.array([0.19806286, 0.76053071, 0.95339335]), maximum(array, 0))\n",
    "assert np.allclose(np.array([0.76053071, 0.95339335]).reshape((1,2)), maximum(array, 1))\n",
    "### BEGIN HIDDEN TESTS\n",
    "array = np.random.random((2, 3))\n",
    "assert np.allclose(np.array([0.61252607, 0.72175532, 0.81262096]), maximum(array, 0))\n",
    "assert np.allclose(np.array([0.81262096, 0.72175532]).reshape((1,2)), maximum(array, 1))\n",
    "### END HIDDEN TESTS"
   ]
  },
  {
   "cell_type": "markdown",
   "id": "03e6bebe",
   "metadata": {
    "nbgrader": {
     "grade": false,
     "grade_id": "cell-621955b7ac115f0b",
     "locked": true,
     "schema_version": 3,
     "solution": false,
     "task": false
    }
   },
   "source": [
    "# Exercise\n",
    "Computing an integral using numpy: Write a function that receives the limits for an interval, $a$ and $b$, the number $n$ of intervals to use (which means $n+1$ points), and a function $f$, and returns the integral of that function over the interval using the simple trapezoidal rule\n",
    "\n",
    "$$I(a, b, n, f) \\simeq \\Delta x \\left( \\frac{1}{2}f(x_0) + \\frac{1}{2}f(x_n) + \\sum\\limits_{i=1}^{n-1}f(x_i) \\right), $$\n",
    "\n",
    "where $x_k = x_0 + k\\Delta x$, $x_0 = a$, $x_n = b$, and $\\Delta x = (b-a)/n$. Use `np.linspace`, `np.sum`, etc, and try to avoid using loops. \n"
   ]
  },
  {
   "cell_type": "code",
   "execution_count": 71,
   "id": "5f4a7339",
   "metadata": {
    "nbgrader": {
     "grade": false,
     "grade_id": "cell-194983d1b5284cb6",
     "locked": false,
     "schema_version": 3,
     "solution": true,
     "task": false
    }
   },
   "outputs": [],
   "source": [
    "def trapezoid(a, b, n, f):\n",
    "    ### BEGIN SOLUTION\n",
    "    npoints = n+1\n",
    "    x, Dx = np.linspace(a, b, npoints, retstep=True) \n",
    "    result = Dx*(0.5*f(x[0]) + 0.5*f(x[-1]) + np.sum(f(x[1:-1])))\n",
    "    return result\n",
    "    ### END SOLUTION"
   ]
  },
  {
   "cell_type": "code",
   "execution_count": 108,
   "id": "6e2e4c71",
   "metadata": {
    "nbgrader": {
     "grade": true,
     "grade_id": "cell-40001aa792fe1bb7",
     "locked": true,
     "points": 0.3,
     "schema_version": 3,
     "solution": false,
     "task": false
    }
   },
   "outputs": [],
   "source": [
    "assert np.isclose(0.7272870719562238, trapezoid(0.1, 1.3, 20, np.sin))\n",
    "assert np.isclose(0.7275053148282778, trapezoid(0.1, 1.3, 2000, np.sin))\n",
    "assert np.isclose(0.7275053366512558, trapezoid(0.1, 1.3, 200000, np.sin))\n",
    "assert np.isclose(0.8634656357913549, trapezoid(0.1, 1.3, 20, np.cos))\n",
    "assert np.isclose(0.8637247428586216, trapezoid(0.1, 1.3, 2000, np.cos))\n",
    "assert np.isclose(0.8637247687677736, trapezoid(0.1, 1.3, 200000, np.cos))\n",
    "### BEGIN HIDDEN TESTS\n",
    "assert np.isclose(-0.6314041984045735, trapezoid(0.1, 1.3, 20, np.log))\n",
    "assert np.isclose(-0.6286682238155742, trapezoid(0.1, 1.3, 2000, np.log))\n",
    "assert np.isclose(-0.6286679469205493, trapezoid(0.1, 1.3, 200000, np.log))\n",
    "### END HIDDEN TESTS"
   ]
  },
  {
   "cell_type": "code",
   "execution_count": null,
   "id": "f263a0e2",
   "metadata": {},
   "outputs": [],
   "source": []
  }
 ],
 "metadata": {
  "celltoolbar": "Create Assignment",
  "kernelspec": {
   "display_name": "Python 3 (ipykernel)",
   "language": "python",
   "name": "python3"
  },
  "language_info": {
   "codemirror_mode": {
    "name": "ipython",
    "version": 3
   },
   "file_extension": ".py",
   "mimetype": "text/x-python",
   "name": "python",
   "nbconvert_exporter": "python",
   "pygments_lexer": "ipython3",
   "version": "3.11.3"
  },
  "toc": {
   "base_numbering": 1,
   "nav_menu": {},
   "number_sections": true,
   "sideBar": true,
   "skip_h1_title": false,
   "title_cell": "Table of Contents",
   "title_sidebar": "Contents",
   "toc_cell": false,
   "toc_position": {},
   "toc_section_display": true,
   "toc_window_display": false
  },
  "varInspector": {
   "cols": {
    "lenName": 16,
    "lenType": 16,
    "lenVar": 40
   },
   "kernels_config": {
    "python": {
     "delete_cmd_postfix": "",
     "delete_cmd_prefix": "del ",
     "library": "var_list.py",
     "varRefreshCmd": "print(var_dic_list())"
    },
    "r": {
     "delete_cmd_postfix": ") ",
     "delete_cmd_prefix": "rm(",
     "library": "var_list.r",
     "varRefreshCmd": "cat(var_dic_list()) "
    }
   },
   "types_to_exclude": [
    "module",
    "function",
    "builtin_function_or_method",
    "instance",
    "_Feature"
   ],
   "window_display": false
  }
 },
 "nbformat": 4,
 "nbformat_minor": 5
}
